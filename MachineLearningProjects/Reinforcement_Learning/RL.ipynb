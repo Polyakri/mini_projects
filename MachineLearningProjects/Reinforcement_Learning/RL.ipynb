{
  "nbformat": 4,
  "nbformat_minor": 0,
  "metadata": {
    "colab": {
      "provenance": [],
      "gpuType": "T4",
      "include_colab_link": true
    },
    "kernelspec": {
      "name": "python3",
      "display_name": "Python 3"
    },
    "language_info": {
      "name": "python"
    },
    "accelerator": "GPU"
  },
  "cells": [
    {
      "cell_type": "markdown",
      "metadata": {
        "id": "view-in-github",
        "colab_type": "text"
      },
      "source": [
        "<a href=\"https://colab.research.google.com/github/Polyakri/projects/blob/main/MachineLearningProjects/Reinforcement_Learning/RL.ipynb\" target=\"_parent\"><img src=\"https://colab.research.google.com/assets/colab-badge.svg\" alt=\"Open In Colab\"/></a>"
      ]
    },
    {
      "cell_type": "code",
      "execution_count": null,
      "metadata": {
        "colab": {
          "base_uri": "https://localhost:8080/"
        },
        "id": "Icg_HpiGYa4Q",
        "outputId": "6169ee46-5c32-4dea-f39c-ab313b2dff87"
      },
      "outputs": [
        {
          "output_type": "stream",
          "name": "stdout",
          "text": [
            "Requirement already satisfied: swig in /usr/local/lib/python3.10/dist-packages (4.1.1.post1)\n",
            "Requirement already satisfied: gym[box2d] in /usr/local/lib/python3.10/dist-packages (0.25.2)\n",
            "Requirement already satisfied: numpy>=1.18.0 in /usr/local/lib/python3.10/dist-packages (from gym[box2d]) (1.23.5)\n",
            "Requirement already satisfied: cloudpickle>=1.2.0 in /usr/local/lib/python3.10/dist-packages (from gym[box2d]) (2.2.1)\n",
            "Requirement already satisfied: gym-notices>=0.0.4 in /usr/local/lib/python3.10/dist-packages (from gym[box2d]) (0.0.8)\n",
            "Requirement already satisfied: box2d-py==2.3.5 in /usr/local/lib/python3.10/dist-packages (from gym[box2d]) (2.3.5)\n",
            "Requirement already satisfied: pygame==2.1.0 in /usr/local/lib/python3.10/dist-packages (from gym[box2d]) (2.1.0)\n",
            "Requirement already satisfied: swig==4.* in /usr/local/lib/python3.10/dist-packages (from gym[box2d]) (4.1.1.post1)\n",
            "Requirement already satisfied: ray[rllib] in /usr/local/lib/python3.10/dist-packages (2.8.1)\n",
            "Requirement already satisfied: click>=7.0 in /usr/local/lib/python3.10/dist-packages (from ray[rllib]) (8.1.7)\n",
            "Requirement already satisfied: filelock in /usr/local/lib/python3.10/dist-packages (from ray[rllib]) (3.13.1)\n",
            "Requirement already satisfied: jsonschema in /usr/local/lib/python3.10/dist-packages (from ray[rllib]) (4.19.2)\n",
            "Requirement already satisfied: msgpack<2.0.0,>=1.0.0 in /usr/local/lib/python3.10/dist-packages (from ray[rllib]) (1.0.7)\n",
            "Requirement already satisfied: packaging in /usr/local/lib/python3.10/dist-packages (from ray[rllib]) (23.2)\n",
            "Requirement already satisfied: protobuf!=3.19.5,>=3.15.3 in /usr/local/lib/python3.10/dist-packages (from ray[rllib]) (3.20.3)\n",
            "Requirement already satisfied: pyyaml in /usr/local/lib/python3.10/dist-packages (from ray[rllib]) (6.0.1)\n",
            "Requirement already satisfied: aiosignal in /usr/local/lib/python3.10/dist-packages (from ray[rllib]) (1.3.1)\n",
            "Requirement already satisfied: frozenlist in /usr/local/lib/python3.10/dist-packages (from ray[rllib]) (1.4.0)\n",
            "Requirement already satisfied: requests in /usr/local/lib/python3.10/dist-packages (from ray[rllib]) (2.31.0)\n",
            "Requirement already satisfied: numpy>=1.19.3 in /usr/local/lib/python3.10/dist-packages (from ray[rllib]) (1.23.5)\n",
            "Requirement already satisfied: pandas in /usr/local/lib/python3.10/dist-packages (from ray[rllib]) (1.5.3)\n",
            "Requirement already satisfied: tensorboardX>=1.9 in /usr/local/lib/python3.10/dist-packages (from ray[rllib]) (2.6.2.2)\n",
            "Requirement already satisfied: pyarrow>=6.0.1 in /usr/local/lib/python3.10/dist-packages (from ray[rllib]) (10.0.1)\n",
            "Requirement already satisfied: fsspec in /usr/local/lib/python3.10/dist-packages (from ray[rllib]) (2023.6.0)\n",
            "Requirement already satisfied: dm-tree in /usr/local/lib/python3.10/dist-packages (from ray[rllib]) (0.1.8)\n",
            "Requirement already satisfied: gymnasium==0.28.1 in /usr/local/lib/python3.10/dist-packages (from ray[rllib]) (0.28.1)\n",
            "Requirement already satisfied: lz4 in /usr/local/lib/python3.10/dist-packages (from ray[rllib]) (4.3.2)\n",
            "Requirement already satisfied: scikit-image in /usr/local/lib/python3.10/dist-packages (from ray[rllib]) (0.19.3)\n",
            "Requirement already satisfied: scipy in /usr/local/lib/python3.10/dist-packages (from ray[rllib]) (1.11.4)\n",
            "Requirement already satisfied: typer in /usr/local/lib/python3.10/dist-packages (from ray[rllib]) (0.9.0)\n",
            "Requirement already satisfied: rich in /usr/local/lib/python3.10/dist-packages (from ray[rllib]) (13.7.0)\n",
            "Requirement already satisfied: jax-jumpy>=1.0.0 in /usr/local/lib/python3.10/dist-packages (from gymnasium==0.28.1->ray[rllib]) (1.0.0)\n",
            "Requirement already satisfied: cloudpickle>=1.2.0 in /usr/local/lib/python3.10/dist-packages (from gymnasium==0.28.1->ray[rllib]) (2.2.1)\n",
            "Requirement already satisfied: typing-extensions>=4.3.0 in /usr/local/lib/python3.10/dist-packages (from gymnasium==0.28.1->ray[rllib]) (4.5.0)\n",
            "Requirement already satisfied: farama-notifications>=0.0.1 in /usr/local/lib/python3.10/dist-packages (from gymnasium==0.28.1->ray[rllib]) (0.0.4)\n",
            "Requirement already satisfied: attrs>=22.2.0 in /usr/local/lib/python3.10/dist-packages (from jsonschema->ray[rllib]) (23.1.0)\n",
            "Requirement already satisfied: jsonschema-specifications>=2023.03.6 in /usr/local/lib/python3.10/dist-packages (from jsonschema->ray[rllib]) (2023.11.2)\n",
            "Requirement already satisfied: referencing>=0.28.4 in /usr/local/lib/python3.10/dist-packages (from jsonschema->ray[rllib]) (0.32.0)\n",
            "Requirement already satisfied: rpds-py>=0.7.1 in /usr/local/lib/python3.10/dist-packages (from jsonschema->ray[rllib]) (0.13.2)\n",
            "Requirement already satisfied: python-dateutil>=2.8.1 in /usr/local/lib/python3.10/dist-packages (from pandas->ray[rllib]) (2.8.2)\n",
            "Requirement already satisfied: pytz>=2020.1 in /usr/local/lib/python3.10/dist-packages (from pandas->ray[rllib]) (2023.3.post1)\n",
            "Requirement already satisfied: charset-normalizer<4,>=2 in /usr/local/lib/python3.10/dist-packages (from requests->ray[rllib]) (3.3.2)\n",
            "Requirement already satisfied: idna<4,>=2.5 in /usr/local/lib/python3.10/dist-packages (from requests->ray[rllib]) (3.6)\n",
            "Requirement already satisfied: urllib3<3,>=1.21.1 in /usr/local/lib/python3.10/dist-packages (from requests->ray[rllib]) (2.0.7)\n",
            "Requirement already satisfied: certifi>=2017.4.17 in /usr/local/lib/python3.10/dist-packages (from requests->ray[rllib]) (2023.11.17)\n",
            "Requirement already satisfied: markdown-it-py>=2.2.0 in /usr/local/lib/python3.10/dist-packages (from rich->ray[rllib]) (3.0.0)\n",
            "Requirement already satisfied: pygments<3.0.0,>=2.13.0 in /usr/local/lib/python3.10/dist-packages (from rich->ray[rllib]) (2.16.1)\n",
            "Requirement already satisfied: networkx>=2.2 in /usr/local/lib/python3.10/dist-packages (from scikit-image->ray[rllib]) (3.2.1)\n",
            "Requirement already satisfied: pillow!=7.1.0,!=7.1.1,!=8.3.0,>=6.1.0 in /usr/local/lib/python3.10/dist-packages (from scikit-image->ray[rllib]) (9.4.0)\n",
            "Requirement already satisfied: imageio>=2.4.1 in /usr/local/lib/python3.10/dist-packages (from scikit-image->ray[rllib]) (2.31.6)\n",
            "Requirement already satisfied: tifffile>=2019.7.26 in /usr/local/lib/python3.10/dist-packages (from scikit-image->ray[rllib]) (2023.12.9)\n",
            "Requirement already satisfied: PyWavelets>=1.1.1 in /usr/local/lib/python3.10/dist-packages (from scikit-image->ray[rllib]) (1.5.0)\n",
            "Requirement already satisfied: mdurl~=0.1 in /usr/local/lib/python3.10/dist-packages (from markdown-it-py>=2.2.0->rich->ray[rllib]) (0.1.2)\n",
            "Requirement already satisfied: six>=1.5 in /usr/local/lib/python3.10/dist-packages (from python-dateutil>=2.8.1->pandas->ray[rllib]) (1.16.0)\n",
            "Requirement already satisfied: renderlab in /usr/local/lib/python3.10/dist-packages (0.1.20230421184216)\n",
            "Requirement already satisfied: moviepy in /usr/local/lib/python3.10/dist-packages (from renderlab) (1.0.3)\n",
            "Requirement already satisfied: gymnasium in /usr/local/lib/python3.10/dist-packages (from renderlab) (0.28.1)\n",
            "Requirement already satisfied: numpy>=1.21.0 in /usr/local/lib/python3.10/dist-packages (from gymnasium->renderlab) (1.23.5)\n",
            "Requirement already satisfied: jax-jumpy>=1.0.0 in /usr/local/lib/python3.10/dist-packages (from gymnasium->renderlab) (1.0.0)\n",
            "Requirement already satisfied: cloudpickle>=1.2.0 in /usr/local/lib/python3.10/dist-packages (from gymnasium->renderlab) (2.2.1)\n",
            "Requirement already satisfied: typing-extensions>=4.3.0 in /usr/local/lib/python3.10/dist-packages (from gymnasium->renderlab) (4.5.0)\n",
            "Requirement already satisfied: farama-notifications>=0.0.1 in /usr/local/lib/python3.10/dist-packages (from gymnasium->renderlab) (0.0.4)\n",
            "Requirement already satisfied: decorator<5.0,>=4.0.2 in /usr/local/lib/python3.10/dist-packages (from moviepy->renderlab) (4.4.2)\n",
            "Requirement already satisfied: tqdm<5.0,>=4.11.2 in /usr/local/lib/python3.10/dist-packages (from moviepy->renderlab) (4.66.1)\n",
            "Requirement already satisfied: requests<3.0,>=2.8.1 in /usr/local/lib/python3.10/dist-packages (from moviepy->renderlab) (2.31.0)\n",
            "Requirement already satisfied: proglog<=1.0.0 in /usr/local/lib/python3.10/dist-packages (from moviepy->renderlab) (0.1.10)\n",
            "Requirement already satisfied: imageio<3.0,>=2.5 in /usr/local/lib/python3.10/dist-packages (from moviepy->renderlab) (2.31.6)\n",
            "Requirement already satisfied: imageio-ffmpeg>=0.2.0 in /usr/local/lib/python3.10/dist-packages (from moviepy->renderlab) (0.4.9)\n",
            "Requirement already satisfied: pillow<10.1.0,>=8.3.2 in /usr/local/lib/python3.10/dist-packages (from imageio<3.0,>=2.5->moviepy->renderlab) (9.4.0)\n",
            "Requirement already satisfied: setuptools in /usr/local/lib/python3.10/dist-packages (from imageio-ffmpeg>=0.2.0->moviepy->renderlab) (67.7.2)\n",
            "Requirement already satisfied: charset-normalizer<4,>=2 in /usr/local/lib/python3.10/dist-packages (from requests<3.0,>=2.8.1->moviepy->renderlab) (3.3.2)\n",
            "Requirement already satisfied: idna<4,>=2.5 in /usr/local/lib/python3.10/dist-packages (from requests<3.0,>=2.8.1->moviepy->renderlab) (3.6)\n",
            "Requirement already satisfied: urllib3<3,>=1.21.1 in /usr/local/lib/python3.10/dist-packages (from requests<3.0,>=2.8.1->moviepy->renderlab) (2.0.7)\n",
            "Requirement already satisfied: certifi>=2017.4.17 in /usr/local/lib/python3.10/dist-packages (from requests<3.0,>=2.8.1->moviepy->renderlab) (2023.11.17)\n"
          ]
        }
      ],
      "source": [
        "!pip install swig\n",
        "!pip install gym[box2d]\n",
        "!pip install ray[rllib]\n",
        "!pip install renderlab"
      ]
    },
    {
      "cell_type": "markdown",
      "source": [
        "    reset:\n",
        "        This method is used to reset the environment to its initial state. It's typically called at the beginning of an episode or whenever you want to start a new simulation.\n",
        "\n",
        "    step:\n",
        "        The step method is used to advance the simulation by one time step. It takes an action as input, processes the environment dynamics, and returns the new state, reward, and other information.\n",
        "\n",
        "    render:\n",
        "        The render method is used to visualize the current state of the environment. It's helpful for debugging and understanding how your agent interacts with the environment. However, note that rendering might not be necessary for training, and some environments can be run without visualization."
      ],
      "metadata": {
        "id": "GtKoskBQaATS"
      }
    },
    {
      "cell_type": "markdown",
      "source": [
        "Action Space\n",
        "There are four discrete actions available: do nothing, fire left orientation engine, fire main engine, fire right orientation engine.\n",
        "\n",
        "Observation Space\n",
        "The state is an 8-dimensional vector: the coordinates of the lander in x & y, its linear velocities in x & y, its angle, its angular velocity, and two booleans that represent whether each leg is in contact with the ground or not."
      ],
      "metadata": {
        "id": "tUlwXuy9bIPo"
      }
    },
    {
      "cell_type": "code",
      "source": [
        "import matplotlib.pyplot as plt\n",
        "import gymnasium as gym\n",
        "import ray\n",
        "from ray.rllib.algorithms.ppo import PPOConfig"
      ],
      "metadata": {
        "id": "0ftEtFk0Y9Au"
      },
      "execution_count": null,
      "outputs": []
    },
    {
      "cell_type": "code",
      "source": [
        "ray.shutdown ()\n",
        "ray.init ()\n",
        "\n",
        "config = PPOConfig()\n",
        "config.use_critic= True\n",
        "config.use_gae = True\n",
        "config.lambda_ = 0.95\n",
        "config.use_kl_loss = True\n",
        "config.sgd_minibatch_size =32\n",
        "config.num_sgd_iter = 30\n",
        "config.shuffle_sequences = True\n",
        "config.vf_loss_coeff = 0.5\n",
        "config.entropy_coeff = 0.001\n",
        "config.clip_param = 0.2\n",
        "\n",
        "agent = config.environment('LunarLander-v2').framework(framework ='tf').build()\n",
        "agent.get_policy().model.base_model.summary (expand_nested=True)"
      ],
      "metadata": {
        "colab": {
          "base_uri": "https://localhost:8080/"
        },
        "id": "poYhaR_BcGkD",
        "outputId": "28b32727-aca4-4764-a3bc-75b6a319c6ee"
      },
      "execution_count": null,
      "outputs": [
        {
          "output_type": "stream",
          "name": "stderr",
          "text": [
            "2023-12-18 17:37:23,711\tINFO worker.py:1673 -- Started a local Ray instance.\n",
            "/usr/local/lib/python3.10/dist-packages/ray/rllib/algorithms/algorithm.py:484: RayDeprecationWarning: This API is deprecated and may be removed in future Ray releases. You could suppress this warning by setting env variable PYTHONWARNINGS=\"ignore::DeprecationWarning\"\n",
            "`UnifiedLogger` will be removed in Ray 2.7.\n",
            "  return UnifiedLogger(config, logdir, loggers=None)\n",
            "/usr/local/lib/python3.10/dist-packages/ray/tune/logger/unified.py:53: RayDeprecationWarning: This API is deprecated and may be removed in future Ray releases. You could suppress this warning by setting env variable PYTHONWARNINGS=\"ignore::DeprecationWarning\"\n",
            "The `JsonLogger interface is deprecated in favor of the `ray.tune.json.JsonLoggerCallback` interface and will be removed in Ray 2.7.\n",
            "  self._loggers.append(cls(self.config, self.logdir, self.trial))\n",
            "/usr/local/lib/python3.10/dist-packages/ray/tune/logger/unified.py:53: RayDeprecationWarning: This API is deprecated and may be removed in future Ray releases. You could suppress this warning by setting env variable PYTHONWARNINGS=\"ignore::DeprecationWarning\"\n",
            "The `CSVLogger interface is deprecated in favor of the `ray.tune.csv.CSVLoggerCallback` interface and will be removed in Ray 2.7.\n",
            "  self._loggers.append(cls(self.config, self.logdir, self.trial))\n",
            "/usr/local/lib/python3.10/dist-packages/ray/tune/logger/unified.py:53: RayDeprecationWarning: This API is deprecated and may be removed in future Ray releases. You could suppress this warning by setting env variable PYTHONWARNINGS=\"ignore::DeprecationWarning\"\n",
            "The `TBXLogger interface is deprecated in favor of the `ray.tune.tensorboardx.TBXLoggerCallback` interface and will be removed in Ray 2.7.\n",
            "  self._loggers.append(cls(self.config, self.logdir, self.trial))\n",
            "\u001b[36m(pid=6804)\u001b[0m /usr/local/lib/python3.10/dist-packages/flax/configurations.py:42: DeprecationWarning: jax.config.define_bool_state is deprecated. Please use other libraries for configuration instead.\n",
            "\u001b[36m(pid=6804)\u001b[0m   return jax_config.define_bool_state('flax_' + name, default, help)\n",
            "\u001b[36m(pid=6804)\u001b[0m /usr/local/lib/python3.10/dist-packages/tensorflow_probability/python/__init__.py:57: DeprecationWarning: distutils Version classes are deprecated. Use packaging.version instead.\n",
            "\u001b[36m(pid=6804)\u001b[0m   if (distutils.version.LooseVersion(tf.__version__) <\n",
            "\u001b[36m(RolloutWorker pid=6804)\u001b[0m 2023-12-18 17:37:47,821\tWARNING __init__.py:10 -- PG has/have been moved to `rllib_contrib` and will no longer be maintained by the RLlib team. You can still use it/them normally inside RLlib util Ray 2.8, but from Ray 2.9 on, all `rllib_contrib` algorithms will no longer be part of the core repo, and will therefore have to be installed separately with pinned dependencies for e.g. ray[rllib] and other packages! See https://github.com/ray-project/ray/tree/master/rllib_contrib#rllib-contrib for more information on the RLlib contrib effort.\n",
            "\u001b[36m(RolloutWorker pid=6804)\u001b[0m 2023-12-18 17:37:47,900\tWARNING deprecation.py:50 -- DeprecationWarning: `ray.rllib.models.tf.fcnet.FullyConnectedNetwork` has been deprecated. This will raise an error in the future!\n",
            "\u001b[36m(RolloutWorker pid=6804)\u001b[0m 2023-12-18 17:37:47,917\tWARNING deprecation.py:50 -- DeprecationWarning: `ray.rllib.models.tf.misc.normc_initializer` has been deprecated. This will raise an error in the future!\n",
            "2023-12-18 17:37:50,129\tINFO trainable.py:164 -- Trainable.setup took 23.138 seconds. If your trainable is slow to initialize, consider setting reuse_actors=True to reduce actor creation overheads.\n",
            "2023-12-18 17:37:50,131\tWARNING util.py:62 -- Install gputil for GPU system monitoring.\n"
          ]
        },
        {
          "output_type": "stream",
          "name": "stdout",
          "text": [
            "Model: \"model\"\n",
            "__________________________________________________________________________________________________\n",
            " Layer (type)                Output Shape                 Param #   Connected to                  \n",
            "==================================================================================================\n",
            " observations (InputLayer)   [(None, 8)]                  0         []                            \n",
            "                                                                                                  \n",
            " fc_1 (Dense)                (None, 256)                  2304      ['observations[0][0]']        \n",
            "                                                                                                  \n",
            " fc_value_1 (Dense)          (None, 256)                  2304      ['observations[0][0]']        \n",
            "                                                                                                  \n",
            " fc_2 (Dense)                (None, 256)                  65792     ['fc_1[0][0]']                \n",
            "                                                                                                  \n",
            " fc_value_2 (Dense)          (None, 256)                  65792     ['fc_value_1[0][0]']          \n",
            "                                                                                                  \n",
            " fc_out (Dense)              (None, 4)                    1028      ['fc_2[0][0]']                \n",
            "                                                                                                  \n",
            " value_out (Dense)           (None, 1)                    257       ['fc_value_2[0][0]']          \n",
            "                                                                                                  \n",
            "==================================================================================================\n",
            "Total params: 137477 (537.02 KB)\n",
            "Trainable params: 137477 (537.02 KB)\n",
            "Non-trainable params: 0 (0.00 Byte)\n",
            "__________________________________________________________________________________________________\n"
          ]
        }
      ]
    },
    {
      "cell_type": "code",
      "source": [
        "train_iterations = 100\n",
        "average_rewards_per_iteration = []\n",
        "\n",
        "for i in range (train_iterations):\n",
        "  log = agent.train()\n",
        "  average_rewards = log['sampler_results']['episode_reward_mean']\n",
        "  average_rewards_per_iteration.append(average_rewards)\n",
        "\n",
        "  print (f'Iteration {i+1}, Average Rewards: {average_rewards}')\n",
        "\n",
        "\n",
        "plt.plot(average_rewards_per_iteration)\n",
        "plt.title('PPO Lunar Lander-v2')\n",
        "plt.xlabel('Iterations')\n",
        "plt.ylabel('Average Rewards')\n",
        "plt.show ()"
      ],
      "metadata": {
        "colab": {
          "base_uri": "https://localhost:8080/",
          "height": 1000
        },
        "id": "_REe2wzPcGdO",
        "outputId": "130dbf9e-9bc0-47ed-caf7-157b698b49c3"
      },
      "execution_count": null,
      "outputs": [
        {
          "output_type": "stream",
          "name": "stdout",
          "text": [
            "Iteration 1, Average Rewards: -172.55434469397358\n",
            "Iteration 2, Average Rewards: -167.7786721789678\n",
            "Iteration 3, Average Rewards: -155.3502764783689\n",
            "Iteration 4, Average Rewards: -139.36606711067563\n",
            "Iteration 5, Average Rewards: -132.13601424670708\n",
            "Iteration 6, Average Rewards: -121.93501478778403\n",
            "Iteration 7, Average Rewards: -103.34188934692226\n",
            "Iteration 8, Average Rewards: -85.11679579959497\n",
            "Iteration 9, Average Rewards: -68.3481583496564\n",
            "Iteration 10, Average Rewards: -53.95665930386476\n",
            "Iteration 11, Average Rewards: -50.66739340241608\n",
            "Iteration 12, Average Rewards: -47.984981033716686\n",
            "Iteration 13, Average Rewards: -41.25863284877606\n",
            "Iteration 14, Average Rewards: -32.523174808147914\n",
            "Iteration 15, Average Rewards: -31.9494259601465\n",
            "Iteration 16, Average Rewards: -26.231964230198933\n",
            "Iteration 17, Average Rewards: -17.48745716761956\n",
            "Iteration 18, Average Rewards: -12.721771418089837\n",
            "Iteration 19, Average Rewards: -11.58113820801016\n",
            "Iteration 20, Average Rewards: -5.776719386345116\n",
            "Iteration 21, Average Rewards: -2.441972313100188\n",
            "Iteration 22, Average Rewards: 4.669395807399886\n",
            "Iteration 23, Average Rewards: 10.433413060751928\n",
            "Iteration 24, Average Rewards: 16.87909201556862\n",
            "Iteration 25, Average Rewards: 22.13203734959372\n",
            "Iteration 26, Average Rewards: 26.238458303355692\n",
            "Iteration 27, Average Rewards: 32.09577290370068\n",
            "Iteration 28, Average Rewards: 40.099043523481484\n",
            "Iteration 29, Average Rewards: 42.70602536561571\n",
            "Iteration 30, Average Rewards: 48.70150403023848\n",
            "Iteration 31, Average Rewards: 55.22099886553509\n",
            "Iteration 32, Average Rewards: 59.60461114790671\n",
            "Iteration 33, Average Rewards: 68.76349559266188\n",
            "Iteration 34, Average Rewards: 70.07865189858154\n",
            "Iteration 35, Average Rewards: 76.66637330472929\n",
            "Iteration 36, Average Rewards: 86.74010838714875\n",
            "Iteration 37, Average Rewards: 84.95353520873016\n",
            "Iteration 38, Average Rewards: 81.70407640156728\n",
            "Iteration 39, Average Rewards: 83.2171722272657\n",
            "Iteration 40, Average Rewards: 89.13453185867458\n",
            "Iteration 41, Average Rewards: 88.00461745165617\n",
            "Iteration 42, Average Rewards: 88.47651715892277\n",
            "Iteration 43, Average Rewards: 90.50597070282787\n",
            "Iteration 44, Average Rewards: 94.16829525604433\n",
            "Iteration 45, Average Rewards: 94.2440915883224\n",
            "Iteration 46, Average Rewards: 96.15010950121003\n",
            "Iteration 47, Average Rewards: 96.62192665841994\n",
            "Iteration 48, Average Rewards: 96.88819762913546\n",
            "Iteration 49, Average Rewards: 100.1617039755085\n",
            "Iteration 50, Average Rewards: 100.16452463477995\n",
            "Iteration 51, Average Rewards: 99.13919256682613\n",
            "Iteration 52, Average Rewards: 96.2294096917899\n",
            "Iteration 53, Average Rewards: 94.59961838627319\n",
            "Iteration 54, Average Rewards: 91.59693295995802\n",
            "Iteration 55, Average Rewards: 87.78548244241124\n",
            "Iteration 56, Average Rewards: 88.88330010928885\n",
            "Iteration 57, Average Rewards: 91.95243368304459\n",
            "Iteration 58, Average Rewards: 90.27708721910682\n",
            "Iteration 59, Average Rewards: 94.35862223048532\n",
            "Iteration 60, Average Rewards: 94.40906259691097\n",
            "Iteration 61, Average Rewards: 94.56938072728948\n",
            "Iteration 62, Average Rewards: 96.85048810700751\n",
            "Iteration 63, Average Rewards: 92.98368276153444\n",
            "Iteration 64, Average Rewards: 93.8862957660373\n",
            "Iteration 65, Average Rewards: 94.62444373631172\n",
            "Iteration 66, Average Rewards: 97.55183852012156\n",
            "Iteration 67, Average Rewards: 99.19991532407235\n",
            "Iteration 68, Average Rewards: 105.95752337437263\n",
            "Iteration 69, Average Rewards: 107.08244755771884\n",
            "Iteration 70, Average Rewards: 109.32165070471687\n",
            "Iteration 71, Average Rewards: 102.17271891146429\n",
            "Iteration 72, Average Rewards: 107.08961093163714\n",
            "Iteration 73, Average Rewards: 107.37386421141099\n",
            "Iteration 74, Average Rewards: 105.56047631939174\n",
            "Iteration 75, Average Rewards: 96.80424579869768\n",
            "Iteration 76, Average Rewards: 94.49250852457965\n",
            "Iteration 77, Average Rewards: 91.41931457294078\n",
            "Iteration 78, Average Rewards: 94.95492300980167\n",
            "Iteration 79, Average Rewards: 91.34428107054524\n",
            "Iteration 80, Average Rewards: 90.69729825989606\n",
            "Iteration 81, Average Rewards: 80.38195299746714\n",
            "Iteration 82, Average Rewards: 74.42442810018619\n",
            "Iteration 83, Average Rewards: 73.89645297525705\n",
            "Iteration 84, Average Rewards: 76.72224442507427\n",
            "Iteration 85, Average Rewards: 76.63175629181062\n",
            "Iteration 86, Average Rewards: 76.94530200657442\n",
            "Iteration 87, Average Rewards: 77.19826597137241\n",
            "Iteration 88, Average Rewards: 79.07732982584834\n",
            "Iteration 89, Average Rewards: 81.33068519218669\n",
            "Iteration 90, Average Rewards: 86.3855785032076\n",
            "Iteration 91, Average Rewards: 85.69619674486687\n",
            "Iteration 92, Average Rewards: 86.26957246392224\n",
            "Iteration 93, Average Rewards: 90.34511924202114\n",
            "Iteration 94, Average Rewards: 90.86901047860114\n",
            "Iteration 95, Average Rewards: 91.76317658340744\n",
            "Iteration 96, Average Rewards: 97.10680884231697\n",
            "Iteration 97, Average Rewards: 97.90542196488157\n",
            "Iteration 98, Average Rewards: 104.15243312789248\n",
            "Iteration 99, Average Rewards: 102.95007701525776\n",
            "Iteration 100, Average Rewards: 103.41708603370742\n"
          ]
        },
        {
          "output_type": "display_data",
          "data": {
            "text/plain": [
              "<Figure size 640x480 with 1 Axes>"
            ],
            "image/png": "[encoded data removed]"
          },
          "metadata": {}
        }
      ]
    },
    {
      "cell_type": "markdown",
      "source": [
        "We can see that the model is training because the rewards are going higher as the iterations go forward"
      ],
      "metadata": {
        "id": "wxEUvJNnz7_k"
      }
    },
    {
      "cell_type": "code",
      "source": [
        "import renderlab as rl\n",
        "\n",
        "env = gym.make(\"LunarLander-v2\", render_mode=\"rgb_array\")\n",
        "env = rl.RenderFrame  (env, \"./output\")\n",
        "\n",
        "observation , info = env.reset ()\n",
        "\n",
        "while True:\n",
        "  action = env.action_space.sample ()\n",
        "  observation, reward, terminated, truncated, info = env.step (action)\n",
        "\n",
        "  if terminated or truncated:\n",
        "    break\n",
        "\n",
        "env.play()"
      ],
      "metadata": {
        "colab": {
          "base_uri": "https://localhost:8080/",
          "height": 582
        },
        "id": "NG4Q0K-AI3mp",
        "outputId": "c651c14d-c07d-4ece-8184-28a475aacbaf"
      },
      "execution_count": null,
      "outputs": [
        {
          "output_type": "stream",
          "name": "stdout",
          "text": [
            "Moviepy - Building video temp-{start}.mp4.\n",
            "Moviepy - Writing video temp-{start}.mp4\n",
            "\n"
          ]
        },
        {
          "output_type": "stream",
          "name": "stderr",
          "text": [
            "t:  85%|████████▌ | 102/120 [00:00<00:00, 262.57it/s, now=None]WARNING:py.warnings:/usr/local/lib/python3.10/dist-packages/moviepy/video/io/ffmpeg_reader.py:123: UserWarning: Warning: in file ./output/1702923955.241336.mp4, 720000 bytes wanted but 0 bytes read,at frame 119/120, at time 3.97/3.97 sec. Using the last valid frame instead.\n",
            "  warnings.warn(\"Warning: in file %s, \"%(self.filename)+\n",
            "\n"
          ]
        },
        {
          "output_type": "stream",
          "name": "stdout",
          "text": [
            "Moviepy - Done !\n",
            "Moviepy - video ready temp-{start}.mp4\n"
          ]
        },
        {
          "output_type": "display_data",
          "data": {
            "text/plain": [
              "<IPython.core.display.Video object>"
            ],
            "text/html": [
              "<video controls  >\n",
              " <source src=\"data:video/mp4;base64,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\" type=\"video/mp4\">\n",
              " Your browser does not support the video tag.\n",
              " </video>"
            ]
          },
          "metadata": {}
        }
      ]
    },
    {
      "cell_type": "markdown",
      "source": [],
      "metadata": {
        "id": "VocZCNsl_bBv"
      }
    }
  ]
}