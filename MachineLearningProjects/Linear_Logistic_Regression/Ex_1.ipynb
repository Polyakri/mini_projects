{
  "nbformat": 4,
  "nbformat_minor": 0,
  "metadata": {
    "colab": {
      "provenance": [],
      "include_colab_link": true
    },
    "kernelspec": {
      "name": "python3",
      "display_name": "Python 3"
    },
    "language_info": {
      "name": "python"
    }
  },
  "cells": [
    {
      "cell_type": "markdown",
      "metadata": {
        "id": "view-in-github",
        "colab_type": "text"
      },
      "source": [
        "<a href=\"https://colab.research.google.com/github/Polyakri/projects/blob/main/Ex_1_Polydoros_Akritidis.ipynb\" target=\"_parent\"><img src=\"https://colab.research.google.com/assets/colab-badge.svg\" alt=\"Open In Colab\"/></a>"
      ]
    },
    {
      "cell_type": "markdown",
      "source": [
        "# Ex1. Logistic Regression"
      ],
      "metadata": {
        "id": "zcFqpERjEY_l"
      }
    },
    {
      "cell_type": "markdown",
      "source": [
        "# Import Libraries"
      ],
      "metadata": {
        "id": "328Zl6T8ENi-"
      }
    },
    {
      "cell_type": "code",
      "execution_count": null,
      "metadata": {
        "id": "jSXT_AE0EAra"
      },
      "outputs": [],
      "source": [
        "import numpy as np\n",
        "import pandas as pd\n",
        "from sklearn.linear_model import LinearRegression\n",
        "from sklearn.linear_model import LogisticRegression\n",
        "from sklearn.model_selection import train_test_split\n",
        "from sklearn.metrics import accuracy_score, confusion_matrix, mean_absolute_error\n",
        "import matplotlib.pyplot as plt\n",
        "from sklearn.linear_model import SGDRegressor"
      ]
    },
    {
      "cell_type": "markdown",
      "source": [
        "# Load Dataset to DataFrame"
      ],
      "metadata": {
        "id": "TiKk4DKlEO6l"
      }
    },
    {
      "cell_type": "code",
      "source": [
        "df = pd.read_csv(\"diabetes.csv\")\n",
        "df"
      ],
      "metadata": {
        "id": "D9xfPUvkEPkt",
        "colab": {
          "base_uri": "https://localhost:8080/",
          "height": 424
        },
        "outputId": "1f756f65-7066-422b-bb3d-da5526ce75da"
      },
      "execution_count": null,
      "outputs": [
        {
          "output_type": "execute_result",
          "data": {
            "text/plain": [
              "     Pregnancies  Glucose  BloodPressure  SkinThickness  Insulin   BMI  \\\n",
              "0              6      148             72             35        0  33.6   \n",
              "1              1       85             66             29        0  26.6   \n",
              "2              8      183             64              0        0  23.3   \n",
              "3              1       89             66             23       94  28.1   \n",
              "4              0      137             40             35      168  43.1   \n",
              "..           ...      ...            ...            ...      ...   ...   \n",
              "763           10      101             76             48      180  32.9   \n",
              "764            2      122             70             27        0  36.8   \n",
              "765            5      121             72             23      112  26.2   \n",
              "766            1      126             60              0        0  30.1   \n",
              "767            1       93             70             31        0  30.4   \n",
              "\n",
              "     DiabetesPedigreeFunction  Age  Outcome  \n",
              "0                       0.627   50        1  \n",
              "1                       0.351   31        0  \n",
              "2                       0.672   32        1  \n",
              "3                       0.167   21        0  \n",
              "4                       2.288   33        1  \n",
              "..                        ...  ...      ...  \n",
              "763                     0.171   63        0  \n",
              "764                     0.340   27        0  \n",
              "765                     0.245   30        0  \n",
              "766                     0.349   47        1  \n",
              "767                     0.315   23        0  \n",
              "\n",
              "[768 rows x 9 columns]"
            ],
            "text/html": [
              "\n",
              "  <div id=\"df-c0a03097-7277-46cf-8467-8b181cedb5a5\" class=\"colab-df-container\">\n",
              "    <div>\n",
              "<style scoped>\n",
              "    .dataframe tbody tr th:only-of-type {\n",
              "        vertical-align: middle;\n",
              "    }\n",
              "\n",
              "    .dataframe tbody tr th {\n",
              "        vertical-align: top;\n",
              "    }\n",
              "\n",
              "    .dataframe thead th {\n",
              "        text-align: right;\n",
              "    }\n",
              "</style>\n",
              "<table border=\"1\" class=\"dataframe\">\n",
              "  <thead>\n",
              "    <tr style=\"text-align: right;\">\n",
              "      <th></th>\n",
              "      <th>Pregnancies</th>\n",
              "      <th>Glucose</th>\n",
              "      <th>BloodPressure</th>\n",
              "      <th>SkinThickness</th>\n",
              "      <th>Insulin</th>\n",
              "      <th>BMI</th>\n",
              "      <th>DiabetesPedigreeFunction</th>\n",
              "      <th>Age</th>\n",
              "      <th>Outcome</th>\n",
              "    </tr>\n",
              "  </thead>\n",
              "  <tbody>\n",
              "    <tr>\n",
              "      <th>0</th>\n",
              "      <td>6</td>\n",
              "      <td>148</td>\n",
              "      <td>72</td>\n",
              "      <td>35</td>\n",
              "      <td>0</td>\n",
              "      <td>33.6</td>\n",
              "      <td>0.627</td>\n",
              "      <td>50</td>\n",
              "      <td>1</td>\n",
              "    </tr>\n",
              "    <tr>\n",
              "      <th>1</th>\n",
              "      <td>1</td>\n",
              "      <td>85</td>\n",
              "      <td>66</td>\n",
              "      <td>29</td>\n",
              "      <td>0</td>\n",
              "      <td>26.6</td>\n",
              "      <td>0.351</td>\n",
              "      <td>31</td>\n",
              "      <td>0</td>\n",
              "    </tr>\n",
              "    <tr>\n",
              "      <th>2</th>\n",
              "      <td>8</td>\n",
              "      <td>183</td>\n",
              "      <td>64</td>\n",
              "      <td>0</td>\n",
              "      <td>0</td>\n",
              "      <td>23.3</td>\n",
              "      <td>0.672</td>\n",
              "      <td>32</td>\n",
              "      <td>1</td>\n",
              "    </tr>\n",
              "    <tr>\n",
              "      <th>3</th>\n",
              "      <td>1</td>\n",
              "      <td>89</td>\n",
              "      <td>66</td>\n",
              "      <td>23</td>\n",
              "      <td>94</td>\n",
              "      <td>28.1</td>\n",
              "      <td>0.167</td>\n",
              "      <td>21</td>\n",
              "      <td>0</td>\n",
              "    </tr>\n",
              "    <tr>\n",
              "      <th>4</th>\n",
              "      <td>0</td>\n",
              "      <td>137</td>\n",
              "      <td>40</td>\n",
              "      <td>35</td>\n",
              "      <td>168</td>\n",
              "      <td>43.1</td>\n",
              "      <td>2.288</td>\n",
              "      <td>33</td>\n",
              "      <td>1</td>\n",
              "    </tr>\n",
              "    <tr>\n",
              "      <th>...</th>\n",
              "      <td>...</td>\n",
              "      <td>...</td>\n",
              "      <td>...</td>\n",
              "      <td>...</td>\n",
              "      <td>...</td>\n",
              "      <td>...</td>\n",
              "      <td>...</td>\n",
              "      <td>...</td>\n",
              "      <td>...</td>\n",
              "    </tr>\n",
              "    <tr>\n",
              "      <th>763</th>\n",
              "      <td>10</td>\n",
              "      <td>101</td>\n",
              "      <td>76</td>\n",
              "      <td>48</td>\n",
              "      <td>180</td>\n",
              "      <td>32.9</td>\n",
              "      <td>0.171</td>\n",
              "      <td>63</td>\n",
              "      <td>0</td>\n",
              "    </tr>\n",
              "    <tr>\n",
              "      <th>764</th>\n",
              "      <td>2</td>\n",
              "      <td>122</td>\n",
              "      <td>70</td>\n",
              "      <td>27</td>\n",
              "      <td>0</td>\n",
              "      <td>36.8</td>\n",
              "      <td>0.340</td>\n",
              "      <td>27</td>\n",
              "      <td>0</td>\n",
              "    </tr>\n",
              "    <tr>\n",
              "      <th>765</th>\n",
              "      <td>5</td>\n",
              "      <td>121</td>\n",
              "      <td>72</td>\n",
              "      <td>23</td>\n",
              "      <td>112</td>\n",
              "      <td>26.2</td>\n",
              "      <td>0.245</td>\n",
              "      <td>30</td>\n",
              "      <td>0</td>\n",
              "    </tr>\n",
              "    <tr>\n",
              "      <th>766</th>\n",
              "      <td>1</td>\n",
              "      <td>126</td>\n",
              "      <td>60</td>\n",
              "      <td>0</td>\n",
              "      <td>0</td>\n",
              "      <td>30.1</td>\n",
              "      <td>0.349</td>\n",
              "      <td>47</td>\n",
              "      <td>1</td>\n",
              "    </tr>\n",
              "    <tr>\n",
              "      <th>767</th>\n",
              "      <td>1</td>\n",
              "      <td>93</td>\n",
              "      <td>70</td>\n",
              "      <td>31</td>\n",
              "      <td>0</td>\n",
              "      <td>30.4</td>\n",
              "      <td>0.315</td>\n",
              "      <td>23</td>\n",
              "      <td>0</td>\n",
              "    </tr>\n",
              "  </tbody>\n",
              "</table>\n",
              "<p>768 rows × 9 columns</p>\n",
              "</div>\n",
              "    <div class=\"colab-df-buttons\">\n",
              "\n",
              "  <div class=\"colab-df-container\">\n",
              "    <button class=\"colab-df-convert\" onclick=\"convertToInteractive('df-c0a03097-7277-46cf-8467-8b181cedb5a5')\"\n",
              "            title=\"Convert this dataframe to an interactive table.\"\n",
              "            style=\"display:none;\">\n",
              "\n",
              "  <svg xmlns=\"http://www.w3.org/2000/svg\" height=\"24px\" viewBox=\"0 -960 960 960\">\n",
              "    <path d=\"M120-120v-720h720v720H120Zm60-500h600v-160H180v160Zm220 220h160v-160H400v160Zm0 220h160v-160H400v160ZM180-400h160v-160H180v160Zm440 0h160v-160H620v160ZM180-180h160v-160H180v160Zm440 0h160v-160H620v160Z\"/>\n",
              "  </svg>\n",
              "    </button>\n",
              "\n",
              "  <style>\n",
              "    .colab-df-container {\n",
              "      display:flex;\n",
              "      gap: 12px;\n",
              "    }\n",
              "\n",
              "    .colab-df-convert {\n",
              "      background-color: #E8F0FE;\n",
              "      border: none;\n",
              "      border-radius: 50%;\n",
              "      cursor: pointer;\n",
              "      display: none;\n",
              "      fill: #1967D2;\n",
              "      height: 32px;\n",
              "      padding: 0 0 0 0;\n",
              "      width: 32px;\n",
              "    }\n",
              "\n",
              "    .colab-df-convert:hover {\n",
              "      background-color: #E2EBFA;\n",
              "      box-shadow: 0px 1px 2px rgba(60, 64, 67, 0.3), 0px 1px 3px 1px rgba(60, 64, 67, 0.15);\n",
              "      fill: #174EA6;\n",
              "    }\n",
              "\n",
              "    .colab-df-buttons div {\n",
              "      margin-bottom: 4px;\n",
              "    }\n",
              "\n",
              "    [theme=dark] .colab-df-convert {\n",
              "      background-color: #3B4455;\n",
              "      fill: #D2E3FC;\n",
              "    }\n",
              "\n",
              "    [theme=dark] .colab-df-convert:hover {\n",
              "      background-color: #434B5C;\n",
              "      box-shadow: 0px 1px 3px 1px rgba(0, 0, 0, 0.15);\n",
              "      filter: drop-shadow(0px 1px 2px rgba(0, 0, 0, 0.3));\n",
              "      fill: #FFFFFF;\n",
              "    }\n",
              "  </style>\n",
              "\n",
              "    <script>\n",
              "      const buttonEl =\n",
              "        document.querySelector('#df-c0a03097-7277-46cf-8467-8b181cedb5a5 button.colab-df-convert');\n",
              "      buttonEl.style.display =\n",
              "        google.colab.kernel.accessAllowed ? 'block' : 'none';\n",
              "\n",
              "      async function convertToInteractive(key) {\n",
              "        const element = document.querySelector('#df-c0a03097-7277-46cf-8467-8b181cedb5a5');\n",
              "        const dataTable =\n",
              "          await google.colab.kernel.invokeFunction('convertToInteractive',\n",
              "                                                    [key], {});\n",
              "        if (!dataTable) return;\n",
              "\n",
              "        const docLinkHtml = 'Like what you see? Visit the ' +\n",
              "          '<a target=\"_blank\" href=https://colab.research.google.com/notebooks/data_table.ipynb>data table notebook</a>'\n",
              "          + ' to learn more about interactive tables.';\n",
              "        element.innerHTML = '';\n",
              "        dataTable['output_type'] = 'display_data';\n",
              "        await google.colab.output.renderOutput(dataTable, element);\n",
              "        const docLink = document.createElement('div');\n",
              "        docLink.innerHTML = docLinkHtml;\n",
              "        element.appendChild(docLink);\n",
              "      }\n",
              "    </script>\n",
              "  </div>\n",
              "\n",
              "\n",
              "<div id=\"df-bd3a70c7-c292-48c7-a5b0-c5fd7c4e4982\">\n",
              "  <button class=\"colab-df-quickchart\" onclick=\"quickchart('df-bd3a70c7-c292-48c7-a5b0-c5fd7c4e4982')\"\n",
              "            title=\"Suggest charts.\"\n",
              "            style=\"display:none;\">\n",
              "\n",
              "<svg xmlns=\"http://www.w3.org/2000/svg\" height=\"24px\"viewBox=\"0 0 24 24\"\n",
              "     width=\"24px\">\n",
              "    <g>\n",
              "        <path d=\"M19 3H5c-1.1 0-2 .9-2 2v14c0 1.1.9 2 2 2h14c1.1 0 2-.9 2-2V5c0-1.1-.9-2-2-2zM9 17H7v-7h2v7zm4 0h-2V7h2v10zm4 0h-2v-4h2v4z\"/>\n",
              "    </g>\n",
              "</svg>\n",
              "  </button>\n",
              "\n",
              "<style>\n",
              "  .colab-df-quickchart {\n",
              "      --bg-color: #E8F0FE;\n",
              "      --fill-color: #1967D2;\n",
              "      --hover-bg-color: #E2EBFA;\n",
              "      --hover-fill-color: #174EA6;\n",
              "      --disabled-fill-color: #AAA;\n",
              "      --disabled-bg-color: #DDD;\n",
              "  }\n",
              "\n",
              "  [theme=dark] .colab-df-quickchart {\n",
              "      --bg-color: #3B4455;\n",
              "      --fill-color: #D2E3FC;\n",
              "      --hover-bg-color: #434B5C;\n",
              "      --hover-fill-color: #FFFFFF;\n",
              "      --disabled-bg-color: #3B4455;\n",
              "      --disabled-fill-color: #666;\n",
              "  }\n",
              "\n",
              "  .colab-df-quickchart {\n",
              "    background-color: var(--bg-color);\n",
              "    border: none;\n",
              "    border-radius: 50%;\n",
              "    cursor: pointer;\n",
              "    display: none;\n",
              "    fill: var(--fill-color);\n",
              "    height: 32px;\n",
              "    padding: 0;\n",
              "    width: 32px;\n",
              "  }\n",
              "\n",
              "  .colab-df-quickchart:hover {\n",
              "    background-color: var(--hover-bg-color);\n",
              "    box-shadow: 0 1px 2px rgba(60, 64, 67, 0.3), 0 1px 3px 1px rgba(60, 64, 67, 0.15);\n",
              "    fill: var(--button-hover-fill-color);\n",
              "  }\n",
              "\n",
              "  .colab-df-quickchart-complete:disabled,\n",
              "  .colab-df-quickchart-complete:disabled:hover {\n",
              "    background-color: var(--disabled-bg-color);\n",
              "    fill: var(--disabled-fill-color);\n",
              "    box-shadow: none;\n",
              "  }\n",
              "\n",
              "  .colab-df-spinner {\n",
              "    border: 2px solid var(--fill-color);\n",
              "    border-color: transparent;\n",
              "    border-bottom-color: var(--fill-color);\n",
              "    animation:\n",
              "      spin 1s steps(1) infinite;\n",
              "  }\n",
              "\n",
              "  @keyframes spin {\n",
              "    0% {\n",
              "      border-color: transparent;\n",
              "      border-bottom-color: var(--fill-color);\n",
              "      border-left-color: var(--fill-color);\n",
              "    }\n",
              "    20% {\n",
              "      border-color: transparent;\n",
              "      border-left-color: var(--fill-color);\n",
              "      border-top-color: var(--fill-color);\n",
              "    }\n",
              "    30% {\n",
              "      border-color: transparent;\n",
              "      border-left-color: var(--fill-color);\n",
              "      border-top-color: var(--fill-color);\n",
              "      border-right-color: var(--fill-color);\n",
              "    }\n",
              "    40% {\n",
              "      border-color: transparent;\n",
              "      border-right-color: var(--fill-color);\n",
              "      border-top-color: var(--fill-color);\n",
              "    }\n",
              "    60% {\n",
              "      border-color: transparent;\n",
              "      border-right-color: var(--fill-color);\n",
              "    }\n",
              "    80% {\n",
              "      border-color: transparent;\n",
              "      border-right-color: var(--fill-color);\n",
              "      border-bottom-color: var(--fill-color);\n",
              "    }\n",
              "    90% {\n",
              "      border-color: transparent;\n",
              "      border-bottom-color: var(--fill-color);\n",
              "    }\n",
              "  }\n",
              "</style>\n",
              "\n",
              "  <script>\n",
              "    async function quickchart(key) {\n",
              "      const quickchartButtonEl =\n",
              "        document.querySelector('#' + key + ' button');\n",
              "      quickchartButtonEl.disabled = true;  // To prevent multiple clicks.\n",
              "      quickchartButtonEl.classList.add('colab-df-spinner');\n",
              "      try {\n",
              "        const charts = await google.colab.kernel.invokeFunction(\n",
              "            'suggestCharts', [key], {});\n",
              "      } catch (error) {\n",
              "        console.error('Error during call to suggestCharts:', error);\n",
              "      }\n",
              "      quickchartButtonEl.classList.remove('colab-df-spinner');\n",
              "      quickchartButtonEl.classList.add('colab-df-quickchart-complete');\n",
              "    }\n",
              "    (() => {\n",
              "      let quickchartButtonEl =\n",
              "        document.querySelector('#df-bd3a70c7-c292-48c7-a5b0-c5fd7c4e4982 button');\n",
              "      quickchartButtonEl.style.display =\n",
              "        google.colab.kernel.accessAllowed ? 'block' : 'none';\n",
              "    })();\n",
              "  </script>\n",
              "</div>\n",
              "    </div>\n",
              "  </div>\n"
            ]
          },
          "metadata": {},
          "execution_count": 2
        }
      ]
    },
    {
      "cell_type": "markdown",
      "source": [
        "# Convert DataFrame to x (inputs), y (targets) arrays"
      ],
      "metadata": {
        "id": "iHDoHoBCEP_3"
      }
    },
    {
      "cell_type": "code",
      "source": [
        "input_columns = [\"Pregnancies\", \"Glucose\", \"BloodPressure\", \"SkinThickness\", \"Insulin\", \"BMI\", \"DiabetesPedigreeFunction\", \"Age\"]\n",
        "target_column = \"Outcome\"\n",
        "\n",
        "x = df[input_columns].to_numpy()\n",
        "y = df[target_column].to_numpy()"
      ],
      "metadata": {
        "id": "0mBzp9BSEfQV"
      },
      "execution_count": null,
      "outputs": []
    },
    {
      "cell_type": "markdown",
      "source": [
        "#Summary check"
      ],
      "metadata": {
        "id": "CaRuV0Ycv3LX"
      }
    },
    {
      "cell_type": "code",
      "source": [
        "df.describe ()"
      ],
      "metadata": {
        "colab": {
          "base_uri": "https://localhost:8080/",
          "height": 320
        },
        "id": "F56htOErvyqu",
        "outputId": "5491544d-cd13-46bf-8264-5458db9d0bd0"
      },
      "execution_count": null,
      "outputs": [
        {
          "output_type": "execute_result",
          "data": {
            "text/plain": [
              "       Pregnancies     Glucose  BloodPressure  SkinThickness     Insulin  \\\n",
              "count   768.000000  768.000000     768.000000     768.000000  768.000000   \n",
              "mean      3.845052  120.894531      69.105469      20.536458   79.799479   \n",
              "std       3.369578   31.972618      19.355807      15.952218  115.244002   \n",
              "min       0.000000    0.000000       0.000000       0.000000    0.000000   \n",
              "25%       1.000000   99.000000      62.000000       0.000000    0.000000   \n",
              "50%       3.000000  117.000000      72.000000      23.000000   30.500000   \n",
              "75%       6.000000  140.250000      80.000000      32.000000  127.250000   \n",
              "max      17.000000  199.000000     122.000000      99.000000  846.000000   \n",
              "\n",
              "              BMI  DiabetesPedigreeFunction         Age     Outcome  \n",
              "count  768.000000                768.000000  768.000000  768.000000  \n",
              "mean    31.992578                  0.471876   33.240885    0.348958  \n",
              "std      7.884160                  0.331329   11.760232    0.476951  \n",
              "min      0.000000                  0.078000   21.000000    0.000000  \n",
              "25%     27.300000                  0.243750   24.000000    0.000000  \n",
              "50%     32.000000                  0.372500   29.000000    0.000000  \n",
              "75%     36.600000                  0.626250   41.000000    1.000000  \n",
              "max     67.100000                  2.420000   81.000000    1.000000  "
            ],
            "text/html": [
              "\n",
              "  <div id=\"df-6ca5b4c2-c980-49b0-9ff0-88f425db6ac5\" class=\"colab-df-container\">\n",
              "    <div>\n",
              "<style scoped>\n",
              "    .dataframe tbody tr th:only-of-type {\n",
              "        vertical-align: middle;\n",
              "    }\n",
              "\n",
              "    .dataframe tbody tr th {\n",
              "        vertical-align: top;\n",
              "    }\n",
              "\n",
              "    .dataframe thead th {\n",
              "        text-align: right;\n",
              "    }\n",
              "</style>\n",
              "<table border=\"1\" class=\"dataframe\">\n",
              "  <thead>\n",
              "    <tr style=\"text-align: right;\">\n",
              "      <th></th>\n",
              "      <th>Pregnancies</th>\n",
              "      <th>Glucose</th>\n",
              "      <th>BloodPressure</th>\n",
              "      <th>SkinThickness</th>\n",
              "      <th>Insulin</th>\n",
              "      <th>BMI</th>\n",
              "      <th>DiabetesPedigreeFunction</th>\n",
              "      <th>Age</th>\n",
              "      <th>Outcome</th>\n",
              "    </tr>\n",
              "  </thead>\n",
              "  <tbody>\n",
              "    <tr>\n",
              "      <th>count</th>\n",
              "      <td>768.000000</td>\n",
              "      <td>768.000000</td>\n",
              "      <td>768.000000</td>\n",
              "      <td>768.000000</td>\n",
              "      <td>768.000000</td>\n",
              "      <td>768.000000</td>\n",
              "      <td>768.000000</td>\n",
              "      <td>768.000000</td>\n",
              "      <td>768.000000</td>\n",
              "    </tr>\n",
              "    <tr>\n",
              "      <th>mean</th>\n",
              "      <td>3.845052</td>\n",
              "      <td>120.894531</td>\n",
              "      <td>69.105469</td>\n",
              "      <td>20.536458</td>\n",
              "      <td>79.799479</td>\n",
              "      <td>31.992578</td>\n",
              "      <td>0.471876</td>\n",
              "      <td>33.240885</td>\n",
              "      <td>0.348958</td>\n",
              "    </tr>\n",
              "    <tr>\n",
              "      <th>std</th>\n",
              "      <td>3.369578</td>\n",
              "      <td>31.972618</td>\n",
              "      <td>19.355807</td>\n",
              "      <td>15.952218</td>\n",
              "      <td>115.244002</td>\n",
              "      <td>7.884160</td>\n",
              "      <td>0.331329</td>\n",
              "      <td>11.760232</td>\n",
              "      <td>0.476951</td>\n",
              "    </tr>\n",
              "    <tr>\n",
              "      <th>min</th>\n",
              "      <td>0.000000</td>\n",
              "      <td>0.000000</td>\n",
              "      <td>0.000000</td>\n",
              "      <td>0.000000</td>\n",
              "      <td>0.000000</td>\n",
              "      <td>0.000000</td>\n",
              "      <td>0.078000</td>\n",
              "      <td>21.000000</td>\n",
              "      <td>0.000000</td>\n",
              "    </tr>\n",
              "    <tr>\n",
              "      <th>25%</th>\n",
              "      <td>1.000000</td>\n",
              "      <td>99.000000</td>\n",
              "      <td>62.000000</td>\n",
              "      <td>0.000000</td>\n",
              "      <td>0.000000</td>\n",
              "      <td>27.300000</td>\n",
              "      <td>0.243750</td>\n",
              "      <td>24.000000</td>\n",
              "      <td>0.000000</td>\n",
              "    </tr>\n",
              "    <tr>\n",
              "      <th>50%</th>\n",
              "      <td>3.000000</td>\n",
              "      <td>117.000000</td>\n",
              "      <td>72.000000</td>\n",
              "      <td>23.000000</td>\n",
              "      <td>30.500000</td>\n",
              "      <td>32.000000</td>\n",
              "      <td>0.372500</td>\n",
              "      <td>29.000000</td>\n",
              "      <td>0.000000</td>\n",
              "    </tr>\n",
              "    <tr>\n",
              "      <th>75%</th>\n",
              "      <td>6.000000</td>\n",
              "      <td>140.250000</td>\n",
              "      <td>80.000000</td>\n",
              "      <td>32.000000</td>\n",
              "      <td>127.250000</td>\n",
              "      <td>36.600000</td>\n",
              "      <td>0.626250</td>\n",
              "      <td>41.000000</td>\n",
              "      <td>1.000000</td>\n",
              "    </tr>\n",
              "    <tr>\n",
              "      <th>max</th>\n",
              "      <td>17.000000</td>\n",
              "      <td>199.000000</td>\n",
              "      <td>122.000000</td>\n",
              "      <td>99.000000</td>\n",
              "      <td>846.000000</td>\n",
              "      <td>67.100000</td>\n",
              "      <td>2.420000</td>\n",
              "      <td>81.000000</td>\n",
              "      <td>1.000000</td>\n",
              "    </tr>\n",
              "  </tbody>\n",
              "</table>\n",
              "</div>\n",
              "    <div class=\"colab-df-buttons\">\n",
              "\n",
              "  <div class=\"colab-df-container\">\n",
              "    <button class=\"colab-df-convert\" onclick=\"convertToInteractive('df-6ca5b4c2-c980-49b0-9ff0-88f425db6ac5')\"\n",
              "            title=\"Convert this dataframe to an interactive table.\"\n",
              "            style=\"display:none;\">\n",
              "\n",
              "  <svg xmlns=\"http://www.w3.org/2000/svg\" height=\"24px\" viewBox=\"0 -960 960 960\">\n",
              "    <path d=\"M120-120v-720h720v720H120Zm60-500h600v-160H180v160Zm220 220h160v-160H400v160Zm0 220h160v-160H400v160ZM180-400h160v-160H180v160Zm440 0h160v-160H620v160ZM180-180h160v-160H180v160Zm440 0h160v-160H620v160Z\"/>\n",
              "  </svg>\n",
              "    </button>\n",
              "\n",
              "  <style>\n",
              "    .colab-df-container {\n",
              "      display:flex;\n",
              "      gap: 12px;\n",
              "    }\n",
              "\n",
              "    .colab-df-convert {\n",
              "      background-color: #E8F0FE;\n",
              "      border: none;\n",
              "      border-radius: 50%;\n",
              "      cursor: pointer;\n",
              "      display: none;\n",
              "      fill: #1967D2;\n",
              "      height: 32px;\n",
              "      padding: 0 0 0 0;\n",
              "      width: 32px;\n",
              "    }\n",
              "\n",
              "    .colab-df-convert:hover {\n",
              "      background-color: #E2EBFA;\n",
              "      box-shadow: 0px 1px 2px rgba(60, 64, 67, 0.3), 0px 1px 3px 1px rgba(60, 64, 67, 0.15);\n",
              "      fill: #174EA6;\n",
              "    }\n",
              "\n",
              "    .colab-df-buttons div {\n",
              "      margin-bottom: 4px;\n",
              "    }\n",
              "\n",
              "    [theme=dark] .colab-df-convert {\n",
              "      background-color: #3B4455;\n",
              "      fill: #D2E3FC;\n",
              "    }\n",
              "\n",
              "    [theme=dark] .colab-df-convert:hover {\n",
              "      background-color: #434B5C;\n",
              "      box-shadow: 0px 1px 3px 1px rgba(0, 0, 0, 0.15);\n",
              "      filter: drop-shadow(0px 1px 2px rgba(0, 0, 0, 0.3));\n",
              "      fill: #FFFFFF;\n",
              "    }\n",
              "  </style>\n",
              "\n",
              "    <script>\n",
              "      const buttonEl =\n",
              "        document.querySelector('#df-6ca5b4c2-c980-49b0-9ff0-88f425db6ac5 button.colab-df-convert');\n",
              "      buttonEl.style.display =\n",
              "        google.colab.kernel.accessAllowed ? 'block' : 'none';\n",
              "\n",
              "      async function convertToInteractive(key) {\n",
              "        const element = document.querySelector('#df-6ca5b4c2-c980-49b0-9ff0-88f425db6ac5');\n",
              "        const dataTable =\n",
              "          await google.colab.kernel.invokeFunction('convertToInteractive',\n",
              "                                                    [key], {});\n",
              "        if (!dataTable) return;\n",
              "\n",
              "        const docLinkHtml = 'Like what you see? Visit the ' +\n",
              "          '<a target=\"_blank\" href=https://colab.research.google.com/notebooks/data_table.ipynb>data table notebook</a>'\n",
              "          + ' to learn more about interactive tables.';\n",
              "        element.innerHTML = '';\n",
              "        dataTable['output_type'] = 'display_data';\n",
              "        await google.colab.output.renderOutput(dataTable, element);\n",
              "        const docLink = document.createElement('div');\n",
              "        docLink.innerHTML = docLinkHtml;\n",
              "        element.appendChild(docLink);\n",
              "      }\n",
              "    </script>\n",
              "  </div>\n",
              "\n",
              "\n",
              "<div id=\"df-86fa30c0-765f-4792-b808-d9ff5531e4d2\">\n",
              "  <button class=\"colab-df-quickchart\" onclick=\"quickchart('df-86fa30c0-765f-4792-b808-d9ff5531e4d2')\"\n",
              "            title=\"Suggest charts.\"\n",
              "            style=\"display:none;\">\n",
              "\n",
              "<svg xmlns=\"http://www.w3.org/2000/svg\" height=\"24px\"viewBox=\"0 0 24 24\"\n",
              "     width=\"24px\">\n",
              "    <g>\n",
              "        <path d=\"M19 3H5c-1.1 0-2 .9-2 2v14c0 1.1.9 2 2 2h14c1.1 0 2-.9 2-2V5c0-1.1-.9-2-2-2zM9 17H7v-7h2v7zm4 0h-2V7h2v10zm4 0h-2v-4h2v4z\"/>\n",
              "    </g>\n",
              "</svg>\n",
              "  </button>\n",
              "\n",
              "<style>\n",
              "  .colab-df-quickchart {\n",
              "      --bg-color: #E8F0FE;\n",
              "      --fill-color: #1967D2;\n",
              "      --hover-bg-color: #E2EBFA;\n",
              "      --hover-fill-color: #174EA6;\n",
              "      --disabled-fill-color: #AAA;\n",
              "      --disabled-bg-color: #DDD;\n",
              "  }\n",
              "\n",
              "  [theme=dark] .colab-df-quickchart {\n",
              "      --bg-color: #3B4455;\n",
              "      --fill-color: #D2E3FC;\n",
              "      --hover-bg-color: #434B5C;\n",
              "      --hover-fill-color: #FFFFFF;\n",
              "      --disabled-bg-color: #3B4455;\n",
              "      --disabled-fill-color: #666;\n",
              "  }\n",
              "\n",
              "  .colab-df-quickchart {\n",
              "    background-color: var(--bg-color);\n",
              "    border: none;\n",
              "    border-radius: 50%;\n",
              "    cursor: pointer;\n",
              "    display: none;\n",
              "    fill: var(--fill-color);\n",
              "    height: 32px;\n",
              "    padding: 0;\n",
              "    width: 32px;\n",
              "  }\n",
              "\n",
              "  .colab-df-quickchart:hover {\n",
              "    background-color: var(--hover-bg-color);\n",
              "    box-shadow: 0 1px 2px rgba(60, 64, 67, 0.3), 0 1px 3px 1px rgba(60, 64, 67, 0.15);\n",
              "    fill: var(--button-hover-fill-color);\n",
              "  }\n",
              "\n",
              "  .colab-df-quickchart-complete:disabled,\n",
              "  .colab-df-quickchart-complete:disabled:hover {\n",
              "    background-color: var(--disabled-bg-color);\n",
              "    fill: var(--disabled-fill-color);\n",
              "    box-shadow: none;\n",
              "  }\n",
              "\n",
              "  .colab-df-spinner {\n",
              "    border: 2px solid var(--fill-color);\n",
              "    border-color: transparent;\n",
              "    border-bottom-color: var(--fill-color);\n",
              "    animation:\n",
              "      spin 1s steps(1) infinite;\n",
              "  }\n",
              "\n",
              "  @keyframes spin {\n",
              "    0% {\n",
              "      border-color: transparent;\n",
              "      border-bottom-color: var(--fill-color);\n",
              "      border-left-color: var(--fill-color);\n",
              "    }\n",
              "    20% {\n",
              "      border-color: transparent;\n",
              "      border-left-color: var(--fill-color);\n",
              "      border-top-color: var(--fill-color);\n",
              "    }\n",
              "    30% {\n",
              "      border-color: transparent;\n",
              "      border-left-color: var(--fill-color);\n",
              "      border-top-color: var(--fill-color);\n",
              "      border-right-color: var(--fill-color);\n",
              "    }\n",
              "    40% {\n",
              "      border-color: transparent;\n",
              "      border-right-color: var(--fill-color);\n",
              "      border-top-color: var(--fill-color);\n",
              "    }\n",
              "    60% {\n",
              "      border-color: transparent;\n",
              "      border-right-color: var(--fill-color);\n",
              "    }\n",
              "    80% {\n",
              "      border-color: transparent;\n",
              "      border-right-color: var(--fill-color);\n",
              "      border-bottom-color: var(--fill-color);\n",
              "    }\n",
              "    90% {\n",
              "      border-color: transparent;\n",
              "      border-bottom-color: var(--fill-color);\n",
              "    }\n",
              "  }\n",
              "</style>\n",
              "\n",
              "  <script>\n",
              "    async function quickchart(key) {\n",
              "      const quickchartButtonEl =\n",
              "        document.querySelector('#' + key + ' button');\n",
              "      quickchartButtonEl.disabled = true;  // To prevent multiple clicks.\n",
              "      quickchartButtonEl.classList.add('colab-df-spinner');\n",
              "      try {\n",
              "        const charts = await google.colab.kernel.invokeFunction(\n",
              "            'suggestCharts', [key], {});\n",
              "      } catch (error) {\n",
              "        console.error('Error during call to suggestCharts:', error);\n",
              "      }\n",
              "      quickchartButtonEl.classList.remove('colab-df-spinner');\n",
              "      quickchartButtonEl.classList.add('colab-df-quickchart-complete');\n",
              "    }\n",
              "    (() => {\n",
              "      let quickchartButtonEl =\n",
              "        document.querySelector('#df-86fa30c0-765f-4792-b808-d9ff5531e4d2 button');\n",
              "      quickchartButtonEl.style.display =\n",
              "        google.colab.kernel.accessAllowed ? 'block' : 'none';\n",
              "    })();\n",
              "  </script>\n",
              "</div>\n",
              "    </div>\n",
              "  </div>\n"
            ]
          },
          "metadata": {},
          "execution_count": 4
        }
      ]
    },
    {
      "cell_type": "markdown",
      "source": [
        "From here we can extract valuable insights for the dataset, including that there are no missing values to handle."
      ],
      "metadata": {
        "id": "YjqY1gOzv74W"
      }
    },
    {
      "cell_type": "markdown",
      "source": [
        "# Split Dataset to Train-Test"
      ],
      "metadata": {
        "id": "mll6jZjFEzd0"
      }
    },
    {
      "cell_type": "code",
      "source": [
        "random_state = 0\n",
        "test_ratio = 0.3\n",
        "\n",
        "x_train, x_test, y_train, y_test = train_test_split(x,y, random_state=0, test_size = test_ratio)"
      ],
      "metadata": {
        "id": "eHBbUoClE1bF"
      },
      "execution_count": null,
      "outputs": []
    },
    {
      "cell_type": "markdown",
      "source": [
        "# Create a Logistic Regression Model"
      ],
      "metadata": {
        "id": "hCXrTeOiEo1t"
      }
    },
    {
      "cell_type": "code",
      "source": [
        "regularization = \"l2\"\n",
        "\n",
        "\n",
        "classifier = LogisticRegression(penalty= regularization, random_state = 0)"
      ],
      "metadata": {
        "id": "X85ZOfJnE2m1"
      },
      "execution_count": null,
      "outputs": []
    },
    {
      "cell_type": "markdown",
      "source": [
        "# Train Model"
      ],
      "metadata": {
        "id": "-LlSei1ZE7D9"
      }
    },
    {
      "cell_type": "code",
      "source": [
        "classifier.fit(x_train , y_train)"
      ],
      "metadata": {
        "id": "w_UWrxJUE8Tl",
        "colab": {
          "base_uri": "https://localhost:8080/",
          "height": 233
        },
        "outputId": "6b290107-6ddc-4217-dd83-037ce86324c9"
      },
      "execution_count": null,
      "outputs": [
        {
          "output_type": "stream",
          "name": "stderr",
          "text": [
            "/usr/local/lib/python3.10/dist-packages/sklearn/linear_model/_logistic.py:458: ConvergenceWarning: lbfgs failed to converge (status=1):\n",
            "STOP: TOTAL NO. of ITERATIONS REACHED LIMIT.\n",
            "\n",
            "Increase the number of iterations (max_iter) or scale the data as shown in:\n",
            "    https://scikit-learn.org/stable/modules/preprocessing.html\n",
            "Please also refer to the documentation for alternative solver options:\n",
            "    https://scikit-learn.org/stable/modules/linear_model.html#logistic-regression\n",
            "  n_iter_i = _check_optimize_result(\n"
          ]
        },
        {
          "output_type": "execute_result",
          "data": {
            "text/plain": [
              "LogisticRegression(random_state=0)"
            ],
            "text/html": [
              "<style>#sk-container-id-1 {color: black;background-color: white;}#sk-container-id-1 pre{padding: 0;}#sk-container-id-1 div.sk-toggleable {background-color: white;}#sk-container-id-1 label.sk-toggleable__label {cursor: pointer;display: block;width: 100%;margin-bottom: 0;padding: 0.3em;box-sizing: border-box;text-align: center;}#sk-container-id-1 label.sk-toggleable__label-arrow:before {content: \"▸\";float: left;margin-right: 0.25em;color: #696969;}#sk-container-id-1 label.sk-toggleable__label-arrow:hover:before {color: black;}#sk-container-id-1 div.sk-estimator:hover label.sk-toggleable__label-arrow:before {color: black;}#sk-container-id-1 div.sk-toggleable__content {max-height: 0;max-width: 0;overflow: hidden;text-align: left;background-color: #f0f8ff;}#sk-container-id-1 div.sk-toggleable__content pre {margin: 0.2em;color: black;border-radius: 0.25em;background-color: #f0f8ff;}#sk-container-id-1 input.sk-toggleable__control:checked~div.sk-toggleable__content {max-height: 200px;max-width: 100%;overflow: auto;}#sk-container-id-1 input.sk-toggleable__control:checked~label.sk-toggleable__label-arrow:before {content: \"▾\";}#sk-container-id-1 div.sk-estimator input.sk-toggleable__control:checked~label.sk-toggleable__label {background-color: #d4ebff;}#sk-container-id-1 div.sk-label input.sk-toggleable__control:checked~label.sk-toggleable__label {background-color: #d4ebff;}#sk-container-id-1 input.sk-hidden--visually {border: 0;clip: rect(1px 1px 1px 1px);clip: rect(1px, 1px, 1px, 1px);height: 1px;margin: -1px;overflow: hidden;padding: 0;position: absolute;width: 1px;}#sk-container-id-1 div.sk-estimator {font-family: monospace;background-color: #f0f8ff;border: 1px dotted black;border-radius: 0.25em;box-sizing: border-box;margin-bottom: 0.5em;}#sk-container-id-1 div.sk-estimator:hover {background-color: #d4ebff;}#sk-container-id-1 div.sk-parallel-item::after {content: \"\";width: 100%;border-bottom: 1px solid gray;flex-grow: 1;}#sk-container-id-1 div.sk-label:hover label.sk-toggleable__label {background-color: #d4ebff;}#sk-container-id-1 div.sk-serial::before {content: \"\";position: absolute;border-left: 1px solid gray;box-sizing: border-box;top: 0;bottom: 0;left: 50%;z-index: 0;}#sk-container-id-1 div.sk-serial {display: flex;flex-direction: column;align-items: center;background-color: white;padding-right: 0.2em;padding-left: 0.2em;position: relative;}#sk-container-id-1 div.sk-item {position: relative;z-index: 1;}#sk-container-id-1 div.sk-parallel {display: flex;align-items: stretch;justify-content: center;background-color: white;position: relative;}#sk-container-id-1 div.sk-item::before, #sk-container-id-1 div.sk-parallel-item::before {content: \"\";position: absolute;border-left: 1px solid gray;box-sizing: border-box;top: 0;bottom: 0;left: 50%;z-index: -1;}#sk-container-id-1 div.sk-parallel-item {display: flex;flex-direction: column;z-index: 1;position: relative;background-color: white;}#sk-container-id-1 div.sk-parallel-item:first-child::after {align-self: flex-end;width: 50%;}#sk-container-id-1 div.sk-parallel-item:last-child::after {align-self: flex-start;width: 50%;}#sk-container-id-1 div.sk-parallel-item:only-child::after {width: 0;}#sk-container-id-1 div.sk-dashed-wrapped {border: 1px dashed gray;margin: 0 0.4em 0.5em 0.4em;box-sizing: border-box;padding-bottom: 0.4em;background-color: white;}#sk-container-id-1 div.sk-label label {font-family: monospace;font-weight: bold;display: inline-block;line-height: 1.2em;}#sk-container-id-1 div.sk-label-container {text-align: center;}#sk-container-id-1 div.sk-container {/* jupyter's `normalize.less` sets `[hidden] { display: none; }` but bootstrap.min.css set `[hidden] { display: none !important; }` so we also need the `!important` here to be able to override the default hidden behavior on the sphinx rendered scikit-learn.org. See: https://github.com/scikit-learn/scikit-learn/issues/21755 */display: inline-block !important;position: relative;}#sk-container-id-1 div.sk-text-repr-fallback {display: none;}</style><div id=\"sk-container-id-1\" class=\"sk-top-container\"><div class=\"sk-text-repr-fallback\"><pre>LogisticRegression(random_state=0)</pre><b>In a Jupyter environment, please rerun this cell to show the HTML representation or trust the notebook. <br />On GitHub, the HTML representation is unable to render, please try loading this page with nbviewer.org.</b></div><div class=\"sk-container\" hidden><div class=\"sk-item\"><div class=\"sk-estimator sk-toggleable\"><input class=\"sk-toggleable__control sk-hidden--visually\" id=\"sk-estimator-id-1\" type=\"checkbox\" checked><label for=\"sk-estimator-id-1\" class=\"sk-toggleable__label sk-toggleable__label-arrow\">LogisticRegression</label><div class=\"sk-toggleable__content\"><pre>LogisticRegression(random_state=0)</pre></div></div></div></div></div>"
            ]
          },
          "metadata": {},
          "execution_count": 7
        }
      ]
    },
    {
      "cell_type": "markdown",
      "source": [
        "# Compute Diabetes Predictions"
      ],
      "metadata": {
        "id": "RDn5ikWGL1xX"
      }
    },
    {
      "cell_type": "code",
      "source": [
        "y_pred = classifier.predict(x_test)"
      ],
      "metadata": {
        "id": "hyEsnYCeL2-I"
      },
      "execution_count": null,
      "outputs": []
    },
    {
      "cell_type": "markdown",
      "source": [
        "# Compute Model's Accuracy"
      ],
      "metadata": {
        "id": "0w6av4Q5E_O0"
      }
    },
    {
      "cell_type": "code",
      "source": [
        "accuracy = accuracy_score(y_test, y_pred)\n",
        "accuracy"
      ],
      "metadata": {
        "id": "ilXUc0ppFAle",
        "colab": {
          "base_uri": "https://localhost:8080/"
        },
        "outputId": "62efd140-57ba-4df4-cf19-1cd8ae426aab"
      },
      "execution_count": null,
      "outputs": [
        {
          "output_type": "execute_result",
          "data": {
            "text/plain": [
              "0.7792207792207793"
            ]
          },
          "metadata": {},
          "execution_count": 9
        }
      ]
    },
    {
      "cell_type": "markdown",
      "source": [
        "#Compute Confusion Matrix"
      ],
      "metadata": {
        "id": "Fqnm5JD6x-oP"
      }
    },
    {
      "cell_type": "code",
      "source": [
        "conf_matrix = confusion_matrix(y_test, y_pred)\n",
        "conf_matrix"
      ],
      "metadata": {
        "colab": {
          "base_uri": "https://localhost:8080/"
        },
        "id": "5GSmIQJ3x96v",
        "outputId": "11a3ffec-ffb6-4bcb-b698-1d285e2b0377"
      },
      "execution_count": null,
      "outputs": [
        {
          "output_type": "execute_result",
          "data": {
            "text/plain": [
              "array([[141,  16],\n",
              "       [ 35,  39]])"
            ]
          },
          "metadata": {},
          "execution_count": 10
        }
      ]
    },
    {
      "cell_type": "markdown",
      "source": [
        "# -- Answer The Question: --\n",
        "# Which model is better:\n",
        "\n",
        "\n",
        "*   A model that mostly predicts that a patient has no Diabetes, even though they have\n",
        "*   A model that mostly predicts that a patient has diabetes, even though they don't have\n",
        "\n"
      ],
      "metadata": {
        "id": "vW6W6pW5FBAN"
      }
    },
    {
      "cell_type": "markdown",
      "source": [
        "In my opinion it is better to diagnose diabetes even though the patient doesn't have, because then further investigation will happen. On the other side if the model predicts that the patient will not have diabetes then most likely more investigation won't happen and it means a patient with a diabetes will go untreated."
      ],
      "metadata": {
        "id": "JgFc2GdToars"
      }
    },
    {
      "cell_type": "markdown",
      "source": [
        "# Repeat same process for ages:\n",
        "\n",
        "\n",
        "\n",
        "*   0-40\n",
        "*   41-100\n",
        "\n"
      ],
      "metadata": {
        "id": "97IWZ1DoFocl"
      }
    },
    {
      "cell_type": "code",
      "source": [
        "np.set_printoptions(suppress=True)\n",
        "\n",
        "combined_array = np.concatenate((x_test, y_test.reshape(-1, 1)), axis=1)\n",
        "combined_array"
      ],
      "metadata": {
        "colab": {
          "base_uri": "https://localhost:8080/"
        },
        "id": "kVL50fF80XFI",
        "outputId": "0564a001-c0c8-431d-b5d5-e2223b6091c2"
      },
      "execution_count": null,
      "outputs": [
        {
          "output_type": "execute_result",
          "data": {
            "text/plain": [
              "array([[  1.   , 199.   ,  76.   , ...,   1.394,  22.   ,   1.   ],\n",
              "       [  2.   , 107.   ,  74.   , ...,   0.404,  23.   ,   0.   ],\n",
              "       [  4.   ,  76.   ,  62.   , ...,   0.391,  25.   ,   0.   ],\n",
              "       ...,\n",
              "       [  1.   ,  95.   ,  60.   , ...,   0.26 ,  22.   ,   0.   ],\n",
              "       [  1.   , 106.   ,  76.   , ...,   0.197,  26.   ,   0.   ],\n",
              "       [ 10.   , 122.   ,  78.   , ...,   0.512,  45.   ,   0.   ]])"
            ]
          },
          "metadata": {},
          "execution_count": 11
        }
      ]
    },
    {
      "cell_type": "markdown",
      "source": [
        "I am merging x_test with y_test so I can take age values along with the target column higher or lower than 40."
      ],
      "metadata": {
        "id": "rANd_opHn3T0"
      }
    },
    {
      "cell_type": "code",
      "source": [
        "\n",
        "\n",
        "condition_column = combined_array[:, -2]\n",
        "\n",
        "condition_met = condition_column > 40\n",
        "\n",
        "test_higher_than_40 = combined_array[condition_met]\n",
        "test_lower_than_40 = combined_array[~condition_met]\n",
        "\n",
        "\n",
        "x_test_higher_40 = test_higher_than_40[:, :-1]\n",
        "y_test_higher_40 = test_higher_than_40[:, -1]\n",
        "\n",
        "x_test_lower_40 = test_lower_than_40[:, :-1]\n",
        "y_test_lower_40 = test_lower_than_40[:, -1]\n",
        "\n",
        "print (test_higher_than_40.shape[0])\n",
        "print (test_lower_than_40.shape[0])\n",
        "print (x_test_higher_40)\n",
        "print (y_test_higher_40)\n",
        "print (x_test_lower_40)\n",
        "print (y_test_lower_40)\n",
        "\n"
      ],
      "metadata": {
        "colab": {
          "base_uri": "https://localhost:8080/"
        },
        "id": "OpzzkEro2kaS",
        "outputId": "33e56a1c-ce8b-46e6-9a43-03277187cdec"
      },
      "execution_count": null,
      "outputs": [
        {
          "output_type": "stream",
          "name": "stdout",
          "text": [
            "53\n",
            "178\n",
            "[[  5.    166.     72.     19.    175.     25.8     0.587  51.   ]\n",
            " [  3.    176.     86.     27.    156.     33.3     1.154  52.   ]\n",
            " [  6.    103.     72.     32.    190.     37.7     0.324  55.   ]\n",
            " [  5.    187.     76.     27.    207.     43.6     1.034  53.   ]\n",
            " [  5.    114.     74.      0.      0.     24.9     0.744  57.   ]\n",
            " [  8.     65.     72.     23.      0.     32.      0.6    42.   ]\n",
            " [  4.    132.     86.     31.      0.     28.      0.419  63.   ]\n",
            " [  3.     61.     82.     28.      0.     34.4     0.243  46.   ]\n",
            " [  7.    136.     74.     26.    135.     26.      0.647  51.   ]\n",
            " [  5.    168.     64.      0.      0.     32.9     0.135  41.   ]\n",
            " [ 11.    136.     84.     35.    130.     28.3     0.26   42.   ]\n",
            " [  2.    197.     70.     45.    543.     30.5     0.158  53.   ]\n",
            " [  8.    167.    106.     46.    231.     37.6     0.165  43.   ]\n",
            " [  9.    165.     88.      0.      0.     30.4     0.302  49.   ]\n",
            " [  9.    106.     52.      0.      0.     31.2     0.38   42.   ]\n",
            " [  6.    183.     94.      0.      0.     40.8     1.461  45.   ]\n",
            " [ 10.     68.    106.     23.     49.     35.5     0.285  47.   ]\n",
            " [  8.    100.     76.      0.      0.     38.7     0.19   42.   ]\n",
            " [  7.    181.     84.     21.    192.     35.9     0.586  51.   ]\n",
            " [  1.    164.     82.     43.     67.     32.8     0.341  50.   ]\n",
            " [  4.    111.     72.     47.    207.     37.1     1.39   56.   ]\n",
            " [  4.    115.     72.      0.      0.     28.9     0.376  46.   ]\n",
            " [  8.    143.     66.      0.      0.     34.9     0.129  41.   ]\n",
            " [  7.    161.     86.      0.      0.     30.4     0.165  47.   ]\n",
            " [ 11.    120.     80.     37.    150.     42.3     0.785  48.   ]\n",
            " [  5.    103.    108.     37.      0.     39.2     0.305  65.   ]\n",
            " [ 12.    121.     78.     17.      0.     26.5     0.259  62.   ]\n",
            " [  1.    135.     54.      0.      0.     26.7     0.687  62.   ]\n",
            " [  7.     94.     64.     25.     79.     33.3     0.738  41.   ]\n",
            " [  9.    102.     76.     37.      0.     32.9     0.665  46.   ]\n",
            " [  7.     62.     78.      0.      0.     32.6     0.391  41.   ]\n",
            " [  7.    114.     66.      0.      0.     32.8     0.258  42.   ]\n",
            " [  6.     80.     66.     30.      0.     26.2     0.313  41.   ]\n",
            " [  7.    150.     78.     29.    126.     35.2     0.692  54.   ]\n",
            " [ 10.    161.     68.     23.    132.     25.5     0.326  47.   ]\n",
            " [  6.    194.     78.      0.      0.     23.5     0.129  59.   ]\n",
            " [ 13.     76.     60.      0.      0.     32.8     0.18   41.   ]\n",
            " [  0.    105.     90.      0.      0.     29.6     0.197  46.   ]\n",
            " [  1.    102.     74.      0.      0.     39.5     0.293  42.   ]\n",
            " [  3.    142.     80.     15.      0.     32.4     0.2    63.   ]\n",
            " [  8.     95.     72.      0.      0.     36.8     0.485  57.   ]\n",
            " [ 13.    158.    114.      0.      0.     42.3     0.257  44.   ]\n",
            " [  3.    128.     78.      0.      0.     21.1     0.268  55.   ]\n",
            " [ 12.    140.     82.     43.    325.     39.2     0.528  58.   ]\n",
            " [  8.     99.     84.      0.      0.     35.4     0.388  50.   ]\n",
            " [  7.    136.     90.      0.      0.     29.9     0.21   50.   ]\n",
            " [  8.    112.     72.      0.      0.     23.6     0.84   58.   ]\n",
            " [  7.     81.     78.     40.     48.     46.7     0.261  42.   ]\n",
            " [  0.    161.     50.      0.      0.     21.9     0.254  65.   ]\n",
            " [  6.    134.     80.     37.    370.     46.2     0.238  46.   ]\n",
            " [ 12.    140.     85.     33.      0.     37.4     0.244  41.   ]\n",
            " [  6.    104.     74.     18.    156.     29.9     0.722  41.   ]\n",
            " [ 10.    122.     78.     31.      0.     27.6     0.512  45.   ]]\n",
            "[1. 1. 0. 1. 0. 0. 0. 0. 0. 1. 1. 1. 1. 1. 0. 0. 0. 0. 1. 0. 1. 1. 1. 1.\n",
            " 1. 0. 0. 0. 0. 1. 0. 1. 0. 1. 1. 1. 0. 0. 1. 0. 0. 1. 0. 1. 0. 0. 0. 0.\n",
            " 0. 1. 0. 1. 0.]\n",
            "[[  1.    199.     76.    ...  42.9     1.394  22.   ]\n",
            " [  2.    107.     74.    ...  33.6     0.404  23.   ]\n",
            " [  4.     76.     62.    ...  34.      0.391  25.   ]\n",
            " ...\n",
            " [  8.    109.     76.    ...  27.9     0.64   31.   ]\n",
            " [  1.     95.     60.    ...  23.9     0.26   22.   ]\n",
            " [  1.    106.     76.    ...  37.5     0.197  26.   ]]\n",
            "[1. 0. 0. 0. 0. 1. 0. 1. 0. 0. 1. 0. 0. 1. 1. 0. 0. 0. 0. 0. 0. 0. 0. 0.\n",
            " 0. 0. 0. 0. 0. 0. 0. 0. 1. 0. 0. 1. 1. 1. 0. 0. 1. 0. 0. 0. 0. 1. 1. 1.\n",
            " 0. 0. 1. 1. 1. 0. 0. 0. 0. 0. 1. 0. 0. 0. 0. 0. 0. 0. 0. 0. 1. 0. 0. 0.\n",
            " 0. 0. 0. 0. 1. 0. 0. 0. 0. 0. 0. 1. 0. 0. 0. 1. 0. 1. 1. 1. 0. 0. 0. 0.\n",
            " 0. 0. 0. 0. 1. 0. 0. 0. 0. 1. 0. 1. 1. 0. 0. 0. 0. 0. 0. 0. 1. 0. 1. 0.\n",
            " 0. 0. 0. 0. 1. 1. 0. 0. 0. 1. 0. 0. 0. 0. 1. 0. 0. 0. 0. 1. 0. 1. 1. 0.\n",
            " 1. 1. 1. 0. 0. 0. 0. 0. 1. 0. 0. 0. 0. 0. 1. 0. 0. 0. 1. 0. 1. 0. 0. 0.\n",
            " 1. 1. 0. 1. 0. 1. 0. 1. 0. 0.]\n"
          ]
        }
      ]
    },
    {
      "cell_type": "markdown",
      "source": [
        "Applying the 40 yeards old filter and checking the results\n",
        "\n",
        "\n"
      ],
      "metadata": {
        "id": "MHMG0YbJo6ZI"
      }
    },
    {
      "cell_type": "markdown",
      "source": [
        "#Predicting the x_test values and calculate the accuracy of the model for each case"
      ],
      "metadata": {
        "id": "S9Agadi8pLx1"
      }
    },
    {
      "cell_type": "code",
      "source": [
        "y_pred_higher_40 = classifier.predict(x_test_higher_40)\n",
        "accuracy_higher_40 = accuracy_score (y_pred_higher_40, y_test_higher_40)\n",
        "accuracy_higher_40"
      ],
      "metadata": {
        "colab": {
          "base_uri": "https://localhost:8080/"
        },
        "id": "mbs4QLM_3GLf",
        "outputId": "a96ff40d-2fc7-4e5d-8439-580407039731"
      },
      "execution_count": null,
      "outputs": [
        {
          "output_type": "execute_result",
          "data": {
            "text/plain": [
              "0.7924528301886793"
            ]
          },
          "metadata": {},
          "execution_count": 13
        }
      ]
    },
    {
      "cell_type": "code",
      "source": [
        "y_pred_lower_40 = classifier.predict(x_test_lower_40)\n",
        "accuracy_lower_40 = accuracy_score (y_pred_lower_40, y_test_lower_40)\n",
        "accuracy_lower_40"
      ],
      "metadata": {
        "colab": {
          "base_uri": "https://localhost:8080/"
        },
        "id": "YKF3U2hb5Si3",
        "outputId": "4de01381-7f74-4b37-e6fc-9736587ef1be"
      },
      "execution_count": null,
      "outputs": [
        {
          "output_type": "execute_result",
          "data": {
            "text/plain": [
              "0.7752808988764045"
            ]
          },
          "metadata": {},
          "execution_count": 14
        }
      ]
    },
    {
      "cell_type": "code",
      "source": [
        "accuracies = [accuracy, accuracy_lower_40, accuracy_higher_40]\n",
        "models = ['All Ages', '0-40', '40+']\n",
        "bars = plt.bar(models, accuracies, color=['blue', 'green', 'red'])\n",
        "\n",
        "plt.xlabel('Models in Logistic Regression')\n",
        "plt.ylabel('Accuracy')\n",
        "plt.title('Accuracy Comparison of Models in Logistic Regression')\n",
        "\n",
        "for bar, accuracy in zip(bars, accuracies):\n",
        "    plt.text(bar.get_x() + bar.get_width() / 2 - 0.1, bar.get_height() + 0.005, f'{accuracy:.7f}', fontsize=8)\n",
        "\n",
        "\n",
        "\n",
        "# Show the plot\n",
        "plt.show()"
      ],
      "metadata": {
        "colab": {
          "base_uri": "https://localhost:8080/",
          "height": 472
        },
        "id": "ei9csjhM7XUq",
        "outputId": "0d89bb79-f474-4f8f-b237-4bab01fcda0a"
      },
      "execution_count": null,
      "outputs": [
        {
          "output_type": "display_data",
          "data": {
            "text/plain": [
              "<Figure size 640x480 with 1 Axes>"
            ],
            "image/png": "[encoded data removed]"
          },
          "metadata": {}
        }
      ]
    },
    {
      "cell_type": "markdown",
      "source": [
        "From the plot we can see that for the ages 40+ the model has better accuracy than the 0-40 ages for about 2.2%"
      ],
      "metadata": {
        "id": "OQBKopZqpZlL"
      }
    },
    {
      "cell_type": "markdown",
      "source": [
        "#Change Regularization to L1"
      ],
      "metadata": {
        "id": "R5gE1Buq9d_W"
      }
    },
    {
      "cell_type": "code",
      "source": [
        "regularization ='l1'\n",
        "\n",
        "classifier = LogisticRegression(penalty= regularization, random_state = 0, solver = 'liblinear')\n",
        "\n",
        "classifier.fit(x_train, y_train)\n",
        "\n",
        "y_pred_l1 = classifier.predict (x_test)\n",
        "y_pred_l1_higher_40 = classifier.predict (x_test_higher_40)\n",
        "y_pred_l1_lower_40 = classifier.predict (x_test_lower_40)\n",
        "\n",
        "accuracy_l1 = accuracy_score (y_test, y_pred_l1)\n",
        "accuracy_l1_higher_40 = accuracy_score (y_test_higher_40, y_pred_l1_higher_40)\n",
        "accuracy_l1_lower_40 = accuracy_score (y_test_lower_40, y_pred_l1_lower_40)\n",
        "\n",
        "\n",
        "accuracies = [accuracy_l1, accuracy_l1_lower_40, accuracy_l1_higher_40]\n",
        "models = ['All Ages', '0-40', '41+']\n",
        "bars = plt.bar(models, accuracies, color=['blue', 'green', 'red'])\n",
        "\n",
        "\n",
        "\n",
        "plt.xlabel('Models in Logistic Regression')\n",
        "plt.ylabel('Accuracy with penalty L1')\n",
        "plt.title('Accuracy Comparison of Models in Logistic Regression')\n",
        "\n",
        "for bar, accuracy in zip(bars, accuracies):\n",
        "    plt.text(bar.get_x() + bar.get_width() / 2 - 0.1, bar.get_height() + 0.005, f'{accuracy:.7f}', fontsize=8)\n",
        "\n",
        "\n",
        "\n",
        "# Show the plot\n",
        "plt.show()\n",
        "\n"
      ],
      "metadata": {
        "colab": {
          "base_uri": "https://localhost:8080/",
          "height": 472
        },
        "id": "3-EtZb1V9HSn",
        "outputId": "65c4cd93-2e14-47ac-cb9e-da37a4ca785f"
      },
      "execution_count": null,
      "outputs": [
        {
          "output_type": "display_data",
          "data": {
            "text/plain": [
              "<Figure size 640x480 with 1 Axes>"
            ],
            "image/png": "[encoded data removed]"
          },
          "metadata": {}
        }
      ]
    },
    {
      "cell_type": "markdown",
      "source": [
        "We are observing here that the accuracy difference of ages 0-40 and 40+ has been approximately 1.2 %"
      ],
      "metadata": {
        "id": "EkX2-573rpwF"
      }
    },
    {
      "cell_type": "markdown",
      "source": [
        "#Change Regularization to None"
      ],
      "metadata": {
        "id": "fxc-zfp4NnFU"
      }
    },
    {
      "cell_type": "code",
      "source": [
        "regularization ='none'\n",
        "\n",
        "classifier = LogisticRegression(penalty= regularization, random_state = 0)\n",
        "\n",
        "classifier.fit(x_train, y_train)\n",
        "\n",
        "y_pred_none = classifier.predict (x_test)\n",
        "y_pred_none_higher_40 = classifier.predict (x_test_higher_40)\n",
        "y_pred_none_lower_40 = classifier.predict (x_test_lower_40)\n",
        "\n",
        "accuracy_none = accuracy_score (y_test, y_pred_none)\n",
        "accuracy_none_higher_40 = accuracy_score (y_test_higher_40, y_pred_none_higher_40)\n",
        "accuracy_none_lower_40 = accuracy_score (y_test_lower_40, y_pred_none_lower_40)\n",
        "\n",
        "\n",
        "accuracies = [accuracy_none, accuracy_none_lower_40, accuracy_none_higher_40]\n",
        "models = ['All Ages', '0-40', '41+']\n",
        "bars = plt.bar(models, accuracies, color=['blue', 'green', 'red'])\n",
        "\n",
        "\n",
        "\n",
        "plt.xlabel('Models in Logistic Regression')\n",
        "plt.ylabel('Accuracy with penalty None')\n",
        "plt.title('Accuracy Comparison of Models in Logistic Regression')\n",
        "\n",
        "for bar, accuracy in zip(bars, accuracies):\n",
        "    plt.text(bar.get_x() + bar.get_width() / 2 - 0.1, bar.get_height() + 0.005, f'{accuracy:.7f}', fontsize=8)\n",
        "\n",
        "\n",
        "\n",
        "# Show the plot\n",
        "plt.show()"
      ],
      "metadata": {
        "id": "AwHJl1p7_NsB",
        "colab": {
          "base_uri": "https://localhost:8080/",
          "height": 666
        },
        "outputId": "42f309f1-21bf-4dc4-fc4d-e8d691f98f7c"
      },
      "execution_count": null,
      "outputs": [
        {
          "output_type": "stream",
          "name": "stderr",
          "text": [
            "/usr/local/lib/python3.10/dist-packages/sklearn/linear_model/_logistic.py:1173: FutureWarning: `penalty='none'`has been deprecated in 1.2 and will be removed in 1.4. To keep the past behaviour, set `penalty=None`.\n",
            "  warnings.warn(\n",
            "/usr/local/lib/python3.10/dist-packages/sklearn/linear_model/_logistic.py:458: ConvergenceWarning: lbfgs failed to converge (status=1):\n",
            "STOP: TOTAL NO. of ITERATIONS REACHED LIMIT.\n",
            "\n",
            "Increase the number of iterations (max_iter) or scale the data as shown in:\n",
            "    https://scikit-learn.org/stable/modules/preprocessing.html\n",
            "Please also refer to the documentation for alternative solver options:\n",
            "    https://scikit-learn.org/stable/modules/linear_model.html#logistic-regression\n",
            "  n_iter_i = _check_optimize_result(\n"
          ]
        },
        {
          "output_type": "display_data",
          "data": {
            "text/plain": [
              "<Figure size 640x480 with 1 Axes>"
            ],
            "image/png": "[encoded data removed]"
          },
          "metadata": {}
        }
      ]
    },
    {
      "cell_type": "markdown",
      "source": [
        "Now we can observe that without penalty the accuracy of the ages 0-40 is higher than the accuracy of the 40+ by 2%"
      ],
      "metadata": {
        "id": "94I_QFNjsDm9"
      }
    },
    {
      "cell_type": "markdown",
      "source": [
        "#Scatter the plot for the 3 penalties by age to compare which penalty gives better accuracy on each age index."
      ],
      "metadata": {
        "id": "93_M05atQyds"
      }
    },
    {
      "cell_type": "code",
      "source": [
        "accuracies = [accuracy, accuracy_l1, accuracy_none]\n",
        "models = ['L2', 'L1', 'None']\n",
        "bars = plt.bar(models, accuracies, color=['blue', 'green', 'red'])\n",
        "\n",
        "plt.xlabel('Models in Logistic Regression')\n",
        "plt.ylabel('Accuracy for all ages')\n",
        "plt.title('Accuracy Comparison of Models in Logistic Regression')\n",
        "\n",
        "for bar, accuracy in zip(bars, accuracies):\n",
        "    plt.text(bar.get_x() + bar.get_width() / 2 - 0.1, bar.get_height() + 0.005, f'{accuracy:.7f}', fontsize=8)\n",
        "\n",
        "\n",
        "\n",
        "# Show the plot\n",
        "plt.show()\n",
        "\n",
        "\n",
        "accuracies = [accuracy_higher_40, accuracy_l1_higher_40, accuracy_none_higher_40]\n",
        "models = ['L2', 'L1', 'None']\n",
        "bars = plt.bar(models, accuracies, color=['blue', 'green', 'red'])\n",
        "\n",
        "plt.xlabel('Models in Logistic Regression')\n",
        "plt.ylabel('Accuracy for ages 40+')\n",
        "plt.title('Accuracy Comparison of Models in Logistic Regression')\n",
        "\n",
        "for bar, accuracy in zip(bars, accuracies):\n",
        "    plt.text(bar.get_x() + bar.get_width() / 2 - 0.1, bar.get_height() + 0.005, f'{accuracy:.7f}', fontsize=8)\n",
        "\n",
        "\n",
        "\n",
        "# Show the plot\n",
        "plt.show()\n",
        "\n",
        "accuracies = [accuracy_lower_40, accuracy_l1_lower_40, accuracy_none_lower_40]\n",
        "models = ['L2', 'L1', 'None']\n",
        "bars = plt.bar(models, accuracies, color=['blue', 'green', 'red'])\n",
        "\n",
        "plt.xlabel('Models in Logistic Regression')\n",
        "plt.ylabel('Accuracy for ages 40-')\n",
        "plt.title('Accuracy Comparison of Models in Logistic Regression')\n",
        "\n",
        "for bar, accuracy in zip(bars, accuracies):\n",
        "    plt.text(bar.get_x() + bar.get_width() / 2 - 0.1, bar.get_height() + 0.005, f'{accuracy:.7f}', fontsize=8)\n",
        "\n",
        "\n",
        "\n",
        "# Show the plot\n",
        "plt.show()"
      ],
      "metadata": {
        "colab": {
          "base_uri": "https://localhost:8080/",
          "height": 1000
        },
        "id": "u5BIyRSEPxM3",
        "outputId": "f70d2605-8751-4ab4-df51-e39c315f9957"
      },
      "execution_count": null,
      "outputs": [
        {
          "output_type": "display_data",
          "data": {
            "text/plain": [
              "<Figure size 640x480 with 1 Axes>"
            ],
            "image/png": "[encoded data removed]"
          },
          "metadata": {}
        },
        {
          "output_type": "display_data",
          "data": {
            "text/plain": [
              "<Figure size 640x480 with 1 Axes>"
            ],
            "image/png": "[encoded data removed]"
          },
          "metadata": {}
        },
        {
          "output_type": "display_data",
          "data": {
            "text/plain": [
              "<Figure size 640x480 with 1 Axes>"
            ],
            "image/png": "[encoded data removed]"
          },
          "metadata": {}
        }
      ]
    },
    {
      "cell_type": "markdown",
      "source": [
        "As we can see for all ages accuracy the best model is without penalty.\n",
        "\n",
        "On the other hand for ages 40+ the best accuracy occurs with either l1 or l2.\n",
        "\n",
        "For the best accuracy out of the 3 models for ages 0-40 the optimal penalty is none.\n",
        "\n",
        "\n",
        "\n",
        "\n",
        "\n"
      ],
      "metadata": {
        "id": "fpYS5kwVK9hP"
      }
    },
    {
      "cell_type": "markdown",
      "source": [
        "# Ex2. Linear Regression"
      ],
      "metadata": {
        "id": "nAmX2EqQEcBd"
      }
    },
    {
      "cell_type": "markdown",
      "source": [
        "# Select Corresponding Features for this task"
      ],
      "metadata": {
        "id": "jmWWKp_AFxrt"
      }
    },
    {
      "cell_type": "code",
      "source": [
        "input_columns_lr = [\"Age\", \"BMI\",\"Pregnancies\"]\n",
        "target_column_lr = \"BloodPressure\""
      ],
      "metadata": {
        "id": "xVfk17w4EdmM"
      },
      "execution_count": null,
      "outputs": []
    },
    {
      "cell_type": "markdown",
      "source": [
        "# Split Dataset to x, y"
      ],
      "metadata": {
        "id": "cjfhnsymF2G1"
      }
    },
    {
      "cell_type": "code",
      "source": [
        "x_lr = df[input_columns_lr].to_numpy()\n",
        "y_lr = df[target_column_lr].to_numpy()"
      ],
      "metadata": {
        "id": "1XjYBd9DIcz1"
      },
      "execution_count": null,
      "outputs": []
    },
    {
      "cell_type": "markdown",
      "source": [
        "# Split Dataset to Train-Test"
      ],
      "metadata": {
        "id": "qOIVMHA5IdX3"
      }
    },
    {
      "cell_type": "code",
      "source": [
        "x_train_lr, x_test_lr, y_train_lr, y_test_lr = train_test_split(x_lr,y_lr, random_state=0, test_size = test_ratio)"
      ],
      "metadata": {
        "id": "r1w4pSxyIfD2"
      },
      "execution_count": null,
      "outputs": []
    },
    {
      "cell_type": "markdown",
      "source": [
        "# Compute BloodPressure Predictions"
      ],
      "metadata": {
        "id": "Rv_fegtXIfjG"
      }
    },
    {
      "cell_type": "code",
      "source": [
        "classifier = LinearRegression ()\n",
        "\n",
        "classifier.fit(x_train_lr, y_train_lr)\n",
        "\n",
        "y_pred_lr = classifier.predict (x_test_lr)\n",
        "\n"
      ],
      "metadata": {
        "id": "kbeE6H9UJxSG"
      },
      "execution_count": null,
      "outputs": []
    },
    {
      "cell_type": "markdown",
      "source": [
        "# Measure MAE"
      ],
      "metadata": {
        "id": "EUQSHl91Jx32"
      }
    },
    {
      "cell_type": "code",
      "source": [
        "mae = mean_absolute_error(y_test_lr, y_pred_lr)\n",
        "mae"
      ],
      "metadata": {
        "id": "B1EEpRbQJzdm",
        "colab": {
          "base_uri": "https://localhost:8080/"
        },
        "outputId": "328f1606-6c1d-42eb-822f-66b7fffbac74"
      },
      "execution_count": null,
      "outputs": [
        {
          "output_type": "execute_result",
          "data": {
            "text/plain": [
              "10.923279710580168"
            ]
          },
          "metadata": {},
          "execution_count": 23
        }
      ]
    },
    {
      "cell_type": "markdown",
      "source": [
        "#Check the mean and standard deviation of the y of the test set and train set"
      ],
      "metadata": {
        "id": "zCojoZSOtxgC"
      }
    },
    {
      "cell_type": "code",
      "source": [
        "test_std = np.std(y_test_lr)\n",
        "train_std = np.std(y_train_lr)\n",
        "test_mean = np.mean (y_test_lr)\n",
        "train_mean = np.mean (y_train_lr)\n",
        "\n",
        "print(\"Mean of train set:\", train_mean)\n",
        "print(\"Mean of test set:\", test_mean)\n",
        "\n",
        "print(\"Standard Deviation of train set:\", train_std)\n",
        "print(\"Standard Deviation of test set:\", test_std)\n"
      ],
      "metadata": {
        "colab": {
          "base_uri": "https://localhost:8080/"
        },
        "id": "bUyuooB_t9XS",
        "outputId": "527d00ed-d227-426e-d919-cd7dc3c274c3"
      },
      "execution_count": null,
      "outputs": [
        {
          "output_type": "stream",
          "name": "stdout",
          "text": [
            "Mean of train set: 69.66666666666667\n",
            "Mean of test set: 67.80086580086581\n",
            "Standard Deviation of train set: 19.446691366142627\n",
            "Standard Deviation of test set: 19.036629060935017\n"
          ]
        }
      ]
    },
    {
      "cell_type": "markdown",
      "source": [
        "We can see that the mean and standard deviation are relatively close. The difference is very small."
      ],
      "metadata": {
        "id": "maEAwAXvvZHt"
      }
    },
    {
      "cell_type": "code",
      "source": [
        "plt.hist(y_train_lr, bins=20, label='Train Set', color='blue', alpha=0.7)\n",
        "\n",
        "\n",
        "plt.xlabel('Target Values')\n",
        "plt.ylabel('Frequency')\n",
        "plt.title('Histogram of y_train')\n",
        "plt.legend()\n",
        "plt.show()\n",
        "\n",
        "plt.hist(y_test_lr, bins=20, label='Test Set', color='red', alpha=0.7)\n",
        "plt.xlabel('Target Values')\n",
        "plt.ylabel('Frequency')\n",
        "plt.title('Histogram of y_test')\n",
        "plt.legend()\n",
        "plt.show()"
      ],
      "metadata": {
        "colab": {
          "base_uri": "https://localhost:8080/",
          "height": 927
        },
        "id": "RCq7CgzewH2i",
        "outputId": "bd7a6b75-5d4d-4e69-c9e4-fcd8c629aa53"
      },
      "execution_count": null,
      "outputs": [
        {
          "output_type": "display_data",
          "data": {
            "text/plain": [
              "<Figure size 640x480 with 1 Axes>"
            ],
            "image/png": "[encoded data removed]"
          },
          "metadata": {}
        },
        {
          "output_type": "display_data",
          "data": {
            "text/plain": [
              "<Figure size 640x480 with 1 Axes>"
            ],
            "image/png": "[encoded data removed]"
          },
          "metadata": {}
        }
      ]
    },
    {
      "cell_type": "markdown",
      "source": [
        "As we can see here the distribution between the Train and the test set is approximately the same.\n",
        "\n"
      ],
      "metadata": {
        "id": "8y4Q-oNvdggE"
      }
    },
    {
      "cell_type": "markdown",
      "source": [
        "#Using Stohastic Gradient Descent Regresson"
      ],
      "metadata": {
        "id": "ob-Y55zn4kzW"
      }
    },
    {
      "cell_type": "code",
      "source": [
        "sgd_regressor = SGDRegressor (loss='squared_error', penalty = 'l2', learning_rate='constant', eta0=0.01, tol=0.001,random_state =0)\n",
        "sgd_regressor.fit(x_train_lr, y_train_lr)\n",
        "y_pred_sgd = sgd_regressor.predict (x_test_lr)\n",
        "mae_sgd = mean_absolute_error(y_test_lr, y_pred_sgd)\n",
        "\n",
        "mae_sgd"
      ],
      "metadata": {
        "colab": {
          "base_uri": "https://localhost:8080/"
        },
        "id": "0lmsTYZwyzKR",
        "outputId": "cd9c321e-941a-4d91-cdbc-200241910055"
      },
      "execution_count": null,
      "outputs": [
        {
          "output_type": "execute_result",
          "data": {
            "text/plain": [
              "3714793244517.3906"
            ]
          },
          "metadata": {},
          "execution_count": 26
        }
      ]
    },
    {
      "cell_type": "code",
      "source": [
        "sgd_regressor = SGDRegressor (loss='squared_error', penalty = 'l1', learning_rate='constant', eta0=0.01, tol=0.001,random_state =0)\n",
        "sgd_regressor.fit(x_train_lr, y_train_lr)\n",
        "y_pred_sgd_l1 = sgd_regressor.predict (x_test_lr)\n",
        "mae_sgd_l1 = mean_absolute_error(y_test_lr, y_pred_sgd_l1)\n",
        "\n",
        "mae_sgd_l1"
      ],
      "metadata": {
        "colab": {
          "base_uri": "https://localhost:8080/"
        },
        "id": "69l9SVgZ1H9v",
        "outputId": "0f4c8209-8e4c-4f74-d57e-c3cf28ce689c"
      },
      "execution_count": null,
      "outputs": [
        {
          "output_type": "execute_result",
          "data": {
            "text/plain": [
              "7465925577113.516"
            ]
          },
          "metadata": {},
          "execution_count": 27
        }
      ]
    },
    {
      "cell_type": "code",
      "source": [
        "sgd_regressor = SGDRegressor (loss='squared_error', penalty = 'elasticnet', learning_rate='constant', eta0=0.01, tol=1e-3, random_state =0 )\n",
        "sgd_regressor.fit(x_train_lr, y_train_lr)\n",
        "y_pred_sgd_el = sgd_regressor.predict (x_test_lr)\n",
        "mae_sgd_el = mean_absolute_error(y_test_lr, y_pred_sgd_el)\n",
        "\n",
        "mae_sgd_el"
      ],
      "metadata": {
        "colab": {
          "base_uri": "https://localhost:8080/"
        },
        "id": "5Hy5lItt07kp",
        "outputId": "2ac2e80c-8a3f-4aee-9e0a-2ed4eda97b06"
      },
      "execution_count": null,
      "outputs": [
        {
          "output_type": "execute_result",
          "data": {
            "text/plain": [
              "14320399006720.775"
            ]
          },
          "metadata": {},
          "execution_count": 28
        }
      ]
    },
    {
      "cell_type": "code",
      "source": [
        "sgd_regressor = SGDRegressor (loss='squared_error', penalty = None, learning_rate='constant', eta0=0.01, tol=1e-3, random_state =0 )\n",
        "sgd_regressor.fit(x_train_lr, y_train_lr)\n",
        "y_pred_sgd_none = sgd_regressor.predict (x_test_lr)\n",
        "mae_sgd_none = mean_absolute_error(y_test_lr, y_pred_sgd_none)\n",
        "\n",
        "mae_sgd_none"
      ],
      "metadata": {
        "colab": {
          "base_uri": "https://localhost:8080/"
        },
        "id": "F5WkjaOb11kS",
        "outputId": "0972a2f9-f9e8-4f2c-c579-c72cdea1cd61"
      },
      "execution_count": null,
      "outputs": [
        {
          "output_type": "execute_result",
          "data": {
            "text/plain": [
              "19256283794345.633"
            ]
          },
          "metadata": {},
          "execution_count": 29
        }
      ]
    },
    {
      "cell_type": "code",
      "source": [
        "header = [\"L2\", \"L1\", \"ElasticNet\", \"None\"]\n",
        "data = [mae_sgd, mae_sgd_l1, mae_sgd_el, mae_sgd_none]\n",
        "\n",
        "# Print the headers\n",
        "print(\" | \".join(header))\n",
        "\n",
        "# Print the data side by side\n",
        "print(\" | \".join(map(str, data)))"
      ],
      "metadata": {
        "colab": {
          "base_uri": "https://localhost:8080/"
        },
        "id": "_CAN5wmX2Qqr",
        "outputId": "7bfb0bce-f585-4681-8417-a414eef31cbb"
      },
      "execution_count": null,
      "outputs": [
        {
          "output_type": "stream",
          "name": "stdout",
          "text": [
            "L2 | L1 | ElasticNet | None\n",
            "3714793244517.3906 | 7465925577113.516 | 14320399006720.775 | 19256283794345.633\n"
          ]
        }
      ]
    }
  ]
}
