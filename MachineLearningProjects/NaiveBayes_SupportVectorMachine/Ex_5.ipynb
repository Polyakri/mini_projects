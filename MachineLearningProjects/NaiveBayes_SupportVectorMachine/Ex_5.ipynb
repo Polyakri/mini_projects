{
  "nbformat": 4,
  "nbformat_minor": 0,
  "metadata": {
    "colab": {
      "provenance": [],
      "authorship_tag": "ABX9TyOgi/RsmkJiDSBDCyRKCivq",
      "include_colab_link": true
    },
    "kernelspec": {
      "name": "python3",
      "display_name": "Python 3"
    },
    "language_info": {
      "name": "python"
    }
  },
  "cells": [
    {
      "cell_type": "markdown",
      "metadata": {
        "id": "view-in-github",
        "colab_type": "text"
      },
      "source": [
        "<a href=\"https://colab.research.google.com/github/Polyakri/projects/blob/main/MachineLearningProjects/NaiveBayes_SupportVectorMachine/Ex_5.ipynb\" target=\"_parent\"><img src=\"https://colab.research.google.com/assets/colab-badge.svg\" alt=\"Open In Colab\"/></a>"
      ]
    },
    {
      "cell_type": "markdown",
      "source": [
        "# Ex-5\n",
        "Akritidis Polydoros\n",
        "\n"
      ],
      "metadata": {
        "id": "y6UwarXFf84C"
      }
    },
    {
      "cell_type": "markdown",
      "source": [
        "#Importing Libraries"
      ],
      "metadata": {
        "id": "WtPqpyDigkhq"
      }
    },
    {
      "cell_type": "code",
      "execution_count": null,
      "metadata": {
        "id": "Ci4NeAkre7Xu"
      },
      "outputs": [],
      "source": [
        "import numpy as np\n",
        "import random\n",
        "import pandas as pd\n",
        "from sklearn.model_selection import train_test_split\n",
        "import matplotlib.pyplot as plt\n",
        "from sklearn.preprocessing import MinMaxScaler\n",
        "from sklearn.naive_bayes import GaussianNB\n",
        "from sklearn.metrics import accuracy_score, precision_score, recall_score, f1_score, classification_report, confusion_matrix\n",
        "from sklearn.svm import SVC\n",
        "from sklearn.metrics import roc_curve, auc\n",
        "from scipy.stats import norm"
      ]
    },
    {
      "cell_type": "code",
      "source": [
        "!pip install tabulate\n",
        "from tabulate import tabulate\n"
      ],
      "metadata": {
        "colab": {
          "base_uri": "https://localhost:8080/"
        },
        "id": "fhQndfeby3KK",
        "outputId": "3cbc1f3f-b385-428a-bf89-c87f49582aef"
      },
      "execution_count": null,
      "outputs": [
        {
          "output_type": "stream",
          "name": "stdout",
          "text": [
            "Requirement already satisfied: tabulate in /usr/local/lib/python3.10/dist-packages (0.9.0)\n"
          ]
        }
      ]
    },
    {
      "cell_type": "markdown",
      "source": [
        "#Importing the Dataset"
      ],
      "metadata": {
        "id": "WZlZgDxMgxia"
      }
    },
    {
      "cell_type": "code",
      "source": [
        "df = pd.read_csv(\"Sleep_health_and_lifestyle_dataset.csv\")\n",
        "df\n"
      ],
      "metadata": {
        "id": "A9ku9YHggqB6",
        "colab": {
          "base_uri": "https://localhost:8080/",
          "height": 597
        },
        "outputId": "3b1a974b-8c74-4beb-c956-b2e1cdfc19ef"
      },
      "execution_count": null,
      "outputs": [
        {
          "output_type": "execute_result",
          "data": {
            "text/plain": [
              "     Person ID  Gender  Age            Occupation  Sleep Duration  \\\n",
              "0            1    Male   27     Software Engineer             6.1   \n",
              "1            2    Male   28                Doctor             6.2   \n",
              "2            3    Male   28                Doctor             6.2   \n",
              "3            4    Male   28  Sales Representative             5.9   \n",
              "4            5    Male   28  Sales Representative             5.9   \n",
              "..         ...     ...  ...                   ...             ...   \n",
              "369        370  Female   59                 Nurse             8.1   \n",
              "370        371  Female   59                 Nurse             8.0   \n",
              "371        372  Female   59                 Nurse             8.1   \n",
              "372        373  Female   59                 Nurse             8.1   \n",
              "373        374  Female   59                 Nurse             8.1   \n",
              "\n",
              "     Quality of Sleep  Physical Activity Level  Stress Level BMI Category  \\\n",
              "0                   6                       42             6   Overweight   \n",
              "1                   6                       60             8       Normal   \n",
              "2                   6                       60             8       Normal   \n",
              "3                   4                       30             8        Obese   \n",
              "4                   4                       30             8        Obese   \n",
              "..                ...                      ...           ...          ...   \n",
              "369                 9                       75             3   Overweight   \n",
              "370                 9                       75             3   Overweight   \n",
              "371                 9                       75             3   Overweight   \n",
              "372                 9                       75             3   Overweight   \n",
              "373                 9                       75             3   Overweight   \n",
              "\n",
              "    Blood Pressure  Heart Rate  Daily Steps Sleep Disorder  \n",
              "0           126/83          77         4200           None  \n",
              "1           125/80          75        10000           None  \n",
              "2           125/80          75        10000           None  \n",
              "3           140/90          85         3000    Sleep Apnea  \n",
              "4           140/90          85         3000    Sleep Apnea  \n",
              "..             ...         ...          ...            ...  \n",
              "369         140/95          68         7000    Sleep Apnea  \n",
              "370         140/95          68         7000    Sleep Apnea  \n",
              "371         140/95          68         7000    Sleep Apnea  \n",
              "372         140/95          68         7000    Sleep Apnea  \n",
              "373         140/95          68         7000    Sleep Apnea  \n",
              "\n",
              "[374 rows x 13 columns]"
            ],
            "text/html": [
              "\n",
              "  <div id=\"df-cc9f3311-e1b6-479a-8fef-b4d9689251c5\" class=\"colab-df-container\">\n",
              "    <div>\n",
              "<style scoped>\n",
              "    .dataframe tbody tr th:only-of-type {\n",
              "        vertical-align: middle;\n",
              "    }\n",
              "\n",
              "    .dataframe tbody tr th {\n",
              "        vertical-align: top;\n",
              "    }\n",
              "\n",
              "    .dataframe thead th {\n",
              "        text-align: right;\n",
              "    }\n",
              "</style>\n",
              "<table border=\"1\" class=\"dataframe\">\n",
              "  <thead>\n",
              "    <tr style=\"text-align: right;\">\n",
              "      <th></th>\n",
              "      <th>Person ID</th>\n",
              "      <th>Gender</th>\n",
              "      <th>Age</th>\n",
              "      <th>Occupation</th>\n",
              "      <th>Sleep Duration</th>\n",
              "      <th>Quality of Sleep</th>\n",
              "      <th>Physical Activity Level</th>\n",
              "      <th>Stress Level</th>\n",
              "      <th>BMI Category</th>\n",
              "      <th>Blood Pressure</th>\n",
              "      <th>Heart Rate</th>\n",
              "      <th>Daily Steps</th>\n",
              "      <th>Sleep Disorder</th>\n",
              "    </tr>\n",
              "  </thead>\n",
              "  <tbody>\n",
              "    <tr>\n",
              "      <th>0</th>\n",
              "      <td>1</td>\n",
              "      <td>Male</td>\n",
              "      <td>27</td>\n",
              "      <td>Software Engineer</td>\n",
              "      <td>6.1</td>\n",
              "      <td>6</td>\n",
              "      <td>42</td>\n",
              "      <td>6</td>\n",
              "      <td>Overweight</td>\n",
              "      <td>126/83</td>\n",
              "      <td>77</td>\n",
              "      <td>4200</td>\n",
              "      <td>None</td>\n",
              "    </tr>\n",
              "    <tr>\n",
              "      <th>1</th>\n",
              "      <td>2</td>\n",
              "      <td>Male</td>\n",
              "      <td>28</td>\n",
              "      <td>Doctor</td>\n",
              "      <td>6.2</td>\n",
              "      <td>6</td>\n",
              "      <td>60</td>\n",
              "      <td>8</td>\n",
              "      <td>Normal</td>\n",
              "      <td>125/80</td>\n",
              "      <td>75</td>\n",
              "      <td>10000</td>\n",
              "      <td>None</td>\n",
              "    </tr>\n",
              "    <tr>\n",
              "      <th>2</th>\n",
              "      <td>3</td>\n",
              "      <td>Male</td>\n",
              "      <td>28</td>\n",
              "      <td>Doctor</td>\n",
              "      <td>6.2</td>\n",
              "      <td>6</td>\n",
              "      <td>60</td>\n",
              "      <td>8</td>\n",
              "      <td>Normal</td>\n",
              "      <td>125/80</td>\n",
              "      <td>75</td>\n",
              "      <td>10000</td>\n",
              "      <td>None</td>\n",
              "    </tr>\n",
              "    <tr>\n",
              "      <th>3</th>\n",
              "      <td>4</td>\n",
              "      <td>Male</td>\n",
              "      <td>28</td>\n",
              "      <td>Sales Representative</td>\n",
              "      <td>5.9</td>\n",
              "      <td>4</td>\n",
              "      <td>30</td>\n",
              "      <td>8</td>\n",
              "      <td>Obese</td>\n",
              "      <td>140/90</td>\n",
              "      <td>85</td>\n",
              "      <td>3000</td>\n",
              "      <td>Sleep Apnea</td>\n",
              "    </tr>\n",
              "    <tr>\n",
              "      <th>4</th>\n",
              "      <td>5</td>\n",
              "      <td>Male</td>\n",
              "      <td>28</td>\n",
              "      <td>Sales Representative</td>\n",
              "      <td>5.9</td>\n",
              "      <td>4</td>\n",
              "      <td>30</td>\n",
              "      <td>8</td>\n",
              "      <td>Obese</td>\n",
              "      <td>140/90</td>\n",
              "      <td>85</td>\n",
              "      <td>3000</td>\n",
              "      <td>Sleep Apnea</td>\n",
              "    </tr>\n",
              "    <tr>\n",
              "      <th>...</th>\n",
              "      <td>...</td>\n",
              "      <td>...</td>\n",
              "      <td>...</td>\n",
              "      <td>...</td>\n",
              "      <td>...</td>\n",
              "      <td>...</td>\n",
              "      <td>...</td>\n",
              "      <td>...</td>\n",
              "      <td>...</td>\n",
              "      <td>...</td>\n",
              "      <td>...</td>\n",
              "      <td>...</td>\n",
              "      <td>...</td>\n",
              "    </tr>\n",
              "    <tr>\n",
              "      <th>369</th>\n",
              "      <td>370</td>\n",
              "      <td>Female</td>\n",
              "      <td>59</td>\n",
              "      <td>Nurse</td>\n",
              "      <td>8.1</td>\n",
              "      <td>9</td>\n",
              "      <td>75</td>\n",
              "      <td>3</td>\n",
              "      <td>Overweight</td>\n",
              "      <td>140/95</td>\n",
              "      <td>68</td>\n",
              "      <td>7000</td>\n",
              "      <td>Sleep Apnea</td>\n",
              "    </tr>\n",
              "    <tr>\n",
              "      <th>370</th>\n",
              "      <td>371</td>\n",
              "      <td>Female</td>\n",
              "      <td>59</td>\n",
              "      <td>Nurse</td>\n",
              "      <td>8.0</td>\n",
              "      <td>9</td>\n",
              "      <td>75</td>\n",
              "      <td>3</td>\n",
              "      <td>Overweight</td>\n",
              "      <td>140/95</td>\n",
              "      <td>68</td>\n",
              "      <td>7000</td>\n",
              "      <td>Sleep Apnea</td>\n",
              "    </tr>\n",
              "    <tr>\n",
              "      <th>371</th>\n",
              "      <td>372</td>\n",
              "      <td>Female</td>\n",
              "      <td>59</td>\n",
              "      <td>Nurse</td>\n",
              "      <td>8.1</td>\n",
              "      <td>9</td>\n",
              "      <td>75</td>\n",
              "      <td>3</td>\n",
              "      <td>Overweight</td>\n",
              "      <td>140/95</td>\n",
              "      <td>68</td>\n",
              "      <td>7000</td>\n",
              "      <td>Sleep Apnea</td>\n",
              "    </tr>\n",
              "    <tr>\n",
              "      <th>372</th>\n",
              "      <td>373</td>\n",
              "      <td>Female</td>\n",
              "      <td>59</td>\n",
              "      <td>Nurse</td>\n",
              "      <td>8.1</td>\n",
              "      <td>9</td>\n",
              "      <td>75</td>\n",
              "      <td>3</td>\n",
              "      <td>Overweight</td>\n",
              "      <td>140/95</td>\n",
              "      <td>68</td>\n",
              "      <td>7000</td>\n",
              "      <td>Sleep Apnea</td>\n",
              "    </tr>\n",
              "    <tr>\n",
              "      <th>373</th>\n",
              "      <td>374</td>\n",
              "      <td>Female</td>\n",
              "      <td>59</td>\n",
              "      <td>Nurse</td>\n",
              "      <td>8.1</td>\n",
              "      <td>9</td>\n",
              "      <td>75</td>\n",
              "      <td>3</td>\n",
              "      <td>Overweight</td>\n",
              "      <td>140/95</td>\n",
              "      <td>68</td>\n",
              "      <td>7000</td>\n",
              "      <td>Sleep Apnea</td>\n",
              "    </tr>\n",
              "  </tbody>\n",
              "</table>\n",
              "<p>374 rows × 13 columns</p>\n",
              "</div>\n",
              "    <div class=\"colab-df-buttons\">\n",
              "\n",
              "  <div class=\"colab-df-container\">\n",
              "    <button class=\"colab-df-convert\" onclick=\"convertToInteractive('df-cc9f3311-e1b6-479a-8fef-b4d9689251c5')\"\n",
              "            title=\"Convert this dataframe to an interactive table.\"\n",
              "            style=\"display:none;\">\n",
              "\n",
              "  <svg xmlns=\"http://www.w3.org/2000/svg\" height=\"24px\" viewBox=\"0 -960 960 960\">\n",
              "    <path d=\"M120-120v-720h720v720H120Zm60-500h600v-160H180v160Zm220 220h160v-160H400v160Zm0 220h160v-160H400v160ZM180-400h160v-160H180v160Zm440 0h160v-160H620v160ZM180-180h160v-160H180v160Zm440 0h160v-160H620v160Z\"/>\n",
              "  </svg>\n",
              "    </button>\n",
              "\n",
              "  <style>\n",
              "    .colab-df-container {\n",
              "      display:flex;\n",
              "      gap: 12px;\n",
              "    }\n",
              "\n",
              "    .colab-df-convert {\n",
              "      background-color: #E8F0FE;\n",
              "      border: none;\n",
              "      border-radius: 50%;\n",
              "      cursor: pointer;\n",
              "      display: none;\n",
              "      fill: #1967D2;\n",
              "      height: 32px;\n",
              "      padding: 0 0 0 0;\n",
              "      width: 32px;\n",
              "    }\n",
              "\n",
              "    .colab-df-convert:hover {\n",
              "      background-color: #E2EBFA;\n",
              "      box-shadow: 0px 1px 2px rgba(60, 64, 67, 0.3), 0px 1px 3px 1px rgba(60, 64, 67, 0.15);\n",
              "      fill: #174EA6;\n",
              "    }\n",
              "\n",
              "    .colab-df-buttons div {\n",
              "      margin-bottom: 4px;\n",
              "    }\n",
              "\n",
              "    [theme=dark] .colab-df-convert {\n",
              "      background-color: #3B4455;\n",
              "      fill: #D2E3FC;\n",
              "    }\n",
              "\n",
              "    [theme=dark] .colab-df-convert:hover {\n",
              "      background-color: #434B5C;\n",
              "      box-shadow: 0px 1px 3px 1px rgba(0, 0, 0, 0.15);\n",
              "      filter: drop-shadow(0px 1px 2px rgba(0, 0, 0, 0.3));\n",
              "      fill: #FFFFFF;\n",
              "    }\n",
              "  </style>\n",
              "\n",
              "    <script>\n",
              "      const buttonEl =\n",
              "        document.querySelector('#df-cc9f3311-e1b6-479a-8fef-b4d9689251c5 button.colab-df-convert');\n",
              "      buttonEl.style.display =\n",
              "        google.colab.kernel.accessAllowed ? 'block' : 'none';\n",
              "\n",
              "      async function convertToInteractive(key) {\n",
              "        const element = document.querySelector('#df-cc9f3311-e1b6-479a-8fef-b4d9689251c5');\n",
              "        const dataTable =\n",
              "          await google.colab.kernel.invokeFunction('convertToInteractive',\n",
              "                                                    [key], {});\n",
              "        if (!dataTable) return;\n",
              "\n",
              "        const docLinkHtml = 'Like what you see? Visit the ' +\n",
              "          '<a target=\"_blank\" href=https://colab.research.google.com/notebooks/data_table.ipynb>data table notebook</a>'\n",
              "          + ' to learn more about interactive tables.';\n",
              "        element.innerHTML = '';\n",
              "        dataTable['output_type'] = 'display_data';\n",
              "        await google.colab.output.renderOutput(dataTable, element);\n",
              "        const docLink = document.createElement('div');\n",
              "        docLink.innerHTML = docLinkHtml;\n",
              "        element.appendChild(docLink);\n",
              "      }\n",
              "    </script>\n",
              "  </div>\n",
              "\n",
              "\n",
              "<div id=\"df-96cecf42-831e-488e-9c98-ed662dccef42\">\n",
              "  <button class=\"colab-df-quickchart\" onclick=\"quickchart('df-96cecf42-831e-488e-9c98-ed662dccef42')\"\n",
              "            title=\"Suggest charts\"\n",
              "            style=\"display:none;\">\n",
              "\n",
              "<svg xmlns=\"http://www.w3.org/2000/svg\" height=\"24px\"viewBox=\"0 0 24 24\"\n",
              "     width=\"24px\">\n",
              "    <g>\n",
              "        <path d=\"M19 3H5c-1.1 0-2 .9-2 2v14c0 1.1.9 2 2 2h14c1.1 0 2-.9 2-2V5c0-1.1-.9-2-2-2zM9 17H7v-7h2v7zm4 0h-2V7h2v10zm4 0h-2v-4h2v4z\"/>\n",
              "    </g>\n",
              "</svg>\n",
              "  </button>\n",
              "\n",
              "<style>\n",
              "  .colab-df-quickchart {\n",
              "      --bg-color: #E8F0FE;\n",
              "      --fill-color: #1967D2;\n",
              "      --hover-bg-color: #E2EBFA;\n",
              "      --hover-fill-color: #174EA6;\n",
              "      --disabled-fill-color: #AAA;\n",
              "      --disabled-bg-color: #DDD;\n",
              "  }\n",
              "\n",
              "  [theme=dark] .colab-df-quickchart {\n",
              "      --bg-color: #3B4455;\n",
              "      --fill-color: #D2E3FC;\n",
              "      --hover-bg-color: #434B5C;\n",
              "      --hover-fill-color: #FFFFFF;\n",
              "      --disabled-bg-color: #3B4455;\n",
              "      --disabled-fill-color: #666;\n",
              "  }\n",
              "\n",
              "  .colab-df-quickchart {\n",
              "    background-color: var(--bg-color);\n",
              "    border: none;\n",
              "    border-radius: 50%;\n",
              "    cursor: pointer;\n",
              "    display: none;\n",
              "    fill: var(--fill-color);\n",
              "    height: 32px;\n",
              "    padding: 0;\n",
              "    width: 32px;\n",
              "  }\n",
              "\n",
              "  .colab-df-quickchart:hover {\n",
              "    background-color: var(--hover-bg-color);\n",
              "    box-shadow: 0 1px 2px rgba(60, 64, 67, 0.3), 0 1px 3px 1px rgba(60, 64, 67, 0.15);\n",
              "    fill: var(--button-hover-fill-color);\n",
              "  }\n",
              "\n",
              "  .colab-df-quickchart-complete:disabled,\n",
              "  .colab-df-quickchart-complete:disabled:hover {\n",
              "    background-color: var(--disabled-bg-color);\n",
              "    fill: var(--disabled-fill-color);\n",
              "    box-shadow: none;\n",
              "  }\n",
              "\n",
              "  .colab-df-spinner {\n",
              "    border: 2px solid var(--fill-color);\n",
              "    border-color: transparent;\n",
              "    border-bottom-color: var(--fill-color);\n",
              "    animation:\n",
              "      spin 1s steps(1) infinite;\n",
              "  }\n",
              "\n",
              "  @keyframes spin {\n",
              "    0% {\n",
              "      border-color: transparent;\n",
              "      border-bottom-color: var(--fill-color);\n",
              "      border-left-color: var(--fill-color);\n",
              "    }\n",
              "    20% {\n",
              "      border-color: transparent;\n",
              "      border-left-color: var(--fill-color);\n",
              "      border-top-color: var(--fill-color);\n",
              "    }\n",
              "    30% {\n",
              "      border-color: transparent;\n",
              "      border-left-color: var(--fill-color);\n",
              "      border-top-color: var(--fill-color);\n",
              "      border-right-color: var(--fill-color);\n",
              "    }\n",
              "    40% {\n",
              "      border-color: transparent;\n",
              "      border-right-color: var(--fill-color);\n",
              "      border-top-color: var(--fill-color);\n",
              "    }\n",
              "    60% {\n",
              "      border-color: transparent;\n",
              "      border-right-color: var(--fill-color);\n",
              "    }\n",
              "    80% {\n",
              "      border-color: transparent;\n",
              "      border-right-color: var(--fill-color);\n",
              "      border-bottom-color: var(--fill-color);\n",
              "    }\n",
              "    90% {\n",
              "      border-color: transparent;\n",
              "      border-bottom-color: var(--fill-color);\n",
              "    }\n",
              "  }\n",
              "</style>\n",
              "\n",
              "  <script>\n",
              "    async function quickchart(key) {\n",
              "      const quickchartButtonEl =\n",
              "        document.querySelector('#' + key + ' button');\n",
              "      quickchartButtonEl.disabled = true;  // To prevent multiple clicks.\n",
              "      quickchartButtonEl.classList.add('colab-df-spinner');\n",
              "      try {\n",
              "        const charts = await google.colab.kernel.invokeFunction(\n",
              "            'suggestCharts', [key], {});\n",
              "      } catch (error) {\n",
              "        console.error('Error during call to suggestCharts:', error);\n",
              "      }\n",
              "      quickchartButtonEl.classList.remove('colab-df-spinner');\n",
              "      quickchartButtonEl.classList.add('colab-df-quickchart-complete');\n",
              "    }\n",
              "    (() => {\n",
              "      let quickchartButtonEl =\n",
              "        document.querySelector('#df-96cecf42-831e-488e-9c98-ed662dccef42 button');\n",
              "      quickchartButtonEl.style.display =\n",
              "        google.colab.kernel.accessAllowed ? 'block' : 'none';\n",
              "    })();\n",
              "  </script>\n",
              "</div>\n",
              "    </div>\n",
              "  </div>\n"
            ]
          },
          "metadata": {},
          "execution_count": 47
        }
      ]
    },
    {
      "cell_type": "markdown",
      "source": [
        "Plot the bar for occupation of people suffer from Insomnia"
      ],
      "metadata": {
        "id": "TCsHe5Xyj5JD"
      }
    },
    {
      "cell_type": "code",
      "source": [
        "insomnia_count = df[df['Sleep Disorder'] == 'Insomnia']['Occupation'].value_counts()\n",
        "insomnia_count.plot(kind='bar')\n",
        "plt.title('Occupation Counts for Insomnia')\n",
        "plt.xlabel('Occupation')\n",
        "plt.ylabel('Count')\n",
        "plt.show()"
      ],
      "metadata": {
        "colab": {
          "base_uri": "https://localhost:8080/",
          "height": 585
        },
        "id": "outS18lmhTPK",
        "outputId": "9bce910b-626c-4bf4-8d41-5921a7ed95a7"
      },
      "execution_count": null,
      "outputs": [
        {
          "output_type": "display_data",
          "data": {
            "text/plain": [
              "<Figure size 640x480 with 1 Axes>"
            ],
            "image/png": "[encoded data removed]"
          },
          "metadata": {}
        }
      ]
    },
    {
      "cell_type": "markdown",
      "source": [
        "Print the occupation that doesn't suffer from sleep disorder the most"
      ],
      "metadata": {
        "id": "E6dHpVDRkBsG"
      }
    },
    {
      "cell_type": "code",
      "source": [
        "none_count = df[df['Sleep Disorder'] == 'None']['Occupation'].value_counts()\n",
        "max_label = none_count.idxmax()\n",
        "max_count = none_count.max()\n",
        "\n",
        "print(f\"Max Sleep Disorder = None is {max_label}, with count {max_count}\")"
      ],
      "metadata": {
        "colab": {
          "base_uri": "https://localhost:8080/"
        },
        "id": "CYh-BaxJh_Gz",
        "outputId": "a45d000e-5f02-4b32-99b6-92580d9491b9"
      },
      "execution_count": null,
      "outputs": [
        {
          "output_type": "stream",
          "name": "stdout",
          "text": [
            "Max Sleep Disorder = None is Doctor, with count 64\n"
          ]
        }
      ]
    },
    {
      "cell_type": "markdown",
      "source": [
        "Plot a bar for male and female insances with their sleep disorder side to side."
      ],
      "metadata": {
        "id": "-GCcYseWkMh8"
      }
    },
    {
      "cell_type": "code",
      "source": [
        "insomnia_counts = df[df['Sleep Disorder'].isin(['Insomnia', 'Sleep Apnea'])]\n",
        "\n",
        "insomnia_counts.loc[:, 'Total'] = insomnia_counts.groupby(['Gender'])['Sleep Disorder'].transform('count')\n",
        "\n",
        "grouped_df = insomnia_counts.groupby(['Sleep Disorder', 'Gender']).size().unstack()\n",
        "\n",
        "total_count = insomnia_counts.groupby('Gender')['Total'].first().reset_index()\n",
        "total_count.set_index('Gender', inplace=True)\n",
        "grouped_df.loc['Total'] = total_count['Total']\n",
        "\n",
        "\n",
        "ax = grouped_df.plot(kind='bar', width=0.3, figsize=(10, 6), color=['Red', 'Blue', 'Green'])\n",
        "ax.set_title('Number of Individuals with Insomnia or Sleep Apnea by Gender')\n",
        "ax.set_xlabel('Sleep Disorder')\n",
        "ax.set_ylabel('Count')\n",
        "ax.legend(title='Gender', bbox_to_anchor=(1, 1))\n",
        "\n",
        "\n",
        "for p in ax.patches:\n",
        "    ax.annotate(str(p.get_height()), (p.get_x() + p.get_width() / 2., p.get_height()),\n",
        "                ha='center', va='center', xytext=(0, 10), textcoords='offset points')\n",
        "\n",
        "plt.show()\n"
      ],
      "metadata": {
        "colab": {
          "base_uri": "https://localhost:8080/",
          "height": 761
        },
        "id": "HbZse5_zjvh3",
        "outputId": "86d48532-0898-4226-d8ec-6bd0e6ca821a"
      },
      "execution_count": null,
      "outputs": [
        {
          "output_type": "stream",
          "name": "stderr",
          "text": [
            "<ipython-input-50-345db5fa2ce4>:3: SettingWithCopyWarning: \n",
            "A value is trying to be set on a copy of a slice from a DataFrame.\n",
            "Try using .loc[row_indexer,col_indexer] = value instead\n",
            "\n",
            "See the caveats in the documentation: https://pandas.pydata.org/pandas-docs/stable/user_guide/indexing.html#returning-a-view-versus-a-copy\n",
            "  insomnia_counts.loc[:, 'Total'] = insomnia_counts.groupby(['Gender'])['Sleep Disorder'].transform('count')\n"
          ]
        },
        {
          "output_type": "display_data",
          "data": {
            "text/plain": [
              "<Figure size 1000x600 with 1 Axes>"
            ],
            "image/png": "[encoded data removed]"
          },
          "metadata": {}
        }
      ]
    },
    {
      "cell_type": "markdown",
      "source": [
        "The reuslts of this dataset will not be very good because there is inbalance in the dataset for every sleep disorder. The female count is almost double as the male count."
      ],
      "metadata": {
        "id": "ceihUDhGlyou"
      }
    },
    {
      "cell_type": "markdown",
      "source": [
        "Plot a bar plot with counts of Sleep disorder column"
      ],
      "metadata": {
        "id": "RbGwdG_1kYam"
      }
    },
    {
      "cell_type": "code",
      "source": [
        "sleep_disorder_counts = df['Sleep Disorder'].value_counts()\n",
        "\n",
        "\n",
        "sleep_disorder_counts.plot(kind='bar', color='Green')\n",
        "\n",
        "plt.xlabel('Sleep Disorders')\n",
        "plt.ylabel('Count')\n",
        "plt.title('Sleep Disorders Distribution')\n",
        "\n",
        "\n",
        "plt.show()"
      ],
      "metadata": {
        "colab": {
          "base_uri": "https://localhost:8080/",
          "height": 545
        },
        "id": "pwLSLWKXlvvd",
        "outputId": "ec4fe787-4e49-4eeb-e6cb-f268e74c1f2f"
      },
      "execution_count": null,
      "outputs": [
        {
          "output_type": "display_data",
          "data": {
            "text/plain": [
              "<Figure size 640x480 with 1 Axes>"
            ],
            "image/png": "[encoded data removed]"
          },
          "metadata": {}
        }
      ]
    },
    {
      "cell_type": "markdown",
      "source": [
        "#Data Pre-Processing"
      ],
      "metadata": {
        "id": "FvX9W36ZoeL0"
      }
    },
    {
      "cell_type": "markdown",
      "source": [
        "One-hot encode 'BMI Category' and 'Occupation'"
      ],
      "metadata": {
        "id": "j1Dl3KG0kjBy"
      }
    },
    {
      "cell_type": "code",
      "source": [
        "df_encoded = pd.get_dummies(df, columns=['BMI Category', 'Occupation'])"
      ],
      "metadata": {
        "id": "WXyMxiwqoXpI"
      },
      "execution_count": null,
      "outputs": []
    },
    {
      "cell_type": "markdown",
      "source": [
        "Swap male with 0 and female with 1 values"
      ],
      "metadata": {
        "id": "z8xskK4Vkn4E"
      }
    },
    {
      "cell_type": "code",
      "source": [
        "df_encoded['Gender'] = df['Gender'].replace({'Male': 0, 'Female': 1})"
      ],
      "metadata": {
        "id": "oeULfj6Sq9Mm"
      },
      "execution_count": null,
      "outputs": []
    },
    {
      "cell_type": "markdown",
      "source": [
        "Swap Sleep disorder values with None=0, Insomnia=1, Sleep Apnea=2"
      ],
      "metadata": {
        "id": "JwAA_L6Qkq7z"
      }
    },
    {
      "cell_type": "code",
      "source": [
        "df_encoded['Sleep Disorder'] = df['Sleep Disorder'].replace({'None':0, 'Insomnia':1, 'Sleep Apnea':2})"
      ],
      "metadata": {
        "id": "CN0wCwjUrP8E"
      },
      "execution_count": null,
      "outputs": []
    },
    {
      "cell_type": "markdown",
      "source": [
        "Drop person id because there is no need to keep it in the dataset as it is an increasing number"
      ],
      "metadata": {
        "id": "ZcxIeCS_kyjO"
      }
    },
    {
      "cell_type": "code",
      "source": [
        "df_encoded.drop('Person ID', axis=1, inplace=True)"
      ],
      "metadata": {
        "id": "BmKs8_kdriBd"
      },
      "execution_count": null,
      "outputs": []
    },
    {
      "cell_type": "markdown",
      "source": [
        "Blood Pressure has to be split to Systolic and Diastolic or else it won't be able to be processed by the model"
      ],
      "metadata": {
        "id": "MJq9WfLlk4nv"
      }
    },
    {
      "cell_type": "code",
      "source": [
        "df_encoded[['Systolic', 'Diastolic']] = df_encoded['Blood Pressure'].str.split('/', expand=True)\n",
        "\n",
        "# Convert the values to numeric\n",
        "df_encoded['Systolic'] = pd.to_numeric(df_encoded['Systolic'])\n",
        "df_encoded['Diastolic'] = pd.to_numeric(df_encoded['Diastolic'])\n",
        "\n",
        "df_encoded.drop('Blood Pressure', axis =1 , inplace = True)"
      ],
      "metadata": {
        "id": "9aGCgf7VvH-u"
      },
      "execution_count": null,
      "outputs": []
    },
    {
      "cell_type": "markdown",
      "source": [
        "Have an overview of the final Dataset"
      ],
      "metadata": {
        "id": "ueQXUGTNlDVA"
      }
    },
    {
      "cell_type": "code",
      "source": [
        "df_encoded"
      ],
      "metadata": {
        "colab": {
          "base_uri": "https://localhost:8080/",
          "height": 478
        },
        "id": "074cmu-_uR4y",
        "outputId": "f957bc33-681a-43f1-df42-9d1e1cbf0d0f"
      },
      "execution_count": null,
      "outputs": [
        {
          "output_type": "execute_result",
          "data": {
            "text/plain": [
              "     Gender  Age  Sleep Duration  Quality of Sleep  Physical Activity Level  \\\n",
              "0         0   27             6.1                 6                       42   \n",
              "1         0   28             6.2                 6                       60   \n",
              "2         0   28             6.2                 6                       60   \n",
              "3         0   28             5.9                 4                       30   \n",
              "4         0   28             5.9                 4                       30   \n",
              "..      ...  ...             ...               ...                      ...   \n",
              "369       1   59             8.1                 9                       75   \n",
              "370       1   59             8.0                 9                       75   \n",
              "371       1   59             8.1                 9                       75   \n",
              "372       1   59             8.1                 9                       75   \n",
              "373       1   59             8.1                 9                       75   \n",
              "\n",
              "     Stress Level  Heart Rate  Daily Steps  Sleep Disorder  \\\n",
              "0               6          77         4200               0   \n",
              "1               8          75        10000               0   \n",
              "2               8          75        10000               0   \n",
              "3               8          85         3000               2   \n",
              "4               8          85         3000               2   \n",
              "..            ...         ...          ...             ...   \n",
              "369             3          68         7000               2   \n",
              "370             3          68         7000               2   \n",
              "371             3          68         7000               2   \n",
              "372             3          68         7000               2   \n",
              "373             3          68         7000               2   \n",
              "\n",
              "     BMI Category_Normal  ...  Occupation_Lawyer  Occupation_Manager  \\\n",
              "0                      0  ...                  0                   0   \n",
              "1                      1  ...                  0                   0   \n",
              "2                      1  ...                  0                   0   \n",
              "3                      0  ...                  0                   0   \n",
              "4                      0  ...                  0                   0   \n",
              "..                   ...  ...                ...                 ...   \n",
              "369                    0  ...                  0                   0   \n",
              "370                    0  ...                  0                   0   \n",
              "371                    0  ...                  0                   0   \n",
              "372                    0  ...                  0                   0   \n",
              "373                    0  ...                  0                   0   \n",
              "\n",
              "     Occupation_Nurse  Occupation_Sales Representative  \\\n",
              "0                   0                                0   \n",
              "1                   0                                0   \n",
              "2                   0                                0   \n",
              "3                   0                                1   \n",
              "4                   0                                1   \n",
              "..                ...                              ...   \n",
              "369                 1                                0   \n",
              "370                 1                                0   \n",
              "371                 1                                0   \n",
              "372                 1                                0   \n",
              "373                 1                                0   \n",
              "\n",
              "     Occupation_Salesperson  Occupation_Scientist  \\\n",
              "0                         0                     0   \n",
              "1                         0                     0   \n",
              "2                         0                     0   \n",
              "3                         0                     0   \n",
              "4                         0                     0   \n",
              "..                      ...                   ...   \n",
              "369                       0                     0   \n",
              "370                       0                     0   \n",
              "371                       0                     0   \n",
              "372                       0                     0   \n",
              "373                       0                     0   \n",
              "\n",
              "     Occupation_Software Engineer  Occupation_Teacher  Systolic  Diastolic  \n",
              "0                               1                   0       126         83  \n",
              "1                               0                   0       125         80  \n",
              "2                               0                   0       125         80  \n",
              "3                               0                   0       140         90  \n",
              "4                               0                   0       140         90  \n",
              "..                            ...                 ...       ...        ...  \n",
              "369                             0                   0       140         95  \n",
              "370                             0                   0       140         95  \n",
              "371                             0                   0       140         95  \n",
              "372                             0                   0       140         95  \n",
              "373                             0                   0       140         95  \n",
              "\n",
              "[374 rows x 26 columns]"
            ],
            "text/html": [
              "\n",
              "  <div id=\"df-60119c3a-2fc9-451a-8c89-e6a0bdfb6169\" class=\"colab-df-container\">\n",
              "    <div>\n",
              "<style scoped>\n",
              "    .dataframe tbody tr th:only-of-type {\n",
              "        vertical-align: middle;\n",
              "    }\n",
              "\n",
              "    .dataframe tbody tr th {\n",
              "        vertical-align: top;\n",
              "    }\n",
              "\n",
              "    .dataframe thead th {\n",
              "        text-align: right;\n",
              "    }\n",
              "</style>\n",
              "<table border=\"1\" class=\"dataframe\">\n",
              "  <thead>\n",
              "    <tr style=\"text-align: right;\">\n",
              "      <th></th>\n",
              "      <th>Gender</th>\n",
              "      <th>Age</th>\n",
              "      <th>Sleep Duration</th>\n",
              "      <th>Quality of Sleep</th>\n",
              "      <th>Physical Activity Level</th>\n",
              "      <th>Stress Level</th>\n",
              "      <th>Heart Rate</th>\n",
              "      <th>Daily Steps</th>\n",
              "      <th>Sleep Disorder</th>\n",
              "      <th>BMI Category_Normal</th>\n",
              "      <th>...</th>\n",
              "      <th>Occupation_Lawyer</th>\n",
              "      <th>Occupation_Manager</th>\n",
              "      <th>Occupation_Nurse</th>\n",
              "      <th>Occupation_Sales Representative</th>\n",
              "      <th>Occupation_Salesperson</th>\n",
              "      <th>Occupation_Scientist</th>\n",
              "      <th>Occupation_Software Engineer</th>\n",
              "      <th>Occupation_Teacher</th>\n",
              "      <th>Systolic</th>\n",
              "      <th>Diastolic</th>\n",
              "    </tr>\n",
              "  </thead>\n",
              "  <tbody>\n",
              "    <tr>\n",
              "      <th>0</th>\n",
              "      <td>0</td>\n",
              "      <td>27</td>\n",
              "      <td>6.1</td>\n",
              "      <td>6</td>\n",
              "      <td>42</td>\n",
              "      <td>6</td>\n",
              "      <td>77</td>\n",
              "      <td>4200</td>\n",
              "      <td>0</td>\n",
              "      <td>0</td>\n",
              "      <td>...</td>\n",
              "      <td>0</td>\n",
              "      <td>0</td>\n",
              "      <td>0</td>\n",
              "      <td>0</td>\n",
              "      <td>0</td>\n",
              "      <td>0</td>\n",
              "      <td>1</td>\n",
              "      <td>0</td>\n",
              "      <td>126</td>\n",
              "      <td>83</td>\n",
              "    </tr>\n",
              "    <tr>\n",
              "      <th>1</th>\n",
              "      <td>0</td>\n",
              "      <td>28</td>\n",
              "      <td>6.2</td>\n",
              "      <td>6</td>\n",
              "      <td>60</td>\n",
              "      <td>8</td>\n",
              "      <td>75</td>\n",
              "      <td>10000</td>\n",
              "      <td>0</td>\n",
              "      <td>1</td>\n",
              "      <td>...</td>\n",
              "      <td>0</td>\n",
              "      <td>0</td>\n",
              "      <td>0</td>\n",
              "      <td>0</td>\n",
              "      <td>0</td>\n",
              "      <td>0</td>\n",
              "      <td>0</td>\n",
              "      <td>0</td>\n",
              "      <td>125</td>\n",
              "      <td>80</td>\n",
              "    </tr>\n",
              "    <tr>\n",
              "      <th>2</th>\n",
              "      <td>0</td>\n",
              "      <td>28</td>\n",
              "      <td>6.2</td>\n",
              "      <td>6</td>\n",
              "      <td>60</td>\n",
              "      <td>8</td>\n",
              "      <td>75</td>\n",
              "      <td>10000</td>\n",
              "      <td>0</td>\n",
              "      <td>1</td>\n",
              "      <td>...</td>\n",
              "      <td>0</td>\n",
              "      <td>0</td>\n",
              "      <td>0</td>\n",
              "      <td>0</td>\n",
              "      <td>0</td>\n",
              "      <td>0</td>\n",
              "      <td>0</td>\n",
              "      <td>0</td>\n",
              "      <td>125</td>\n",
              "      <td>80</td>\n",
              "    </tr>\n",
              "    <tr>\n",
              "      <th>3</th>\n",
              "      <td>0</td>\n",
              "      <td>28</td>\n",
              "      <td>5.9</td>\n",
              "      <td>4</td>\n",
              "      <td>30</td>\n",
              "      <td>8</td>\n",
              "      <td>85</td>\n",
              "      <td>3000</td>\n",
              "      <td>2</td>\n",
              "      <td>0</td>\n",
              "      <td>...</td>\n",
              "      <td>0</td>\n",
              "      <td>0</td>\n",
              "      <td>0</td>\n",
              "      <td>1</td>\n",
              "      <td>0</td>\n",
              "      <td>0</td>\n",
              "      <td>0</td>\n",
              "      <td>0</td>\n",
              "      <td>140</td>\n",
              "      <td>90</td>\n",
              "    </tr>\n",
              "    <tr>\n",
              "      <th>4</th>\n",
              "      <td>0</td>\n",
              "      <td>28</td>\n",
              "      <td>5.9</td>\n",
              "      <td>4</td>\n",
              "      <td>30</td>\n",
              "      <td>8</td>\n",
              "      <td>85</td>\n",
              "      <td>3000</td>\n",
              "      <td>2</td>\n",
              "      <td>0</td>\n",
              "      <td>...</td>\n",
              "      <td>0</td>\n",
              "      <td>0</td>\n",
              "      <td>0</td>\n",
              "      <td>1</td>\n",
              "      <td>0</td>\n",
              "      <td>0</td>\n",
              "      <td>0</td>\n",
              "      <td>0</td>\n",
              "      <td>140</td>\n",
              "      <td>90</td>\n",
              "    </tr>\n",
              "    <tr>\n",
              "      <th>...</th>\n",
              "      <td>...</td>\n",
              "      <td>...</td>\n",
              "      <td>...</td>\n",
              "      <td>...</td>\n",
              "      <td>...</td>\n",
              "      <td>...</td>\n",
              "      <td>...</td>\n",
              "      <td>...</td>\n",
              "      <td>...</td>\n",
              "      <td>...</td>\n",
              "      <td>...</td>\n",
              "      <td>...</td>\n",
              "      <td>...</td>\n",
              "      <td>...</td>\n",
              "      <td>...</td>\n",
              "      <td>...</td>\n",
              "      <td>...</td>\n",
              "      <td>...</td>\n",
              "      <td>...</td>\n",
              "      <td>...</td>\n",
              "      <td>...</td>\n",
              "    </tr>\n",
              "    <tr>\n",
              "      <th>369</th>\n",
              "      <td>1</td>\n",
              "      <td>59</td>\n",
              "      <td>8.1</td>\n",
              "      <td>9</td>\n",
              "      <td>75</td>\n",
              "      <td>3</td>\n",
              "      <td>68</td>\n",
              "      <td>7000</td>\n",
              "      <td>2</td>\n",
              "      <td>0</td>\n",
              "      <td>...</td>\n",
              "      <td>0</td>\n",
              "      <td>0</td>\n",
              "      <td>1</td>\n",
              "      <td>0</td>\n",
              "      <td>0</td>\n",
              "      <td>0</td>\n",
              "      <td>0</td>\n",
              "      <td>0</td>\n",
              "      <td>140</td>\n",
              "      <td>95</td>\n",
              "    </tr>\n",
              "    <tr>\n",
              "      <th>370</th>\n",
              "      <td>1</td>\n",
              "      <td>59</td>\n",
              "      <td>8.0</td>\n",
              "      <td>9</td>\n",
              "      <td>75</td>\n",
              "      <td>3</td>\n",
              "      <td>68</td>\n",
              "      <td>7000</td>\n",
              "      <td>2</td>\n",
              "      <td>0</td>\n",
              "      <td>...</td>\n",
              "      <td>0</td>\n",
              "      <td>0</td>\n",
              "      <td>1</td>\n",
              "      <td>0</td>\n",
              "      <td>0</td>\n",
              "      <td>0</td>\n",
              "      <td>0</td>\n",
              "      <td>0</td>\n",
              "      <td>140</td>\n",
              "      <td>95</td>\n",
              "    </tr>\n",
              "    <tr>\n",
              "      <th>371</th>\n",
              "      <td>1</td>\n",
              "      <td>59</td>\n",
              "      <td>8.1</td>\n",
              "      <td>9</td>\n",
              "      <td>75</td>\n",
              "      <td>3</td>\n",
              "      <td>68</td>\n",
              "      <td>7000</td>\n",
              "      <td>2</td>\n",
              "      <td>0</td>\n",
              "      <td>...</td>\n",
              "      <td>0</td>\n",
              "      <td>0</td>\n",
              "      <td>1</td>\n",
              "      <td>0</td>\n",
              "      <td>0</td>\n",
              "      <td>0</td>\n",
              "      <td>0</td>\n",
              "      <td>0</td>\n",
              "      <td>140</td>\n",
              "      <td>95</td>\n",
              "    </tr>\n",
              "    <tr>\n",
              "      <th>372</th>\n",
              "      <td>1</td>\n",
              "      <td>59</td>\n",
              "      <td>8.1</td>\n",
              "      <td>9</td>\n",
              "      <td>75</td>\n",
              "      <td>3</td>\n",
              "      <td>68</td>\n",
              "      <td>7000</td>\n",
              "      <td>2</td>\n",
              "      <td>0</td>\n",
              "      <td>...</td>\n",
              "      <td>0</td>\n",
              "      <td>0</td>\n",
              "      <td>1</td>\n",
              "      <td>0</td>\n",
              "      <td>0</td>\n",
              "      <td>0</td>\n",
              "      <td>0</td>\n",
              "      <td>0</td>\n",
              "      <td>140</td>\n",
              "      <td>95</td>\n",
              "    </tr>\n",
              "    <tr>\n",
              "      <th>373</th>\n",
              "      <td>1</td>\n",
              "      <td>59</td>\n",
              "      <td>8.1</td>\n",
              "      <td>9</td>\n",
              "      <td>75</td>\n",
              "      <td>3</td>\n",
              "      <td>68</td>\n",
              "      <td>7000</td>\n",
              "      <td>2</td>\n",
              "      <td>0</td>\n",
              "      <td>...</td>\n",
              "      <td>0</td>\n",
              "      <td>0</td>\n",
              "      <td>1</td>\n",
              "      <td>0</td>\n",
              "      <td>0</td>\n",
              "      <td>0</td>\n",
              "      <td>0</td>\n",
              "      <td>0</td>\n",
              "      <td>140</td>\n",
              "      <td>95</td>\n",
              "    </tr>\n",
              "  </tbody>\n",
              "</table>\n",
              "<p>374 rows × 26 columns</p>\n",
              "</div>\n",
              "    <div class=\"colab-df-buttons\">\n",
              "\n",
              "  <div class=\"colab-df-container\">\n",
              "    <button class=\"colab-df-convert\" onclick=\"convertToInteractive('df-60119c3a-2fc9-451a-8c89-e6a0bdfb6169')\"\n",
              "            title=\"Convert this dataframe to an interactive table.\"\n",
              "            style=\"display:none;\">\n",
              "\n",
              "  <svg xmlns=\"http://www.w3.org/2000/svg\" height=\"24px\" viewBox=\"0 -960 960 960\">\n",
              "    <path d=\"M120-120v-720h720v720H120Zm60-500h600v-160H180v160Zm220 220h160v-160H400v160Zm0 220h160v-160H400v160ZM180-400h160v-160H180v160Zm440 0h160v-160H620v160ZM180-180h160v-160H180v160Zm440 0h160v-160H620v160Z\"/>\n",
              "  </svg>\n",
              "    </button>\n",
              "\n",
              "  <style>\n",
              "    .colab-df-container {\n",
              "      display:flex;\n",
              "      gap: 12px;\n",
              "    }\n",
              "\n",
              "    .colab-df-convert {\n",
              "      background-color: #E8F0FE;\n",
              "      border: none;\n",
              "      border-radius: 50%;\n",
              "      cursor: pointer;\n",
              "      display: none;\n",
              "      fill: #1967D2;\n",
              "      height: 32px;\n",
              "      padding: 0 0 0 0;\n",
              "      width: 32px;\n",
              "    }\n",
              "\n",
              "    .colab-df-convert:hover {\n",
              "      background-color: #E2EBFA;\n",
              "      box-shadow: 0px 1px 2px rgba(60, 64, 67, 0.3), 0px 1px 3px 1px rgba(60, 64, 67, 0.15);\n",
              "      fill: #174EA6;\n",
              "    }\n",
              "\n",
              "    .colab-df-buttons div {\n",
              "      margin-bottom: 4px;\n",
              "    }\n",
              "\n",
              "    [theme=dark] .colab-df-convert {\n",
              "      background-color: #3B4455;\n",
              "      fill: #D2E3FC;\n",
              "    }\n",
              "\n",
              "    [theme=dark] .colab-df-convert:hover {\n",
              "      background-color: #434B5C;\n",
              "      box-shadow: 0px 1px 3px 1px rgba(0, 0, 0, 0.15);\n",
              "      filter: drop-shadow(0px 1px 2px rgba(0, 0, 0, 0.3));\n",
              "      fill: #FFFFFF;\n",
              "    }\n",
              "  </style>\n",
              "\n",
              "    <script>\n",
              "      const buttonEl =\n",
              "        document.querySelector('#df-60119c3a-2fc9-451a-8c89-e6a0bdfb6169 button.colab-df-convert');\n",
              "      buttonEl.style.display =\n",
              "        google.colab.kernel.accessAllowed ? 'block' : 'none';\n",
              "\n",
              "      async function convertToInteractive(key) {\n",
              "        const element = document.querySelector('#df-60119c3a-2fc9-451a-8c89-e6a0bdfb6169');\n",
              "        const dataTable =\n",
              "          await google.colab.kernel.invokeFunction('convertToInteractive',\n",
              "                                                    [key], {});\n",
              "        if (!dataTable) return;\n",
              "\n",
              "        const docLinkHtml = 'Like what you see? Visit the ' +\n",
              "          '<a target=\"_blank\" href=https://colab.research.google.com/notebooks/data_table.ipynb>data table notebook</a>'\n",
              "          + ' to learn more about interactive tables.';\n",
              "        element.innerHTML = '';\n",
              "        dataTable['output_type'] = 'display_data';\n",
              "        await google.colab.output.renderOutput(dataTable, element);\n",
              "        const docLink = document.createElement('div');\n",
              "        docLink.innerHTML = docLinkHtml;\n",
              "        element.appendChild(docLink);\n",
              "      }\n",
              "    </script>\n",
              "  </div>\n",
              "\n",
              "\n",
              "<div id=\"df-b3d45e56-1261-4741-8b48-a9ceb4e218d2\">\n",
              "  <button class=\"colab-df-quickchart\" onclick=\"quickchart('df-b3d45e56-1261-4741-8b48-a9ceb4e218d2')\"\n",
              "            title=\"Suggest charts\"\n",
              "            style=\"display:none;\">\n",
              "\n",
              "<svg xmlns=\"http://www.w3.org/2000/svg\" height=\"24px\"viewBox=\"0 0 24 24\"\n",
              "     width=\"24px\">\n",
              "    <g>\n",
              "        <path d=\"M19 3H5c-1.1 0-2 .9-2 2v14c0 1.1.9 2 2 2h14c1.1 0 2-.9 2-2V5c0-1.1-.9-2-2-2zM9 17H7v-7h2v7zm4 0h-2V7h2v10zm4 0h-2v-4h2v4z\"/>\n",
              "    </g>\n",
              "</svg>\n",
              "  </button>\n",
              "\n",
              "<style>\n",
              "  .colab-df-quickchart {\n",
              "      --bg-color: #E8F0FE;\n",
              "      --fill-color: #1967D2;\n",
              "      --hover-bg-color: #E2EBFA;\n",
              "      --hover-fill-color: #174EA6;\n",
              "      --disabled-fill-color: #AAA;\n",
              "      --disabled-bg-color: #DDD;\n",
              "  }\n",
              "\n",
              "  [theme=dark] .colab-df-quickchart {\n",
              "      --bg-color: #3B4455;\n",
              "      --fill-color: #D2E3FC;\n",
              "      --hover-bg-color: #434B5C;\n",
              "      --hover-fill-color: #FFFFFF;\n",
              "      --disabled-bg-color: #3B4455;\n",
              "      --disabled-fill-color: #666;\n",
              "  }\n",
              "\n",
              "  .colab-df-quickchart {\n",
              "    background-color: var(--bg-color);\n",
              "    border: none;\n",
              "    border-radius: 50%;\n",
              "    cursor: pointer;\n",
              "    display: none;\n",
              "    fill: var(--fill-color);\n",
              "    height: 32px;\n",
              "    padding: 0;\n",
              "    width: 32px;\n",
              "  }\n",
              "\n",
              "  .colab-df-quickchart:hover {\n",
              "    background-color: var(--hover-bg-color);\n",
              "    box-shadow: 0 1px 2px rgba(60, 64, 67, 0.3), 0 1px 3px 1px rgba(60, 64, 67, 0.15);\n",
              "    fill: var(--button-hover-fill-color);\n",
              "  }\n",
              "\n",
              "  .colab-df-quickchart-complete:disabled,\n",
              "  .colab-df-quickchart-complete:disabled:hover {\n",
              "    background-color: var(--disabled-bg-color);\n",
              "    fill: var(--disabled-fill-color);\n",
              "    box-shadow: none;\n",
              "  }\n",
              "\n",
              "  .colab-df-spinner {\n",
              "    border: 2px solid var(--fill-color);\n",
              "    border-color: transparent;\n",
              "    border-bottom-color: var(--fill-color);\n",
              "    animation:\n",
              "      spin 1s steps(1) infinite;\n",
              "  }\n",
              "\n",
              "  @keyframes spin {\n",
              "    0% {\n",
              "      border-color: transparent;\n",
              "      border-bottom-color: var(--fill-color);\n",
              "      border-left-color: var(--fill-color);\n",
              "    }\n",
              "    20% {\n",
              "      border-color: transparent;\n",
              "      border-left-color: var(--fill-color);\n",
              "      border-top-color: var(--fill-color);\n",
              "    }\n",
              "    30% {\n",
              "      border-color: transparent;\n",
              "      border-left-color: var(--fill-color);\n",
              "      border-top-color: var(--fill-color);\n",
              "      border-right-color: var(--fill-color);\n",
              "    }\n",
              "    40% {\n",
              "      border-color: transparent;\n",
              "      border-right-color: var(--fill-color);\n",
              "      border-top-color: var(--fill-color);\n",
              "    }\n",
              "    60% {\n",
              "      border-color: transparent;\n",
              "      border-right-color: var(--fill-color);\n",
              "    }\n",
              "    80% {\n",
              "      border-color: transparent;\n",
              "      border-right-color: var(--fill-color);\n",
              "      border-bottom-color: var(--fill-color);\n",
              "    }\n",
              "    90% {\n",
              "      border-color: transparent;\n",
              "      border-bottom-color: var(--fill-color);\n",
              "    }\n",
              "  }\n",
              "</style>\n",
              "\n",
              "  <script>\n",
              "    async function quickchart(key) {\n",
              "      const quickchartButtonEl =\n",
              "        document.querySelector('#' + key + ' button');\n",
              "      quickchartButtonEl.disabled = true;  // To prevent multiple clicks.\n",
              "      quickchartButtonEl.classList.add('colab-df-spinner');\n",
              "      try {\n",
              "        const charts = await google.colab.kernel.invokeFunction(\n",
              "            'suggestCharts', [key], {});\n",
              "      } catch (error) {\n",
              "        console.error('Error during call to suggestCharts:', error);\n",
              "      }\n",
              "      quickchartButtonEl.classList.remove('colab-df-spinner');\n",
              "      quickchartButtonEl.classList.add('colab-df-quickchart-complete');\n",
              "    }\n",
              "    (() => {\n",
              "      let quickchartButtonEl =\n",
              "        document.querySelector('#df-b3d45e56-1261-4741-8b48-a9ceb4e218d2 button');\n",
              "      quickchartButtonEl.style.display =\n",
              "        google.colab.kernel.accessAllowed ? 'block' : 'none';\n",
              "    })();\n",
              "  </script>\n",
              "</div>\n",
              "    </div>\n",
              "  </div>\n"
            ]
          },
          "metadata": {},
          "execution_count": 57
        }
      ]
    },
    {
      "cell_type": "markdown",
      "source": [
        "#Classification with Naive Bayes and Support Vector Machines"
      ],
      "metadata": {
        "id": "yWk1d3ZGlLUX"
      }
    },
    {
      "cell_type": "markdown",
      "source": [
        "Split the dataset to target and features and keep their names in case of need."
      ],
      "metadata": {
        "id": "WTlX38-hlRfy"
      }
    },
    {
      "cell_type": "code",
      "source": [
        "target_column = \"Sleep Disorder\"\n",
        "y = df_encoded[target_column].to_numpy()\n",
        "\n",
        "dataset_rows = y.shape[0]\n",
        "\n",
        "fn= df_encoded.drop(columns=target_column)\n",
        "feature_names=fn.columns\n",
        "x = df_encoded.drop(columns= target_column).to_numpy()\n",
        "\n",
        "scaler = MinMaxScaler()\n",
        "\n",
        "x = scaler.fit_transform (x)\n"
      ],
      "metadata": {
        "id": "3KApMLdzsaAA"
      },
      "execution_count": null,
      "outputs": []
    },
    {
      "cell_type": "markdown",
      "source": [
        "Split the dataset to train and test with 0.3 ratio"
      ],
      "metadata": {
        "id": "iKugHO_NlYAr"
      }
    },
    {
      "cell_type": "code",
      "source": [
        "x_train, x_test, y_train, y_test = train_test_split(x, y, test_size=0.3, random_state=0)"
      ],
      "metadata": {
        "id": "yWzO5hz6wo5z"
      },
      "execution_count": null,
      "outputs": []
    },
    {
      "cell_type": "markdown",
      "source": [
        "Train the Naive Bayes classifier and print it's micro and macro metrics score"
      ],
      "metadata": {
        "id": "ib_nmH_-leEi"
      }
    },
    {
      "cell_type": "code",
      "source": [
        "clf = GaussianNB()\n",
        "clf.fit(x_train, y_train)\n",
        "\n",
        "predictions_nb = clf.predict(x_test)\n",
        "accuracy_nb = accuracy_score(y_test, predictions_nb)\n",
        "precision_micro_nb = precision_score(y_test, predictions_nb, average='micro')\n",
        "recall_micro_nb = recall_score(y_test, predictions_nb, average='micro')\n",
        "f1_micro_nb = f1_score(y_test, predictions_nb, average='micro')\n",
        "\n",
        "precision_macro_nb = precision_score(y_test, predictions_nb, average='macro')\n",
        "recall_macro_nb = recall_score(y_test, predictions_nb, average='macro')\n",
        "f1_macro_nb = f1_score(y_test, predictions_nb, average='macro')\n",
        "\n",
        "table_data_nb = [\n",
        "    ['Metric', 'Micro', 'Macro'],\n",
        "    ['Accuracy', accuracy_nb, accuracy_nb],\n",
        "    ['Precision', precision_micro_nb, precision_macro_nb],\n",
        "    ['Recall', recall_micro_nb, recall_macro_nb],\n",
        "    ['F1 Score', f1_micro_nb, f1_macro_nb],\n",
        "]\n",
        "\n",
        "print(\"Naive Bayes\")\n",
        "print(tabulate(table_data_nb, headers='firstrow', tablefmt='fancy_grid'))\n"
      ],
      "metadata": {
        "colab": {
          "base_uri": "https://localhost:8080/"
        },
        "id": "-06ibeedx1lf",
        "outputId": "5039b1fc-47f2-48a7-ae15-9f043824ef59"
      },
      "execution_count": null,
      "outputs": [
        {
          "output_type": "stream",
          "name": "stdout",
          "text": [
            "Naive Bayes\n",
            "╒═══════════╤══════════╤══════════╕\n",
            "│ Metric    │    Micro │    Macro │\n",
            "╞═══════════╪══════════╪══════════╡\n",
            "│ Accuracy  │ 0.876106 │ 0.876106 │\n",
            "├───────────┼──────────┼──────────┤\n",
            "│ Precision │ 0.876106 │ 0.850205 │\n",
            "├───────────┼──────────┼──────────┤\n",
            "│ Recall    │ 0.876106 │ 0.846728 │\n",
            "├───────────┼──────────┼──────────┤\n",
            "│ F1 Score  │ 0.876106 │ 0.847475 │\n",
            "╘═══════════╧══════════╧══════════╛\n"
          ]
        }
      ]
    },
    {
      "cell_type": "code",
      "source": [
        "print(\"Classification Report for Naive Baynes:\")\n",
        "print(classification_report(y_test, predictions_nb))"
      ],
      "metadata": {
        "colab": {
          "base_uri": "https://localhost:8080/"
        },
        "id": "Rnw-IROn2VI7",
        "outputId": "3b5eba69-60f2-4938-f155-e7bc8c6125ba"
      },
      "execution_count": null,
      "outputs": [
        {
          "output_type": "stream",
          "name": "stdout",
          "text": [
            "Classification Report for Naive Baynes:\n",
            "              precision    recall  f1-score   support\n",
            "\n",
            "           0       0.92      0.92      0.92        66\n",
            "           1       0.86      0.78      0.82        23\n",
            "           2       0.77      0.83      0.80        24\n",
            "\n",
            "    accuracy                           0.88       113\n",
            "   macro avg       0.85      0.85      0.85       113\n",
            "weighted avg       0.88      0.88      0.88       113\n",
            "\n"
          ]
        }
      ]
    },
    {
      "cell_type": "markdown",
      "source": [
        "The classification report presents key metrics such as precision, recall, F1-score, and support (indicating the actual occurrences of each class) for each target. Additionally, it furnishes the macro-average, which calculates the unweighted mean of these metrics across all classes, and the weighted/micro average, providing a weighted mean that takes into account the class imbalance."
      ],
      "metadata": {
        "id": "gaKCcOsR2m-4"
      }
    },
    {
      "cell_type": "markdown",
      "source": [
        "Print the confusion matrix and explain it"
      ],
      "metadata": {
        "id": "GO90u0bblpvq"
      }
    },
    {
      "cell_type": "code",
      "source": [
        "conf_matrix_nb = confusion_matrix(y_test, predictions_nb)\n",
        "print(\"Confusion Matrix:\")\n",
        "print (conf_matrix_nb)"
      ],
      "metadata": {
        "colab": {
          "base_uri": "https://localhost:8080/"
        },
        "id": "0BiGw5Y43piq",
        "outputId": "bd88e944-1a65-4532-94ab-ccc2b314fbef"
      },
      "execution_count": null,
      "outputs": [
        {
          "output_type": "stream",
          "name": "stdout",
          "text": [
            "Confusion Matrix:\n",
            "[[61  2  3]\n",
            " [ 2 18  3]\n",
            " [ 3  1 20]]\n"
          ]
        }
      ]
    },
    {
      "cell_type": "markdown",
      "source": [
        "For class 0:\n",
        "*   TP = 61\n",
        "*   TN = 18+20+3+1\n",
        "*   FP = 2+3\n",
        "*   FN = 2+3\n",
        "\n",
        "For class 1\n",
        "*   TP = 18\n",
        "*   TN = 61+20+3+3\n",
        "*   FP = 2+1\n",
        "*   FN = 2+3\n",
        "\n",
        "For class 2\n",
        "*   TP = 20\n",
        "*   TN = 61+18+2+2\n",
        "*   FP = 3+3\n",
        "*   FN = 3+1\n",
        "\n",
        "\n",
        "\n",
        "TN of class 0 represents the cases where the model gets it right by correctly identifying instances that are not part of the class 0, but 1 or 2\n",
        "\n",
        "TP of class 0 represents the cases where the model gets it right by correctly identifying instances that are part of the class 0\n",
        "\n",
        "FN  of class 0 represents the cases where the model gets it wrong by mistakenly identifying instances that are not part of the class 0\n",
        "\n",
        "FP of class 0 represents the cases where the model gets it wrong by mistakenly identifying instances that are part of the class 0\n",
        "\n",
        "Same for classes 1 and 2\n"
      ],
      "metadata": {
        "id": "NOasrJln38Qq"
      }
    },
    {
      "cell_type": "markdown",
      "source": [
        "More True Positives has the class 0 and more False Positives the class 2 that have 6"
      ],
      "metadata": {
        "id": "8IW_efGz8Na2"
      }
    },
    {
      "cell_type": "markdown",
      "source": [
        "Train the support vector classifier and print the micro and macro metrics"
      ],
      "metadata": {
        "id": "gUfbcX5Eltzj"
      }
    },
    {
      "cell_type": "code",
      "source": [
        "svc_classifier = SVC(probability=True, random_state=0)\n",
        "\n",
        "\n",
        "svc_classifier.fit(x_train, y_train)\n",
        "\n",
        "\n",
        "predictions_svc = svc_classifier.predict(x_test)\n",
        "\n",
        "accuracy_svc = accuracy_score(y_test, predictions_svc)\n",
        "precision_micro_svc = precision_score(y_test, predictions_svc, average='micro')\n",
        "recall_micro_svc = recall_score(y_test, predictions_svc, average='micro')\n",
        "f1_micro_svc = f1_score(y_test, predictions_svc, average='micro')\n",
        "\n",
        "precision_macro_svc = precision_score(y_test, predictions_svc, average='macro')\n",
        "recall_macro_svc = recall_score(y_test, predictions_svc, average='macro')\n",
        "f1_macro_svc = f1_score(y_test, predictions_svc, average='macro')\n",
        "\n",
        "table_data_svc = [\n",
        "    ['Metric', 'Micro', 'Macro'],\n",
        "    ['Accuracy', accuracy_svc, accuracy_svc],\n",
        "    ['Precision', precision_micro_svc, precision_macro_svc],\n",
        "    ['Recall', recall_micro_svc, recall_macro_svc],\n",
        "    ['F1 Score', f1_micro_svc, f1_macro_svc],\n",
        "]\n",
        "\n",
        "print (\"Support Vector Classifier\")\n",
        "print(tabulate(table_data_svc, headers='firstrow', tablefmt='fancy_grid'))\n",
        "\n"
      ],
      "metadata": {
        "colab": {
          "base_uri": "https://localhost:8080/"
        },
        "id": "pWAgR9vazXyU",
        "outputId": "2e8a75ee-1465-4bef-a30f-1b4160c840de"
      },
      "execution_count": null,
      "outputs": [
        {
          "output_type": "stream",
          "name": "stdout",
          "text": [
            "Support Vector Classifier\n",
            "╒═══════════╤══════════╤══════════╕\n",
            "│ Metric    │    Micro │    Macro │\n",
            "╞═══════════╪══════════╪══════════╡\n",
            "│ Accuracy  │ 0.893805 │ 0.893805 │\n",
            "├───────────┼──────────┼──────────┤\n",
            "│ Precision │ 0.893805 │ 0.872316 │\n",
            "├───────────┼──────────┼──────────┤\n",
            "│ Recall    │ 0.893805 │ 0.856829 │\n",
            "├───────────┼──────────┼──────────┤\n",
            "│ F1 Score  │ 0.893805 │ 0.863938 │\n",
            "╘═══════════╧══════════╧══════════╛\n"
          ]
        }
      ]
    },
    {
      "cell_type": "code",
      "source": [
        "print(\"Classification Report for SVC:\")\n",
        "print(classification_report(y_test, predictions_svc))"
      ],
      "metadata": {
        "colab": {
          "base_uri": "https://localhost:8080/"
        },
        "id": "FsSpm5qr17_s",
        "outputId": "321da5bf-6458-4815-f86b-51146f4bde10"
      },
      "execution_count": null,
      "outputs": [
        {
          "output_type": "stream",
          "name": "stdout",
          "text": [
            "Classification Report for SVC:\n",
            "              precision    recall  f1-score   support\n",
            "\n",
            "           0       0.93      0.95      0.94        66\n",
            "           1       0.86      0.78      0.82        23\n",
            "           2       0.83      0.83      0.83        24\n",
            "\n",
            "    accuracy                           0.89       113\n",
            "   macro avg       0.87      0.86      0.86       113\n",
            "weighted avg       0.89      0.89      0.89       113\n",
            "\n"
          ]
        }
      ]
    },
    {
      "cell_type": "markdown",
      "source": [
        "The classification report is explained above"
      ],
      "metadata": {
        "id": "QJIH-1LW8DMU"
      }
    },
    {
      "cell_type": "markdown",
      "source": [
        "Print the confusion matrix"
      ],
      "metadata": {
        "id": "pMTx8pVKl5el"
      }
    },
    {
      "cell_type": "code",
      "source": [
        "conf_matrix_svc = confusion_matrix(y_test, predictions_svc)\n",
        "print(\"Confusion Matrix:\")\n",
        "print (conf_matrix_svc)"
      ],
      "metadata": {
        "colab": {
          "base_uri": "https://localhost:8080/"
        },
        "id": "mP5emDu275ac",
        "outputId": "a2157fb9-3a54-4665-ed9e-28f2dd9d3b84"
      },
      "execution_count": null,
      "outputs": [
        {
          "output_type": "stream",
          "name": "stdout",
          "text": [
            "Confusion Matrix:\n",
            "[[63  2  1]\n",
            " [ 2 18  3]\n",
            " [ 3  1 20]]\n"
          ]
        }
      ]
    },
    {
      "cell_type": "markdown",
      "source": [
        "The 3x3 confusion Matrix is explained above\n",
        "\n",
        "More True Positives has class 0 with 63 and more False Positives again 0 with 5"
      ],
      "metadata": {
        "id": "Utxxblf_79kl"
      }
    },
    {
      "cell_type": "markdown",
      "source": [
        "#Calibration"
      ],
      "metadata": {
        "id": "5E6Px0zG8tDA"
      }
    },
    {
      "cell_type": "markdown",
      "source": [
        "Use Sleeping Apnea and Insomnia as Sleeping Disorders"
      ],
      "metadata": {
        "id": "Ek7c3aI_l-E4"
      }
    },
    {
      "cell_type": "code",
      "source": [
        "df_calibration = df_encoded.copy()\n",
        "df_calibration['Sleep Disorder'] = df_calibration['Sleep Disorder'].replace(2, 1)"
      ],
      "metadata": {
        "id": "0OQiBCcE94cJ"
      },
      "execution_count": null,
      "outputs": []
    },
    {
      "cell_type": "markdown",
      "source": [
        "Plot the new counts of the target of the dataset"
      ],
      "metadata": {
        "id": "VK_opFYlo4u7"
      }
    },
    {
      "cell_type": "code",
      "source": [
        "sleep_disorder_counts = df_calibration['Sleep Disorder'].value_counts()\n",
        "\n",
        "sleep_disorder_counts.index = sleep_disorder_counts.index.map({0: 'None', 1: 'Disorder'})\n",
        "\n",
        "ax = sleep_disorder_counts.plot(kind='bar', color='Cyan')\n",
        "\n",
        "for i, v in enumerate(sleep_disorder_counts):\n",
        "    ax.text(i, v + 0.1, str(v), ha='center', va='bottom')\n",
        "\n",
        "plt.xlabel('Sleep Disorders')\n",
        "plt.ylabel('Count')\n",
        "plt.title('Sleep Disorders Distribution')\n",
        "\n",
        "plt.show()"
      ],
      "metadata": {
        "colab": {
          "base_uri": "https://localhost:8080/",
          "height": 517
        },
        "id": "JbHLHPw4_Dd5",
        "outputId": "9d89d33f-69c5-446e-b379-f646f8dbfbad"
      },
      "execution_count": null,
      "outputs": [
        {
          "output_type": "display_data",
          "data": {
            "text/plain": [
              "<Figure size 640x480 with 1 Axes>"
            ],
            "image/png": "[encoded data removed]"
          },
          "metadata": {}
        }
      ]
    },
    {
      "cell_type": "markdown",
      "source": [
        "As we can see the dataset is imbalanced but not as much as before. Now the None class is only 1.4 times bigger than the disorder."
      ],
      "metadata": {
        "id": "VynHu4z4_pU9"
      }
    },
    {
      "cell_type": "markdown",
      "source": [
        "Split the dataset in target and features and scale the dataset"
      ],
      "metadata": {
        "id": "Ii7IiDlFo-XG"
      }
    },
    {
      "cell_type": "code",
      "source": [
        "target_column = \"Sleep Disorder\"\n",
        "y_cal = df_calibration[target_column].to_numpy()\n",
        "\n",
        "dataset_rows = y_cal.shape[0]\n",
        "\n",
        "fn= df_calibration.drop(columns=target_column)\n",
        "feature_names=fn.columns\n",
        "x_cal = df_calibration.drop(columns= target_column).to_numpy()\n",
        "\n",
        "scaler = MinMaxScaler()\n",
        "\n",
        "x_cal = scaler.fit_transform (x_cal)\n"
      ],
      "metadata": {
        "id": "BwgE2eVQAgrp"
      },
      "execution_count": null,
      "outputs": []
    },
    {
      "cell_type": "markdown",
      "source": [
        "Split the dataset into test and train"
      ],
      "metadata": {
        "id": "RTrVUXV4pDpK"
      }
    },
    {
      "cell_type": "code",
      "source": [
        "x_train_cal, x_test_cal, y_train_cal, y_test_cal = train_test_split(x_cal, y_cal, test_size=0.3, random_state=0)"
      ],
      "metadata": {
        "id": "GNU8iLteAvL5"
      },
      "execution_count": null,
      "outputs": []
    },
    {
      "cell_type": "markdown",
      "source": [
        "Keep the five first values of the x_test and y_test"
      ],
      "metadata": {
        "id": "oKZUzoakpKxZ"
      }
    },
    {
      "cell_type": "code",
      "source": [
        "x_test_subset = x_test_cal[:5]\n",
        "y_test_subset = y_test_cal[:5]"
      ],
      "metadata": {
        "id": "tPkg-CJFAK14"
      },
      "execution_count": null,
      "outputs": []
    },
    {
      "cell_type": "markdown",
      "source": [
        "Train again the SVC and Naive Bayes with the new dataset"
      ],
      "metadata": {
        "id": "t-eOd87fpPsW"
      }
    },
    {
      "cell_type": "code",
      "source": [
        "clf.fit(x_train_cal, y_train_cal)\n",
        "svc_classifier.fit(x_train_cal, y_train_cal)\n",
        "\n",
        "nb_proba = clf.predict_proba(x_test_subset)\n",
        "svc_proba = svc_classifier.predict_proba(x_test_subset)"
      ],
      "metadata": {
        "id": "t8lXdAuCBB16"
      },
      "execution_count": null,
      "outputs": []
    },
    {
      "cell_type": "markdown",
      "source": [
        "Print the table with the probabilities of the instance to belong in the target."
      ],
      "metadata": {
        "id": "3k_OI6Wypa6Q"
      }
    },
    {
      "cell_type": "code",
      "source": [
        "x_test_ids = range(0, len(x_test_subset) )\n",
        "\n",
        "proba_clf = clf.predict_proba(x_test_subset)\n",
        "proba_svc = svc_classifier.predict_proba(x_test_subset)\n",
        "\n",
        "y_pred_clf = clf.predict(x_test_subset)\n",
        "y_pred_svc = svc_classifier.predict(x_test_subset)\n",
        "\n",
        "# Creating a list of rows for the table\n",
        "table_data = []\n",
        "\n",
        "for i, x_test_id in enumerate(x_test_ids):\n",
        "    row = [x_test_id, 'Gaussian Naive Bayes', proba_clf[i, 0], proba_clf[i, 1], y_pred_clf[i]]\n",
        "    table_data.append(row)\n",
        "\n",
        "    row = [x_test_id, 'Support Vector Classifier', proba_svc[i, 0], proba_svc[i, 1], y_pred_svc[i]]\n",
        "    table_data.append(row)\n",
        "\n",
        "# Creating the table using tabulate\n",
        "headers = ['x_test_id', 'Classifier', 'None Prob', 'Disorder Prob', 'y-pred']\n",
        "table = tabulate(table_data, headers=headers, tablefmt='fancy_grid')\n",
        "\n",
        "# Printing the table\n",
        "print(table)"
      ],
      "metadata": {
        "colab": {
          "base_uri": "https://localhost:8080/"
        },
        "id": "UdWrt0IeCp1p",
        "outputId": "0c665b4e-667a-42b5-820e-0ac4e403179e"
      },
      "execution_count": null,
      "outputs": [
        {
          "output_type": "stream",
          "name": "stdout",
          "text": [
            "╒═════════════╤═══════════════════════════╤═════════════╤═════════════════╤══════════╕\n",
            "│   x_test_id │ Classifier                │   None Prob │   Disorder Prob │   y-pred │\n",
            "╞═════════════╪═══════════════════════════╪═════════════╪═════════════════╪══════════╡\n",
            "│           0 │ Gaussian Naive Bayes      │  1          │     9.91447e-18 │        0 │\n",
            "├─────────────┼───────────────────────────┼─────────────┼─────────────────┼──────────┤\n",
            "│           0 │ Support Vector Classifier │  0.944732   │     0.0552678   │        0 │\n",
            "├─────────────┼───────────────────────────┼─────────────┼─────────────────┼──────────┤\n",
            "│           1 │ Gaussian Naive Bayes      │  2.6244e-11 │     1           │        1 │\n",
            "├─────────────┼───────────────────────────┼─────────────┼─────────────────┼──────────┤\n",
            "│           1 │ Support Vector Classifier │  0.103377   │     0.896623    │        1 │\n",
            "├─────────────┼───────────────────────────┼─────────────┼─────────────────┼──────────┤\n",
            "│           2 │ Gaussian Naive Bayes      │  0.997962   │     0.00203778  │        0 │\n",
            "├─────────────┼───────────────────────────┼─────────────┼─────────────────┼──────────┤\n",
            "│           2 │ Support Vector Classifier │  0.103487   │     0.896513    │        1 │\n",
            "├─────────────┼───────────────────────────┼─────────────┼─────────────────┼──────────┤\n",
            "│           3 │ Gaussian Naive Bayes      │  1          │     1.26969e-14 │        0 │\n",
            "├─────────────┼───────────────────────────┼─────────────┼─────────────────┼──────────┤\n",
            "│           3 │ Support Vector Classifier │  0.944446   │     0.0555541   │        0 │\n",
            "├─────────────┼───────────────────────────┼─────────────┼─────────────────┼──────────┤\n",
            "│           4 │ Gaussian Naive Bayes      │  1          │     7.3427e-09  │        0 │\n",
            "├─────────────┼───────────────────────────┼─────────────┼─────────────────┼──────────┤\n",
            "│           4 │ Support Vector Classifier │  0.621787   │     0.378213    │        0 │\n",
            "╘═════════════╧═══════════════════════════╧═════════════╧═════════════════╧══════════╛\n"
          ]
        }
      ]
    },
    {
      "cell_type": "markdown",
      "source": [
        "Calculate and print the Accuracies of the two classifiers"
      ],
      "metadata": {
        "id": "xIUimPwDpmtM"
      }
    },
    {
      "cell_type": "code",
      "source": [
        "y_pred_cal_nb = clf.predict (x_test_cal)\n",
        "y_pred_cal_svc = svc_classifier.predict (x_test_cal)\n",
        "nb_cm = confusion_matrix (y_pred_cal_nb, y_test_cal)\n",
        "svc_cm = confusion_matrix (y_pred_cal_svc, y_test_cal)\n",
        "\n",
        "print(f\"Accuracy for NB : {accuracy_score(y_pred_cal_nb, y_test_cal)}\")\n",
        "print(f\"Accuracy for SVC : {accuracy_score(y_pred_cal_svc, y_test_cal)}\")"
      ],
      "metadata": {
        "colab": {
          "base_uri": "https://localhost:8080/"
        },
        "id": "CdkCPCVI6NTY",
        "outputId": "afcd3e0f-ed14-445e-b667-2dbd6f0564bd"
      },
      "execution_count": null,
      "outputs": [
        {
          "output_type": "stream",
          "name": "stdout",
          "text": [
            "Accuracy for NB : 0.911504424778761\n",
            "Accuracy for SVC : 0.9026548672566371\n"
          ]
        }
      ]
    },
    {
      "cell_type": "markdown",
      "source": [
        "Print the confusion matrix of the Naive Bayes classifier and explain its values"
      ],
      "metadata": {
        "id": "ONKaaz7bpqv4"
      }
    },
    {
      "cell_type": "code",
      "source": [
        "tp_none_nb = nb_cm[0, 0]\n",
        "tn_none_nb = nb_cm[1, 1]\n",
        "fp_none_nb = nb_cm[1, 0]\n",
        "fn_none_nb = nb_cm[0, 1]\n",
        "\n",
        "tp_disorder_nb = nb_cm[1, 1]\n",
        "tn_disorder_nb = nb_cm[0, 0]\n",
        "fp_disorder_nb = nb_cm[0, 1]\n",
        "fn_disorder_nb = nb_cm[1, 0]\n",
        "\n",
        "print(\"Values for Naive Bayes:\")\n",
        "print(f\"True Positives (None): {tp_none_nb}\")\n",
        "print(f\"True Negatives (None): {tn_none_nb}\")\n",
        "print(f\"False Positives (None): {fp_none_nb}\")\n",
        "print(f\"False Negatives (None): {fn_none_nb}\")\n",
        "print()\n",
        "print(f\"True Positives (Sleep Disorder): {tp_disorder_nb}\")\n",
        "print(f\"True Negatives (Sleep Disorder): {tn_disorder_nb}\")\n",
        "print(f\"False Positives (Sleep Disorder): {fp_disorder_nb}\")\n",
        "print(f\"False Negatives (Sleep Disorder): {fn_disorder_nb}\")\n",
        "\n",
        "class_labels = [\"None\", \"Sleep Disorder\"]\n",
        "\n",
        "nb_cm_table = nb_cm.tolist()\n",
        "\n",
        "\n",
        "print(tabulate(nb_cm_table, headers= class_labels,  tablefmt=\"fancy_grid\"))"
      ],
      "metadata": {
        "colab": {
          "base_uri": "https://localhost:8080/"
        },
        "id": "TzXqJK115mh2",
        "outputId": "d209a93f-7835-460b-82a2-a991b8246058"
      },
      "execution_count": null,
      "outputs": [
        {
          "output_type": "stream",
          "name": "stdout",
          "text": [
            "Values for Naive Bayes:\n",
            "True Positives (None): 63\n",
            "True Negatives (None): 40\n",
            "False Positives (None): 3\n",
            "False Negatives (None): 7\n",
            "\n",
            "True Positives (Sleep Disorder): 40\n",
            "True Negatives (Sleep Disorder): 63\n",
            "False Positives (Sleep Disorder): 7\n",
            "False Negatives (Sleep Disorder): 3\n",
            "╒════════╤══════════════════╕\n",
            "│   None │   Sleep Disorder │\n",
            "╞════════╪══════════════════╡\n",
            "│     63 │                7 │\n",
            "├────────┼──────────────────┤\n",
            "│      3 │               40 │\n",
            "╘════════╧══════════════════╛\n"
          ]
        }
      ]
    },
    {
      "cell_type": "markdown",
      "source": [
        "Print the confusion matrix of the Support Vector classifier and explain its values"
      ],
      "metadata": {
        "id": "HsT_bPiOp2ZF"
      }
    },
    {
      "cell_type": "code",
      "source": [
        "tp_none_svc = svc_cm[0, 0]\n",
        "tn_none_svc = svc_cm[1, 1]\n",
        "fp_none_svc = svc_cm[1, 0]\n",
        "fn_none_svc = svc_cm[0, 1]\n",
        "\n",
        "tp_disorder_svc = svc_cm[1, 1]\n",
        "tn_disorder_svc = svc_cm[0, 0]\n",
        "fp_disorder_svc = svc_cm[0, 1]\n",
        "fn_disorder_svc = svc_cm[1, 0]\n",
        "\n",
        "print(\"Values for Support Vector Classifier:\")\n",
        "print(f\"True Positives (None): {tp_none_svc}\")\n",
        "print(f\"True Negatives (None): {tn_none_svc}\")\n",
        "print(f\"False Positives (None): {fp_none_svc}\")\n",
        "print(f\"False Negatives (None): {fn_none_svc}\")\n",
        "print()\n",
        "print(f\"True Positives (Sleep Disorder): {tp_disorder_svc}\")\n",
        "print(f\"True Negatives (Sleep Disorder): {tn_disorder_svc}\")\n",
        "print(f\"False Positives (Sleep Disorder): {fp_disorder_svc}\")\n",
        "print(f\"False Negatives (Sleep Disorder): {fn_disorder_svc}\")\n",
        "\n",
        "class_labels = [\"None\", \"Sleep Disorder\"]\n",
        "\n",
        "svc_cm_table = svc_cm.tolist()\n",
        "\n",
        "print(tabulate(svc_cm_table, headers=class_labels, tablefmt=\"fancy_grid\"))\n"
      ],
      "metadata": {
        "colab": {
          "base_uri": "https://localhost:8080/"
        },
        "id": "9CG40ZZQ-Z_A",
        "outputId": "f7a732bd-637e-4b80-8fd7-dfb391e21f5a"
      },
      "execution_count": null,
      "outputs": [
        {
          "output_type": "stream",
          "name": "stdout",
          "text": [
            "Values for Support Vector Classifier:\n",
            "True Positives (None): 60\n",
            "True Negatives (None): 42\n",
            "False Positives (None): 6\n",
            "False Negatives (None): 5\n",
            "\n",
            "True Positives (Sleep Disorder): 42\n",
            "True Negatives (Sleep Disorder): 60\n",
            "False Positives (Sleep Disorder): 5\n",
            "False Negatives (Sleep Disorder): 6\n",
            "╒════════╤══════════════════╕\n",
            "│   None │   Sleep Disorder │\n",
            "╞════════╪══════════════════╡\n",
            "│     60 │                5 │\n",
            "├────────┼──────────────────┤\n",
            "│      6 │               42 │\n",
            "╘════════╧══════════════════╛\n"
          ]
        }
      ]
    },
    {
      "cell_type": "markdown",
      "source": [
        "Let's try to put a threshold of 0.3 in the probability to belong in the none class for both classifiers"
      ],
      "metadata": {
        "id": "u6WK0XrdqILM"
      }
    },
    {
      "cell_type": "code",
      "source": [
        "y_prob_nb = clf.predict_proba(x_test_cal)\n",
        "y_prob_svc =svc_classifier.predict_proba(x_test_cal)\n",
        "\n",
        "new_threshold = 0.3\n",
        "\n",
        "y_pred_cal_nb_new_threshold = (y_prob_nb[:, 1] >= new_threshold).astype(int)\n",
        "y_pred_cal_svc_new_threshold = (y_prob_svc[:, 1] >= new_threshold).astype(int)\n",
        "\n",
        "print(f\"Accuracy with new threshold for NB : {accuracy_score(y_pred_cal_nb_new_threshold, y_test_cal)}\")\n",
        "print(f\"Accuracy with old threshold for NB : {accuracy_score(y_pred_cal_nb, y_test_cal)}\")\n",
        "\n",
        "print(f\"Accuracy with new threshold for SVC : {accuracy_score(y_pred_cal_svc_new_threshold, y_test_cal)}\")\n",
        "print(f\"Accuracy with old threshold for SVC : {accuracy_score(y_pred_cal_svc, y_test_cal)}\")\n"
      ],
      "metadata": {
        "colab": {
          "base_uri": "https://localhost:8080/"
        },
        "id": "6v7KcGFDBQd1",
        "outputId": "3f0a6c56-0479-4b05-ac18-ad26b0722deb"
      },
      "execution_count": null,
      "outputs": [
        {
          "output_type": "stream",
          "name": "stdout",
          "text": [
            "Accuracy with new threshold for NB : 0.911504424778761\n",
            "Accuracy with old threshold for NB : 0.911504424778761\n",
            "Accuracy with new threshold for SVC : 0.8849557522123894\n",
            "Accuracy with old threshold for SVC : 0.9026548672566371\n"
          ]
        }
      ]
    },
    {
      "cell_type": "markdown",
      "source": [
        "Calculate the new confusion matrices"
      ],
      "metadata": {
        "id": "JeTuY8HbqS_U"
      }
    },
    {
      "cell_type": "code",
      "source": [
        "nb_new_cm = confusion_matrix (y_pred_cal_nb_new_threshold, y_test_cal)\n",
        "svc_new_cm = confusion_matrix (y_pred_cal_svc_new_threshold, y_test_cal)"
      ],
      "metadata": {
        "id": "922E5WfTFGSo"
      },
      "execution_count": null,
      "outputs": []
    },
    {
      "cell_type": "markdown",
      "source": [
        "Print the confusion matrix of the Naive Bayes and its accuracy"
      ],
      "metadata": {
        "id": "Ztif19hgqXmA"
      }
    },
    {
      "cell_type": "code",
      "source": [
        "print (\"For Naive Bayes Classifier new Threshold\")\n",
        "print()\n",
        "print(f\"Accuracy with new threshold for NB : {accuracy_score(y_pred_cal_nb_new_threshold, y_test_cal)}\")\n",
        "print()\n",
        "tp_none_nb_new = nb_new_cm[0, 0]\n",
        "tn_none_nb_new = nb_new_cm[1, 1]\n",
        "fp_none_nb_new = nb_new_cm[1, 0]\n",
        "fn_none_nb_new = nb_new_cm[0, 1]\n",
        "\n",
        "tp_disorder_nb_new = nb_new_cm[1, 1]\n",
        "tn_disorder_nb_new = nb_new_cm[0, 0]\n",
        "fp_disorder_nb_new = nb_new_cm[0, 1]\n",
        "fn_disorder_nb_new = nb_new_cm[1, 0]\n",
        "\n",
        "class_labels = [\"None\", \"Sleep Disorder\"]\n",
        "\n",
        "nb_new_cm_table = nb_new_cm.tolist()\n",
        "\n",
        "\n",
        "print(tabulate(nb_new_cm_table, headers= class_labels,  tablefmt=\"fancy_grid\"))\n",
        "\n",
        "print(f\"True Positives (None): {tp_none_nb_new}\")\n",
        "print(f\"True Negatives (None): {tn_none_nb_new}\")\n",
        "print(f\"False Positives (None): {fp_none_nb_new}\")\n",
        "print(f\"False Negatives (None): {fn_none_nb_new}\")\n",
        "print()\n",
        "print(f\"True Positives (Sleep Disorder): {tp_disorder_nb_new}\")\n",
        "print(f\"True Negatives (Sleep Disorder): {tn_disorder_nb_new}\")\n",
        "print(f\"False Positives (Sleep Disorder): {fp_disorder_nb_new}\")\n",
        "print(f\"False Negatives (Sleep Disorder): {fn_disorder_nb_new}\")\n"
      ],
      "metadata": {
        "colab": {
          "base_uri": "https://localhost:8080/"
        },
        "id": "qiQ8VsYTFi7T",
        "outputId": "774a8b51-27c0-434d-8623-0127b108928d"
      },
      "execution_count": null,
      "outputs": [
        {
          "output_type": "stream",
          "name": "stdout",
          "text": [
            "For Naive Bayes Classifier new Threshold\n",
            "\n",
            "Accuracy with new threshold for NB : 0.911504424778761\n",
            "\n",
            "╒════════╤══════════════════╕\n",
            "│   None │   Sleep Disorder │\n",
            "╞════════╪══════════════════╡\n",
            "│     63 │                7 │\n",
            "├────────┼──────────────────┤\n",
            "│      3 │               40 │\n",
            "╘════════╧══════════════════╛\n",
            "True Positives (None): 63\n",
            "True Negatives (None): 40\n",
            "False Positives (None): 3\n",
            "False Negatives (None): 7\n",
            "\n",
            "True Positives (Sleep Disorder): 40\n",
            "True Negatives (Sleep Disorder): 63\n",
            "False Positives (Sleep Disorder): 7\n",
            "False Negatives (Sleep Disorder): 3\n"
          ]
        }
      ]
    },
    {
      "cell_type": "markdown",
      "source": [
        "Print the confusion matrix of the Naive Bayes and its accuracy"
      ],
      "metadata": {
        "id": "ozRSscoKqgBg"
      }
    },
    {
      "cell_type": "code",
      "source": [
        "print (\"For Support Vector Classifier new Threshold\")\n",
        "print()\n",
        "print(f\"Accuracy with new threshold for SVC : {accuracy_score(y_pred_cal_svc_new_threshold, y_test_cal)}\")\n",
        "print()\n",
        "tp_none_svc_new = svc_new_cm[0, 0]\n",
        "tn_none_svc_new = svc_new_cm[1, 1]\n",
        "fp_none_svc_new = svc_new_cm[1, 0]\n",
        "fn_none_svc_new = svc_new_cm[0, 1]\n",
        "\n",
        "tp_disorder_svc_new = svc_new_cm[1, 1]\n",
        "tn_disorder_svc_new = svc_new_cm[0, 0]\n",
        "fp_disorder_svc_new = svc_new_cm[0, 1]\n",
        "fn_disorder_svc_new = svc_new_cm[1, 0]\n",
        "\n",
        "class_labels_svc = [\"None\", \"Sleep Disorder\"]\n",
        "\n",
        "svc_new_cm_table = svc_new_cm.tolist()\n",
        "\n",
        "print(tabulate(svc_new_cm_table, headers=class_labels_svc, tablefmt=\"fancy_grid\"))\n",
        "\n",
        "print(f\"True Positives (None): {tp_none_svc_new}\")\n",
        "print(f\"True Negatives (None): {tn_none_svc_new}\")\n",
        "print(f\"False Positives (None): {fp_none_svc_new}\")\n",
        "print(f\"False Negatives (None): {fn_none_svc_new}\")\n",
        "print()\n",
        "print(f\"True Positives (Sleep Disorder): {tp_disorder_svc_new}\")\n",
        "print(f\"True Negatives (Sleep Disorder): {tn_disorder_svc_new}\")\n",
        "print(f\"False Positives (Sleep Disorder): {fp_disorder_svc_new}\")\n",
        "print(f\"False Negatives (Sleep Disorder): {fn_disorder_svc_new}\")\n"
      ],
      "metadata": {
        "colab": {
          "base_uri": "https://localhost:8080/"
        },
        "id": "1FdX4Wv2GTUB",
        "outputId": "de54378c-017f-4fcb-c753-2e08f0c85061"
      },
      "execution_count": null,
      "outputs": [
        {
          "output_type": "stream",
          "name": "stdout",
          "text": [
            "For Support Vector Classifier new Threshold\n",
            "\n",
            "Accuracy with new threshold for SVC : 0.8849557522123894\n",
            "\n",
            "╒════════╤══════════════════╕\n",
            "│   None │   Sleep Disorder │\n",
            "╞════════╪══════════════════╡\n",
            "│     58 │                5 │\n",
            "├────────┼──────────────────┤\n",
            "│      8 │               42 │\n",
            "╘════════╧══════════════════╛\n",
            "True Positives (None): 58\n",
            "True Negatives (None): 42\n",
            "False Positives (None): 8\n",
            "False Negatives (None): 5\n",
            "\n",
            "True Positives (Sleep Disorder): 42\n",
            "True Negatives (Sleep Disorder): 58\n",
            "False Positives (Sleep Disorder): 5\n",
            "False Negatives (Sleep Disorder): 8\n"
          ]
        }
      ]
    },
    {
      "cell_type": "markdown",
      "source": [
        "Plot the ROC curve for both classifiers"
      ],
      "metadata": {
        "id": "IZQ5nnA5qntA"
      }
    },
    {
      "cell_type": "code",
      "source": [
        "print (\"ROC for Naive Bayes\")\n",
        "\n",
        "\n",
        "y_scores_nb = clf.predict_proba(x_test_cal)[:, 1]\n",
        "\n",
        "# Compute ROC curve and ROC area for each class\n",
        "fpr, tpr, _ = roc_curve(y_test_cal, y_scores_nb)\n",
        "roc_auc = auc(fpr, tpr)\n",
        "\n",
        "plt.figure(figsize=(8, 6))\n",
        "plt.plot(fpr, tpr, color='darkorange', lw=2, label='ROC curve (area = {:.2f})'.format(roc_auc))\n",
        "plt.plot([0, 1], [0, 1], color='navy', lw=2, linestyle='--')\n",
        "plt.xlabel('False Positive Rate')\n",
        "plt.ylabel('True Positive Rate')\n",
        "plt.title('Receiver Operating Characteristic (ROC) Curve')\n",
        "plt.legend(loc='lower right')\n",
        "plt.show()"
      ],
      "metadata": {
        "colab": {
          "base_uri": "https://localhost:8080/",
          "height": 581
        },
        "id": "Wgq3IMQuHhlz",
        "outputId": "3da181d7-208e-4395-ad25-b61cbab137b2"
      },
      "execution_count": null,
      "outputs": [
        {
          "output_type": "stream",
          "name": "stdout",
          "text": [
            "ROC for Naive Bayes\n"
          ]
        },
        {
          "output_type": "display_data",
          "data": {
            "text/plain": [
              "<Figure size 800x600 with 1 Axes>"
            ],
            "image/png": "[encoded data removed]"
          },
          "metadata": {}
        }
      ]
    },
    {
      "cell_type": "code",
      "source": [
        "print (\"ROC for SVC\")\n",
        "\n",
        "y_scores_svc = svc_classifier.predict_proba(x_test_cal)[:, 1]\n",
        "\n",
        "# Compute ROC curve and ROC area for each class\n",
        "fpr, tpr, _ = roc_curve(y_test_cal, y_scores_svc)\n",
        "roc_auc = auc(fpr, tpr)\n",
        "\n",
        "plt.figure(figsize=(8, 6))\n",
        "plt.plot(fpr, tpr, color='darkorange', lw=2, label='ROC curve (area = {:.2f})'.format(roc_auc))\n",
        "plt.plot([0, 1], [0, 1], color='navy', lw=2, linestyle='--')\n",
        "plt.xlabel('False Positive Rate')\n",
        "plt.ylabel('True Positive Rate')\n",
        "plt.title('Receiver Operating Characteristic (ROC) Curve')\n",
        "plt.legend(loc='lower right')\n",
        "plt.show()"
      ],
      "metadata": {
        "colab": {
          "base_uri": "https://localhost:8080/",
          "height": 581
        },
        "id": "ERVukNhFIs4V",
        "outputId": "cb552956-ec6a-424b-d125-59192d8316b1"
      },
      "execution_count": null,
      "outputs": [
        {
          "output_type": "stream",
          "name": "stdout",
          "text": [
            "ROC for SVC\n"
          ]
        },
        {
          "output_type": "display_data",
          "data": {
            "text/plain": [
              "<Figure size 800x600 with 1 Axes>"
            ],
            "image/png": "[encoded data removed]"
          },
          "metadata": {}
        }
      ]
    },
    {
      "cell_type": "markdown",
      "source": [
        "Looking at the ROC curves, changing the threshold a bit doesn't seem to make a big difference in the trade-off between catching true positives and avoiding false positives, unless it goes to a very small value. For the SVC it won't change except if it goes near to 0 and for NB the change is minor. Let's change the threshold to 0.1 to check my assumptions."
      ],
      "metadata": {
        "id": "AHwbFZLSOPzz"
      }
    },
    {
      "cell_type": "code",
      "source": [
        "y_prob_nb = clf.predict_proba(x_test_cal)\n",
        "y_prob_svc =svc_classifier.predict_proba(x_test_cal)\n",
        "\n",
        "new_threshold = 0.1\n",
        "\n",
        "y_pred_cal_nb_test_threshold = (y_prob_nb[:, 1] >= new_threshold).astype(int)\n",
        "y_pred_cal_svc_test_threshold = (y_prob_svc[:, 1] >= new_threshold).astype(int)\n",
        "\n",
        "print(f\"Accuracy with 0.1 threshold for NB : {accuracy_score(y_pred_cal_nb_test_threshold, y_test_cal)}\")\n",
        "print(f\"Accuracy with 0.3 threshold for NB : {accuracy_score(y_pred_cal_nb_new_threshold, y_test_cal)}\")\n",
        "print(f\"Accuracy with 0.5 threshold for NB : {accuracy_score(y_pred_cal_nb, y_test_cal)}\")\n",
        "\n",
        "print ()\n",
        "print(f\"Accuracy with 0.1 threshold for SVC : {accuracy_score(y_pred_cal_svc_test_threshold, y_test_cal)}\")\n",
        "print(f\"Accuracy with 0.3 threshold for SVC : {accuracy_score(y_pred_cal_svc_new_threshold, y_test_cal)}\")\n",
        "print(f\"Accuracy with 0.5 threshold for SVC : {accuracy_score(y_pred_cal_svc, y_test_cal)}\")\n",
        "\n",
        "\n",
        "nb_test_cm = confusion_matrix (y_pred_cal_nb_test_threshold, y_test_cal)\n",
        "svc_test_cm = confusion_matrix (y_pred_cal_svc_test_threshold, y_test_cal)\n",
        "\n",
        "print(\"Naive Bayes with 0.3 threshold\")\n",
        "print (nb_new_cm)\n",
        "\n",
        "print ()\n",
        "\n",
        "print(\"Naive Bayes with 0.1 threshold\")\n",
        "print (nb_test_cm)\n",
        "\n",
        "print ()\n",
        "\n",
        "print(\"Support Vector with 0.3 threshold\")\n",
        "print (svc_new_cm)\n",
        "print ()\n",
        "\n",
        "print(\"Support Vector with 0.1 threshold\")\n",
        "print (svc_test_cm)\n",
        "print ()\n",
        "\n",
        "\n",
        "\n",
        "\n"
      ],
      "metadata": {
        "colab": {
          "base_uri": "https://localhost:8080/"
        },
        "id": "iFcF5sFEXSM3",
        "outputId": "07a11ce1-7ab6-4e5f-ea30-146bac45fc36"
      },
      "execution_count": null,
      "outputs": [
        {
          "output_type": "stream",
          "name": "stdout",
          "text": [
            "Accuracy with 0.1 threshold for NB : 0.9026548672566371\n",
            "Accuracy with 0.3 threshold for NB : 0.911504424778761\n",
            "Accuracy with 0.5 threshold for NB : 0.911504424778761\n",
            "\n",
            "Accuracy with 0.1 threshold for SVC : 0.8849557522123894\n",
            "Accuracy with 0.3 threshold for SVC : 0.8849557522123894\n",
            "Accuracy with 0.5 threshold for SVC : 0.9026548672566371\n",
            "Naive Bayes with 0.3 threshold\n",
            "[[63  7]\n",
            " [ 3 40]]\n",
            "\n",
            "Naive Bayes with 0.1 threshold\n",
            "[[62  7]\n",
            " [ 4 40]]\n",
            "\n",
            "Support Vector with 0.3 threshold\n",
            "[[58  5]\n",
            " [ 8 42]]\n",
            "\n",
            "Support Vector with 0.1 threshold\n",
            "[[58  5]\n",
            " [ 8 42]]\n",
            "\n"
          ]
        }
      ]
    },
    {
      "cell_type": "markdown",
      "source": [
        "Our assumption was correct. The confusion matrix doesn't change for the for SVC and for the NB it is a slight difference for that big of a threshold. So a threshold about 0.25 would be a nice option."
      ],
      "metadata": {
        "id": "8GBb002pZFEZ"
      }
    },
    {
      "cell_type": "markdown",
      "source": [
        "#Optimized SVM"
      ],
      "metadata": {
        "id": "wCU70FThq0lb"
      }
    },
    {
      "cell_type": "markdown",
      "source": [
        "x_train, x_test, y_train, y_test are ready to use"
      ],
      "metadata": {
        "id": "KnoTduSGdZul"
      }
    },
    {
      "cell_type": "markdown",
      "source": [
        "Train the SVM model and find the accuracies"
      ],
      "metadata": {
        "id": "7Tgz-VHVkzz0"
      }
    },
    {
      "cell_type": "code",
      "source": [
        "kernel_options = ['linear', 'poly', 'rbf', 'sigmoid']\n",
        "gamma_options = ['scale', 'auto']\n",
        "\n",
        "accuracies  = []\n",
        "\n",
        "for kernel in kernel_options:\n",
        "    for gamma in gamma_options:\n",
        "        svc = SVC(kernel = kernel, gamma= gamma, random_state=0)\n",
        "        svc.fit (x_train, y_train)\n",
        "        y_pred = svc.predict(x_test)\n",
        "\n",
        "        accuracy = accuracy_score (y_pred, y_test)\n",
        "        accuracies.append({'kernel': kernel, 'gamma': gamma, 'accuracy': accuracy})\n",
        "        print(f\"Kernel: {kernel}, Gamma: {gamma}, Accuracy : {accuracy}\")"
      ],
      "metadata": {
        "colab": {
          "base_uri": "https://localhost:8080/"
        },
        "id": "wL4xAxJXZrUv",
        "outputId": "fbba0d4a-b505-4d66-bae1-f4ce90869e9a"
      },
      "execution_count": null,
      "outputs": [
        {
          "output_type": "stream",
          "name": "stdout",
          "text": [
            "Kernel: linear, Gamma: scale, Accuracy : 0.8938053097345132\n",
            "Kernel: linear, Gamma: auto, Accuracy : 0.8938053097345132\n",
            "Kernel: poly, Gamma: scale, Accuracy : 0.911504424778761\n",
            "Kernel: poly, Gamma: auto, Accuracy : 0.7345132743362832\n",
            "Kernel: rbf, Gamma: scale, Accuracy : 0.8938053097345132\n",
            "Kernel: rbf, Gamma: auto, Accuracy : 0.8672566371681416\n",
            "Kernel: sigmoid, Gamma: scale, Accuracy : 0.7079646017699115\n",
            "Kernel: sigmoid, Gamma: auto, Accuracy : 0.8584070796460177\n"
          ]
        }
      ]
    },
    {
      "cell_type": "markdown",
      "source": [
        "According to scikit learn\n",
        "if gamma='scale' (default) is passed then it uses 1 / (n_features * X.var()) as value of gamma,\n",
        "\n",
        "if ‘auto’, uses 1 / n_features.\n",
        "\n",
        "The point of using gamma='scale' is to make the model more robust by automatically adapting the scale of the kernel coefficient to the characteristics of the data."
      ],
      "metadata": {
        "id": "GLs__9s_gE7V"
      }
    },
    {
      "cell_type": "markdown",
      "source": [
        "Split the dataset into 10 random train and test sets and calculate the accuracies"
      ],
      "metadata": {
        "id": "L-bzkBeMnsR1"
      }
    },
    {
      "cell_type": "code",
      "source": [
        "states = list(range(1, 11))\n",
        "ran = 11;\n",
        "accuracies  = []\n",
        "for state in states:\n",
        "  x_train, x_test, y_train, y_test = train_test_split(x, y, test_size=0.3, random_state=state)\n",
        "\n",
        "  svc = SVC(random_state=ran)\n",
        "  ran= ran-1\n",
        "  svc.fit (x_train, y_train)\n",
        "  y_pred = svc.predict(x_test)\n",
        "\n",
        "  accuracy = accuracy_score (y_pred, y_test)\n",
        "  accuracies.append({'State': state, 'SVC Random State':ran ,'accuracy': accuracy})\n",
        "  print(f\"Random State: {state}, SVC Random State: {ran} , Accuracy : {accuracy}\")\n",
        "\n"
      ],
      "metadata": {
        "colab": {
          "base_uri": "https://localhost:8080/"
        },
        "id": "2feBbK8ff8MR",
        "outputId": "facbc4e6-54c5-4e2f-b24f-503463c1b810"
      },
      "execution_count": null,
      "outputs": [
        {
          "output_type": "stream",
          "name": "stdout",
          "text": [
            "Random State: 1, SVC Random State: 10 , Accuracy : 0.8672566371681416\n",
            "Random State: 2, SVC Random State: 9 , Accuracy : 0.9026548672566371\n",
            "Random State: 3, SVC Random State: 8 , Accuracy : 0.8761061946902655\n",
            "Random State: 4, SVC Random State: 7 , Accuracy : 0.8938053097345132\n",
            "Random State: 5, SVC Random State: 6 , Accuracy : 0.8938053097345132\n",
            "Random State: 6, SVC Random State: 5 , Accuracy : 0.9026548672566371\n",
            "Random State: 7, SVC Random State: 4 , Accuracy : 0.8938053097345132\n",
            "Random State: 8, SVC Random State: 3 , Accuracy : 0.8938053097345132\n",
            "Random State: 9, SVC Random State: 2 , Accuracy : 0.9026548672566371\n",
            "Random State: 10, SVC Random State: 1 , Accuracy : 0.8849557522123894\n"
          ]
        }
      ]
    },
    {
      "cell_type": "code",
      "source": [
        "accuracy_list = [acc['accuracy'] for acc in accuracies]\n",
        "accuracy_list"
      ],
      "metadata": {
        "colab": {
          "base_uri": "https://localhost:8080/"
        },
        "id": "_2v1GgrPbD9x",
        "outputId": "679d536d-d47a-401b-8e96-ef3539b29f2f"
      },
      "execution_count": null,
      "outputs": [
        {
          "output_type": "execute_result",
          "data": {
            "text/plain": [
              "[0.8672566371681416,\n",
              " 0.9026548672566371,\n",
              " 0.8761061946902655,\n",
              " 0.8938053097345132,\n",
              " 0.8938053097345132,\n",
              " 0.9026548672566371,\n",
              " 0.8938053097345132,\n",
              " 0.8938053097345132,\n",
              " 0.9026548672566371,\n",
              " 0.8849557522123894]"
            ]
          },
          "metadata": {},
          "execution_count": 85
        }
      ]
    },
    {
      "cell_type": "markdown",
      "source": [
        "Calculate Interval, Mean Accuracy and Confidence Space"
      ],
      "metadata": {
        "id": "epPioMnYkWaN"
      }
    },
    {
      "cell_type": "code",
      "source": [
        "std = np.std(accuracy_list)\n",
        "mean = np.mean(accuracy_list)\n",
        "\n",
        "confidence = 0.95\n",
        "z_score = norm.ppf((1 + confidence) / 2)\n",
        "\n",
        "interval = z_score*std\n",
        "margin = interval/2\n",
        "\n",
        "start = mean - margin\n",
        "end = mean + margin\n",
        "\n",
        "print(f\"Interval = {interval}\")\n",
        "print(f\"Mean Accuracy =  {mean}\")\n",
        "print(f\"Confidence Space =[ {start}, {end} ]\")"
      ],
      "metadata": {
        "colab": {
          "base_uri": "https://localhost:8080/"
        },
        "id": "E4AdfwoFbwCZ",
        "outputId": "1bf2a648-c116-4cb0-dfd9-cb334d0b7faa"
      },
      "execution_count": null,
      "outputs": [
        {
          "output_type": "stream",
          "name": "stdout",
          "text": [
            "Interval = 0.02200810176488922\n",
            "Mean Accuracy =  0.891150442477876\n",
            "Confidence Space =[ 0.8801463915954314, 0.9021544933603206 ]\n"
          ]
        }
      ]
    },
    {
      "cell_type": "markdown",
      "source": [
        "Plot the confidence space"
      ],
      "metadata": {
        "id": "ybWySY4DkOkV"
      }
    },
    {
      "cell_type": "code",
      "source": [
        "plt.axhline(y=start, color='yellow', linestyle='--')\n",
        "plt.axhline(y=end, color='yellow', linestyle='--')\n",
        "plt.axhline(y=mean, color='red', linestyle='--')\n",
        "\n",
        "\n",
        "plt.scatter(0, start ,marker='x', color = 'black')\n",
        "plt.scatter(0, end ,marker='x', color = 'black')\n",
        "plt.plot([0, 0], [start, end], color='blue')\n",
        "\n",
        "plt.plot(0, mean, marker='^', markersize=5, color='red')\n",
        "# Adding labels and title\n",
        "plt.ylabel('Mean')\n",
        "plt.title('Confidence Space ')\n",
        "\n",
        "# Remove x-axis ticks and labels\n",
        "plt.xticks([])\n",
        "\n",
        "plt.ylim(0.82, 0.92)\n",
        "\n",
        "# Display the plot\n",
        "plt.show()"
      ],
      "metadata": {
        "colab": {
          "base_uri": "https://localhost:8080/",
          "height": 437
        },
        "id": "INuU73V5f5I4",
        "outputId": "941589d4-b760-4cda-a186-65b06f7a2896"
      },
      "execution_count": null,
      "outputs": [
        {
          "output_type": "display_data",
          "data": {
            "text/plain": [
              "<Figure size 640x480 with 1 Axes>"
            ],
            "image/png": "[encoded data removed]"
          },
          "metadata": {}
        }
      ]
    }
  ]
}