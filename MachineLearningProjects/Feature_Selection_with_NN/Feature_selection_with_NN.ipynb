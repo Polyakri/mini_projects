{
  "nbformat": 4,
  "nbformat_minor": 0,
  "metadata": {
    "colab": {
      "provenance": [],
      "mount_file_id": "1hEJqwHcLic5esQP56dR1BRykHIYYC7cp",
      "authorship_tag": "ABX9TyOUKkPBcPRrmJ4vvR+/uCzl",
      "include_colab_link": true
    },
    "kernelspec": {
      "name": "python3",
      "display_name": "Python 3"
    },
    "language_info": {
      "name": "python"
    }
  },
  "cells": [
    {
      "cell_type": "markdown",
      "metadata": {
        "id": "view-in-github",
        "colab_type": "text"
      },
      "source": [
        "<a href=\"https://colab.research.google.com/github/Polyakri/projects/blob/main/MachineLearningProjects/Feature_Selection_with_NN/Feature_selection_with_NN.ipynb\" target=\"_parent\"><img src=\"https://colab.research.google.com/assets/colab-badge.svg\" alt=\"Open In Colab\"/></a>"
      ]
    },
    {
      "cell_type": "markdown",
      "source": [
        "#Installing Libraries and importing Dataset"
      ],
      "metadata": {
        "id": "qSUouCs50cIx"
      }
    },
    {
      "cell_type": "code",
      "source": [
        "##pip install ydata-profiling\n"
      ],
      "metadata": {
        "id": "SckQxPLqJAvH"
      },
      "execution_count": 1,
      "outputs": []
    },
    {
      "cell_type": "code",
      "execution_count": 2,
      "metadata": {
        "colab": {
          "base_uri": "https://localhost:8080/"
        },
        "id": "22ji7RU6A7v_",
        "outputId": "ec22db7a-1273-41c9-9013-0bbf25931a06"
      },
      "outputs": [
        {
          "output_type": "stream",
          "name": "stdout",
          "text": [
            "Drive already mounted at /content/drive; to attempt to forcibly remount, call drive.mount(\"/content/drive\", force_remount=True).\n"
          ]
        }
      ],
      "source": [
        "import pandas as pd\n",
        "import numpy as np\n",
        "##from ydata_profiling import ProfileReport\n",
        "import webbrowser\n",
        "import matplotlib.pyplot as plt\n",
        "from sklearn.model_selection import train_test_split\n",
        "import tensorflow as tf\n",
        "import os\n",
        "from sklearn.metrics import accuracy_score, f1_score, precision_score, recall_score, classification_report\n",
        "from sklearn.ensemble import RandomForestClassifier\n",
        "import seaborn as sns\n",
        "from sklearn.decomposition import PCA\n",
        "\n",
        "from google.colab import drive\n",
        "\n",
        "# Mount Google Drive\n",
        "drive.mount('/content/drive')"
      ]
    },
    {
      "cell_type": "code",
      "source": [
        "file_path = 'drive/MyDrive/bankloan.csv'\n",
        "df = pd.read_csv(file_path)\n"
      ],
      "metadata": {
        "id": "l9kKYLqVHLl3"
      },
      "execution_count": 3,
      "outputs": []
    },
    {
      "cell_type": "code",
      "source": [
        "'''profile = ProfileReport (df, title = \"Pandas Profiling Report\")\n",
        "profile'''\n",
        "\n",
        "#These cannot be processes. Did it externally\n"
      ],
      "metadata": {
        "colab": {
          "base_uri": "https://localhost:8080/",
          "height": 35
        },
        "id": "oS5ijV3sMcOS",
        "outputId": "287c1d6a-abdd-4241-c8b8-ac6390d105a5"
      },
      "execution_count": 4,
      "outputs": [
        {
          "output_type": "execute_result",
          "data": {
            "text/plain": [
              "'profile = ProfileReport (df, title = \"Pandas Profiling Report\")\\nprofile'"
            ],
            "application/vnd.google.colaboratory.intrinsic+json": {
              "type": "string"
            }
          },
          "metadata": {},
          "execution_count": 4
        }
      ]
    },
    {
      "cell_type": "markdown",
      "source": [
        "#Data Preparation"
      ],
      "metadata": {
        "id": "UiWd7fiCOrQu"
      }
    },
    {
      "cell_type": "markdown",
      "source": [
        "With a first look we can see that we don't need id member id and row id"
      ],
      "metadata": {
        "id": "VklXMR7-NheR"
      }
    },
    {
      "cell_type": "code",
      "source": [
        "columns_to_drop = ['id','Row ID', 'member_id']\n",
        "df.drop(columns=columns_to_drop, inplace=True)"
      ],
      "metadata": {
        "id": "7vNdJ993NfqB"
      },
      "execution_count": 5,
      "outputs": []
    },
    {
      "cell_type": "markdown",
      "source": [
        "We can use the describe method on loan_amnt column to see the mean, min and max amount the candidates apply for"
      ],
      "metadata": {
        "id": "V16Yox4mP-MB"
      }
    },
    {
      "cell_type": "code",
      "source": [
        "df['loan_amnt'].describe()"
      ],
      "metadata": {
        "colab": {
          "base_uri": "https://localhost:8080/"
        },
        "id": "SGdGgDLNPotA",
        "outputId": "5c4ed756-a17f-43e6-9c1d-88d2ab66af82"
      },
      "execution_count": 6,
      "outputs": [
        {
          "output_type": "execute_result",
          "data": {
            "text/plain": [
              "count    212999.000000\n",
              "mean      15257.965530\n",
              "std        8611.713377\n",
              "min        1000.000000\n",
              "25%        8500.000000\n",
              "50%       14000.000000\n",
              "75%       20000.000000\n",
              "max       35000.000000\n",
              "Name: loan_amnt, dtype: float64"
            ]
          },
          "metadata": {},
          "execution_count": 6
        }
      ]
    },
    {
      "cell_type": "markdown",
      "source": [
        "Term should be changed to 0->36 months, 1 ->60 months"
      ],
      "metadata": {
        "id": "1MOZnlSON-gk"
      }
    },
    {
      "cell_type": "code",
      "source": [
        "unique_values = df['term'].unique()\n",
        "unique_values"
      ],
      "metadata": {
        "colab": {
          "base_uri": "https://localhost:8080/"
        },
        "id": "4-FuRGk3ORt3",
        "outputId": "4b18a263-f2ec-4adb-fea3-40e7233d0a83"
      },
      "execution_count": 7,
      "outputs": [
        {
          "output_type": "execute_result",
          "data": {
            "text/plain": [
              "array([' 36 months', ' 60 months'], dtype=object)"
            ]
          },
          "metadata": {},
          "execution_count": 7
        }
      ]
    },
    {
      "cell_type": "code",
      "source": [
        "df['term'] = df['term'].replace({' 36 months': 0, ' 60 months': 1})\n",
        "unique_values = df['term'].unique()\n",
        "unique_values"
      ],
      "metadata": {
        "colab": {
          "base_uri": "https://localhost:8080/"
        },
        "id": "GPL2yt7SOxM7",
        "outputId": "01388950-d5f8-4413-f849-54a4c6da69cc"
      },
      "execution_count": 8,
      "outputs": [
        {
          "output_type": "execute_result",
          "data": {
            "text/plain": [
              "array([0, 1])"
            ]
          },
          "metadata": {},
          "execution_count": 8
        }
      ]
    },
    {
      "cell_type": "markdown",
      "source": [
        "Since the grade and the subgrade are actually the same, I decided to drop the grade and keep only the subgrade. I normalized in order A1->0 , A2-> 1 etc"
      ],
      "metadata": {
        "id": "KZA5djbMRt5K"
      }
    },
    {
      "cell_type": "code",
      "source": [
        "dfn = df [['grade', 'sub_grade']]\n",
        "dfn"
      ],
      "metadata": {
        "colab": {
          "base_uri": "https://localhost:8080/",
          "height": 424
        },
        "id": "q8sw3LplSP02",
        "outputId": "36b2187b-b2ec-43b5-a15c-361a942ad961"
      },
      "execution_count": 9,
      "outputs": [
        {
          "output_type": "execute_result",
          "data": {
            "text/plain": [
              "       grade sub_grade\n",
              "0          C        C1\n",
              "1          C        C2\n",
              "2          B        B3\n",
              "3          B        B4\n",
              "4          E        E4\n",
              "...      ...       ...\n",
              "212994     C        C3\n",
              "212995     B        B5\n",
              "212996     E        E3\n",
              "212997     D        D1\n",
              "212998     C        C4\n",
              "\n",
              "[212999 rows x 2 columns]"
            ],
            "text/html": [
              "\n",
              "  <div id=\"df-a606b198-4af5-4c3b-81fb-5a5e861f1132\" class=\"colab-df-container\">\n",
              "    <div>\n",
              "<style scoped>\n",
              "    .dataframe tbody tr th:only-of-type {\n",
              "        vertical-align: middle;\n",
              "    }\n",
              "\n",
              "    .dataframe tbody tr th {\n",
              "        vertical-align: top;\n",
              "    }\n",
              "\n",
              "    .dataframe thead th {\n",
              "        text-align: right;\n",
              "    }\n",
              "</style>\n",
              "<table border=\"1\" class=\"dataframe\">\n",
              "  <thead>\n",
              "    <tr style=\"text-align: right;\">\n",
              "      <th></th>\n",
              "      <th>grade</th>\n",
              "      <th>sub_grade</th>\n",
              "    </tr>\n",
              "  </thead>\n",
              "  <tbody>\n",
              "    <tr>\n",
              "      <th>0</th>\n",
              "      <td>C</td>\n",
              "      <td>C1</td>\n",
              "    </tr>\n",
              "    <tr>\n",
              "      <th>1</th>\n",
              "      <td>C</td>\n",
              "      <td>C2</td>\n",
              "    </tr>\n",
              "    <tr>\n",
              "      <th>2</th>\n",
              "      <td>B</td>\n",
              "      <td>B3</td>\n",
              "    </tr>\n",
              "    <tr>\n",
              "      <th>3</th>\n",
              "      <td>B</td>\n",
              "      <td>B4</td>\n",
              "    </tr>\n",
              "    <tr>\n",
              "      <th>4</th>\n",
              "      <td>E</td>\n",
              "      <td>E4</td>\n",
              "    </tr>\n",
              "    <tr>\n",
              "      <th>...</th>\n",
              "      <td>...</td>\n",
              "      <td>...</td>\n",
              "    </tr>\n",
              "    <tr>\n",
              "      <th>212994</th>\n",
              "      <td>C</td>\n",
              "      <td>C3</td>\n",
              "    </tr>\n",
              "    <tr>\n",
              "      <th>212995</th>\n",
              "      <td>B</td>\n",
              "      <td>B5</td>\n",
              "    </tr>\n",
              "    <tr>\n",
              "      <th>212996</th>\n",
              "      <td>E</td>\n",
              "      <td>E3</td>\n",
              "    </tr>\n",
              "    <tr>\n",
              "      <th>212997</th>\n",
              "      <td>D</td>\n",
              "      <td>D1</td>\n",
              "    </tr>\n",
              "    <tr>\n",
              "      <th>212998</th>\n",
              "      <td>C</td>\n",
              "      <td>C4</td>\n",
              "    </tr>\n",
              "  </tbody>\n",
              "</table>\n",
              "<p>212999 rows × 2 columns</p>\n",
              "</div>\n",
              "    <div class=\"colab-df-buttons\">\n",
              "\n",
              "  <div class=\"colab-df-container\">\n",
              "    <button class=\"colab-df-convert\" onclick=\"convertToInteractive('df-a606b198-4af5-4c3b-81fb-5a5e861f1132')\"\n",
              "            title=\"Convert this dataframe to an interactive table.\"\n",
              "            style=\"display:none;\">\n",
              "\n",
              "  <svg xmlns=\"http://www.w3.org/2000/svg\" height=\"24px\" viewBox=\"0 -960 960 960\">\n",
              "    <path d=\"M120-120v-720h720v720H120Zm60-500h600v-160H180v160Zm220 220h160v-160H400v160Zm0 220h160v-160H400v160ZM180-400h160v-160H180v160Zm440 0h160v-160H620v160ZM180-180h160v-160H180v160Zm440 0h160v-160H620v160Z\"/>\n",
              "  </svg>\n",
              "    </button>\n",
              "\n",
              "  <style>\n",
              "    .colab-df-container {\n",
              "      display:flex;\n",
              "      gap: 12px;\n",
              "    }\n",
              "\n",
              "    .colab-df-convert {\n",
              "      background-color: #E8F0FE;\n",
              "      border: none;\n",
              "      border-radius: 50%;\n",
              "      cursor: pointer;\n",
              "      display: none;\n",
              "      fill: #1967D2;\n",
              "      height: 32px;\n",
              "      padding: 0 0 0 0;\n",
              "      width: 32px;\n",
              "    }\n",
              "\n",
              "    .colab-df-convert:hover {\n",
              "      background-color: #E2EBFA;\n",
              "      box-shadow: 0px 1px 2px rgba(60, 64, 67, 0.3), 0px 1px 3px 1px rgba(60, 64, 67, 0.15);\n",
              "      fill: #174EA6;\n",
              "    }\n",
              "\n",
              "    .colab-df-buttons div {\n",
              "      margin-bottom: 4px;\n",
              "    }\n",
              "\n",
              "    [theme=dark] .colab-df-convert {\n",
              "      background-color: #3B4455;\n",
              "      fill: #D2E3FC;\n",
              "    }\n",
              "\n",
              "    [theme=dark] .colab-df-convert:hover {\n",
              "      background-color: #434B5C;\n",
              "      box-shadow: 0px 1px 3px 1px rgba(0, 0, 0, 0.15);\n",
              "      filter: drop-shadow(0px 1px 2px rgba(0, 0, 0, 0.3));\n",
              "      fill: #FFFFFF;\n",
              "    }\n",
              "  </style>\n",
              "\n",
              "    <script>\n",
              "      const buttonEl =\n",
              "        document.querySelector('#df-a606b198-4af5-4c3b-81fb-5a5e861f1132 button.colab-df-convert');\n",
              "      buttonEl.style.display =\n",
              "        google.colab.kernel.accessAllowed ? 'block' : 'none';\n",
              "\n",
              "      async function convertToInteractive(key) {\n",
              "        const element = document.querySelector('#df-a606b198-4af5-4c3b-81fb-5a5e861f1132');\n",
              "        const dataTable =\n",
              "          await google.colab.kernel.invokeFunction('convertToInteractive',\n",
              "                                                    [key], {});\n",
              "        if (!dataTable) return;\n",
              "\n",
              "        const docLinkHtml = 'Like what you see? Visit the ' +\n",
              "          '<a target=\"_blank\" href=https://colab.research.google.com/notebooks/data_table.ipynb>data table notebook</a>'\n",
              "          + ' to learn more about interactive tables.';\n",
              "        element.innerHTML = '';\n",
              "        dataTable['output_type'] = 'display_data';\n",
              "        await google.colab.output.renderOutput(dataTable, element);\n",
              "        const docLink = document.createElement('div');\n",
              "        docLink.innerHTML = docLinkHtml;\n",
              "        element.appendChild(docLink);\n",
              "      }\n",
              "    </script>\n",
              "  </div>\n",
              "\n",
              "\n",
              "<div id=\"df-6e3f1590-b241-48e3-85b7-821b16adb469\">\n",
              "  <button class=\"colab-df-quickchart\" onclick=\"quickchart('df-6e3f1590-b241-48e3-85b7-821b16adb469')\"\n",
              "            title=\"Suggest charts\"\n",
              "            style=\"display:none;\">\n",
              "\n",
              "<svg xmlns=\"http://www.w3.org/2000/svg\" height=\"24px\"viewBox=\"0 0 24 24\"\n",
              "     width=\"24px\">\n",
              "    <g>\n",
              "        <path d=\"M19 3H5c-1.1 0-2 .9-2 2v14c0 1.1.9 2 2 2h14c1.1 0 2-.9 2-2V5c0-1.1-.9-2-2-2zM9 17H7v-7h2v7zm4 0h-2V7h2v10zm4 0h-2v-4h2v4z\"/>\n",
              "    </g>\n",
              "</svg>\n",
              "  </button>\n",
              "\n",
              "<style>\n",
              "  .colab-df-quickchart {\n",
              "      --bg-color: #E8F0FE;\n",
              "      --fill-color: #1967D2;\n",
              "      --hover-bg-color: #E2EBFA;\n",
              "      --hover-fill-color: #174EA6;\n",
              "      --disabled-fill-color: #AAA;\n",
              "      --disabled-bg-color: #DDD;\n",
              "  }\n",
              "\n",
              "  [theme=dark] .colab-df-quickchart {\n",
              "      --bg-color: #3B4455;\n",
              "      --fill-color: #D2E3FC;\n",
              "      --hover-bg-color: #434B5C;\n",
              "      --hover-fill-color: #FFFFFF;\n",
              "      --disabled-bg-color: #3B4455;\n",
              "      --disabled-fill-color: #666;\n",
              "  }\n",
              "\n",
              "  .colab-df-quickchart {\n",
              "    background-color: var(--bg-color);\n",
              "    border: none;\n",
              "    border-radius: 50%;\n",
              "    cursor: pointer;\n",
              "    display: none;\n",
              "    fill: var(--fill-color);\n",
              "    height: 32px;\n",
              "    padding: 0;\n",
              "    width: 32px;\n",
              "  }\n",
              "\n",
              "  .colab-df-quickchart:hover {\n",
              "    background-color: var(--hover-bg-color);\n",
              "    box-shadow: 0 1px 2px rgba(60, 64, 67, 0.3), 0 1px 3px 1px rgba(60, 64, 67, 0.15);\n",
              "    fill: var(--button-hover-fill-color);\n",
              "  }\n",
              "\n",
              "  .colab-df-quickchart-complete:disabled,\n",
              "  .colab-df-quickchart-complete:disabled:hover {\n",
              "    background-color: var(--disabled-bg-color);\n",
              "    fill: var(--disabled-fill-color);\n",
              "    box-shadow: none;\n",
              "  }\n",
              "\n",
              "  .colab-df-spinner {\n",
              "    border: 2px solid var(--fill-color);\n",
              "    border-color: transparent;\n",
              "    border-bottom-color: var(--fill-color);\n",
              "    animation:\n",
              "      spin 1s steps(1) infinite;\n",
              "  }\n",
              "\n",
              "  @keyframes spin {\n",
              "    0% {\n",
              "      border-color: transparent;\n",
              "      border-bottom-color: var(--fill-color);\n",
              "      border-left-color: var(--fill-color);\n",
              "    }\n",
              "    20% {\n",
              "      border-color: transparent;\n",
              "      border-left-color: var(--fill-color);\n",
              "      border-top-color: var(--fill-color);\n",
              "    }\n",
              "    30% {\n",
              "      border-color: transparent;\n",
              "      border-left-color: var(--fill-color);\n",
              "      border-top-color: var(--fill-color);\n",
              "      border-right-color: var(--fill-color);\n",
              "    }\n",
              "    40% {\n",
              "      border-color: transparent;\n",
              "      border-right-color: var(--fill-color);\n",
              "      border-top-color: var(--fill-color);\n",
              "    }\n",
              "    60% {\n",
              "      border-color: transparent;\n",
              "      border-right-color: var(--fill-color);\n",
              "    }\n",
              "    80% {\n",
              "      border-color: transparent;\n",
              "      border-right-color: var(--fill-color);\n",
              "      border-bottom-color: var(--fill-color);\n",
              "    }\n",
              "    90% {\n",
              "      border-color: transparent;\n",
              "      border-bottom-color: var(--fill-color);\n",
              "    }\n",
              "  }\n",
              "</style>\n",
              "\n",
              "  <script>\n",
              "    async function quickchart(key) {\n",
              "      const quickchartButtonEl =\n",
              "        document.querySelector('#' + key + ' button');\n",
              "      quickchartButtonEl.disabled = true;  // To prevent multiple clicks.\n",
              "      quickchartButtonEl.classList.add('colab-df-spinner');\n",
              "      try {\n",
              "        const charts = await google.colab.kernel.invokeFunction(\n",
              "            'suggestCharts', [key], {});\n",
              "      } catch (error) {\n",
              "        console.error('Error during call to suggestCharts:', error);\n",
              "      }\n",
              "      quickchartButtonEl.classList.remove('colab-df-spinner');\n",
              "      quickchartButtonEl.classList.add('colab-df-quickchart-complete');\n",
              "    }\n",
              "    (() => {\n",
              "      let quickchartButtonEl =\n",
              "        document.querySelector('#df-6e3f1590-b241-48e3-85b7-821b16adb469 button');\n",
              "      quickchartButtonEl.style.display =\n",
              "        google.colab.kernel.accessAllowed ? 'block' : 'none';\n",
              "    })();\n",
              "  </script>\n",
              "</div>\n",
              "    </div>\n",
              "  </div>\n"
            ]
          },
          "metadata": {},
          "execution_count": 9
        }
      ]
    },
    {
      "cell_type": "code",
      "source": [
        "df.drop(columns='grade', inplace=True)\n",
        "grade_mapping = {\n",
        "    'A1': 0, 'A2': 1, 'A3': 2, 'A4': 3, 'A5': 4,\n",
        "    'B1': 5, 'B2': 6, 'B3': 7, 'B4': 8, 'B5': 9,\n",
        "    'C1': 10, 'C2': 11, 'C3': 12, 'C4': 13, 'C5': 14,\n",
        "    'D1': 15, 'D2': 16, 'D3': 17, 'D4': 18, 'D5': 19,\n",
        "    'E1': 20, 'E2': 21, 'E3': 22, 'E4': 23, 'E5': 24,\n",
        "    'F1': 25, 'F2': 26, 'F3': 27, 'F4': 28, 'F5': 29,\n",
        "    'G1': 30, 'G2': 31, 'G3': 32, 'G4': 33, 'G5': 34\n",
        "}\n",
        "\n",
        "\n",
        "df['sub_grade'] = df['sub_grade'].replace(grade_mapping)\n",
        "unique_values = sorted(df['sub_grade'].unique())\n",
        "print(unique_values)"
      ],
      "metadata": {
        "colab": {
          "base_uri": "https://localhost:8080/"
        },
        "id": "TjeP1L-HQWZh",
        "outputId": "21892862-0912-4060-f4d7-1b73f990d16f"
      },
      "execution_count": 10,
      "outputs": [
        {
          "output_type": "stream",
          "name": "stdout",
          "text": [
            "[0, 1, 2, 3, 4, 5, 6, 7, 8, 9, 10, 11, 12, 13, 14, 15, 16, 17, 18, 19, 20, 21, 22, 23, 24, 25, 26, 27, 28, 29, 30, 31, 32, 33, 34]\n"
          ]
        }
      ]
    },
    {
      "cell_type": "markdown",
      "source": [
        "The emp title has so many different job titles that will mess the algorithm. So it is best to drop it"
      ],
      "metadata": {
        "id": "syzXeMUfTd2Y"
      }
    },
    {
      "cell_type": "code",
      "source": [
        "df.drop(columns='emp_title', inplace=True)"
      ],
      "metadata": {
        "id": "UNzAumdzSCGf"
      },
      "execution_count": 11,
      "outputs": []
    },
    {
      "cell_type": "markdown",
      "source": [
        "emp length has nan values better to drop and also since the number of years play a significant role and is a continuous variable let's make it 0-10"
      ],
      "metadata": {
        "id": "tji3qr3sUsK8"
      }
    },
    {
      "cell_type": "code",
      "source": [
        "df = df.dropna(subset=['emp_length'])\n",
        "grade_mapping = {\n",
        "   '< 1 year' : 0 , '1 year': 1 , '2 years' : 2 , '3 years' : 3 , '4 years' : 4 , '5 years' : 5 , '6 years' : 6 , '7 years' : 7 , '8 years' : 8  , '9 years' : 9, '10+ years' : 10\n",
        "}\n",
        "\n",
        "df['emp_length'] = df['emp_length'].replace(grade_mapping)\n",
        "unique_values = sorted(df['emp_length'].unique())\n",
        "print(unique_values)"
      ],
      "metadata": {
        "colab": {
          "base_uri": "https://localhost:8080/"
        },
        "id": "PfJm4G2RUvYn",
        "outputId": "aae36a83-681c-4952-d10d-4136a8c7fe48"
      },
      "execution_count": 12,
      "outputs": [
        {
          "output_type": "stream",
          "name": "stdout",
          "text": [
            "[0, 1, 2, 3, 4, 5, 6, 7, 8, 9, 10]\n"
          ]
        }
      ]
    },
    {
      "cell_type": "markdown",
      "source": [
        "The home ownership takes distinct values so it is better to one hot encode it. Verification status, purpose, title as well. Title has missing values so drop them"
      ],
      "metadata": {
        "id": "Ojy1v4bTW50a"
      }
    },
    {
      "cell_type": "code",
      "source": [
        "df = pd.get_dummies(df, columns=['home_ownership'], prefix='home_ownership')\n",
        "df =pd.get_dummies(df, columns=['verification_status'], prefix='vf_status')\n",
        "df =pd.get_dummies(df, columns=['purpose'], prefix='purpose')\n",
        "\n",
        "df = df.dropna(subset=['title'])\n",
        "df =pd.get_dummies(df, columns=['title'], prefix='purpose')\n",
        "df= pd.get_dummies(df, columns=['initial_list_status'], prefix='initial_list_status')\n",
        "df= pd.get_dummies(df, columns=['application_type'], prefix='application_type')\n",
        "df= pd.get_dummies(df, columns=['loan_status'], prefix='loan_status')"
      ],
      "metadata": {
        "id": "X5I_Q6psWZty"
      },
      "execution_count": 13,
      "outputs": []
    },
    {
      "cell_type": "markdown",
      "source": [
        "Issue_d ,earliest_cr_line, last_pymnt_d, next_pymnt_d have months, lets clear them and add a map for the months"
      ],
      "metadata": {
        "id": "b5BKHHdYXwxg"
      }
    },
    {
      "cell_type": "code",
      "source": [
        "def process_date_column(df, column_name):\n",
        "    # Splitting the date column into day and month\n",
        "    df['day'] = df[column_name].str.split('-').str[0]\n",
        "    df['month'] = df[column_name].str.split('-').str[1]\n",
        "\n",
        "    # Mapping months to numbers\n",
        "    month_mapping = {\n",
        "        'Jan': 0, 'Feb': 1, 'Mar': 2, 'Apr': 3, 'May': 4, 'Jun': 5,\n",
        "        'Jul': 6, 'Aug': 7, 'Sep': 8, 'Oct': 9, 'Nov': 10, 'Dec': 11\n",
        "    }\n",
        "\n",
        "    df[column_name] = df['month'].map(month_mapping)\n",
        "\n",
        "    # Drop the original date column, day, and month columns if needed\n",
        "    df = df.drop(['day', 'month'], axis=1)\n",
        "\n",
        "    return df\n",
        "\n",
        "df = process_date_column (df, 'issue_d')\n",
        "print (\"Issue d\")\n",
        "unique_values = sorted(df['issue_d'].unique())\n",
        "print(unique_values)\n",
        "\n",
        "df = df.dropna(subset=['last_pymnt_d'])\n",
        "df = process_date_column (df, 'last_pymnt_d')\n",
        "print (\"Last payment done\")\n",
        "unique_values =df['last_pymnt_d'].unique()\n",
        "print(unique_values)\n",
        "\n",
        "\n",
        "df = df.dropna(subset=['next_pymnt_d'])\n",
        "df = process_date_column (df, 'next_pymnt_d')\n",
        "print (\"Next payment done\")\n",
        "unique_values = sorted(df['next_pymnt_d'].unique())\n",
        "print(unique_values)\n",
        "\n",
        "df = df.dropna(subset=['last_credit_pull_d'])\n",
        "df = process_date_column (df, 'last_credit_pull_d')\n",
        "print (\"last_credit_pull_d\")\n",
        "unique_values =df['last_credit_pull_d'].unique()\n",
        "print(unique_values)\n"
      ],
      "metadata": {
        "colab": {
          "base_uri": "https://localhost:8080/"
        },
        "id": "OUGF1lAQZKbj",
        "outputId": "866e85e5-f134-49c2-ed84-b8732adf8be2"
      },
      "execution_count": 14,
      "outputs": [
        {
          "output_type": "stream",
          "name": "stdout",
          "text": [
            "Issue d\n",
            "[0, 1, 2, 3, 4, 5, 6, 7, 8, 9, 10, 11]\n",
            "Last payment done\n",
            "[ 9  8 10  7  0 11  6  5  4  3  2  1]\n",
            "Next payment done\n",
            "[0, 1, 2]\n",
            "last_credit_pull_d\n",
            "[ 0 11 10  8  9  7  6  5]\n"
          ]
        }
      ]
    },
    {
      "cell_type": "markdown",
      "source": [
        "Earliest cr line has many different values that might mess the model. Let's exclude this column"
      ],
      "metadata": {
        "id": "kTNlfphOh37_"
      }
    },
    {
      "cell_type": "code",
      "source": [
        "df.drop(columns='earliest_cr_line', inplace=True)"
      ],
      "metadata": {
        "id": "BVCaG0SAhDy0"
      },
      "execution_count": 15,
      "outputs": []
    },
    {
      "cell_type": "markdown",
      "source": [
        "36 months, 60 months need to be dropped, already have that info"
      ],
      "metadata": {
        "id": "tpgo3xY_ZMvK"
      }
    },
    {
      "cell_type": "code",
      "source": [
        "columns_to_drop = ['36months','60months']\n",
        "df.drop(columns=columns_to_drop, inplace=True)"
      ],
      "metadata": {
        "id": "MM77ICy1XE7T"
      },
      "execution_count": 16,
      "outputs": []
    },
    {
      "cell_type": "markdown",
      "source": [
        "Lastly drop nan values from the whole dataset"
      ],
      "metadata": {
        "id": "-big7bPiZQpy"
      }
    },
    {
      "cell_type": "code",
      "source": [
        "pd.set_option('display.max_rows', None)\n",
        "pd.set_option('display.max_columns', None)\n",
        "data_info = pd.concat([df.dtypes, df.isna().sum()], axis=1)\n",
        "data_info.columns = ['Data Type', 'NaN Count']\n",
        "\n",
        "# Print the information side by side\n",
        "print(data_info)\n",
        "\n",
        "pd.reset_option('display.max_rows')\n",
        "pd.reset_option('display.max_columns')"
      ],
      "metadata": {
        "colab": {
          "base_uri": "https://localhost:8080/"
        },
        "id": "Ljh-z0SrgLaX",
        "outputId": "70dad6d5-efd8-4ae2-de57-d46fdecec232"
      },
      "execution_count": 17,
      "outputs": [
        {
          "output_type": "stream",
          "name": "stdout",
          "text": [
            "                                Data Type  NaN Count\n",
            "loan_amnt                           int64          0\n",
            "funded_amnt                         int64          0\n",
            "term                                int64          0\n",
            "int_rate                          float64          0\n",
            "installment                       float64          0\n",
            "sub_grade                           int64          0\n",
            "emp_length                          int64          0\n",
            "annual_inc                        float64          0\n",
            "issue_d                             int64          0\n",
            "dti                               float64          0\n",
            "delinq_2yrs                         int64          0\n",
            "inq_last_6mths                      int64          0\n",
            "mths_since_last_delinq            float64      91704\n",
            "open_acc                            int64          0\n",
            "pub_rec                             int64          0\n",
            "revol_bal                           int64          0\n",
            "revol_util                        float64         76\n",
            "total_acc                           int64          0\n",
            "out_prncp                         float64          0\n",
            "total_pymnt                       float64          0\n",
            "total_rec_prncp                   float64          0\n",
            "total_rec_int                     float64          0\n",
            "total_rec_late_fee                float64          0\n",
            "recoveries                        float64          0\n",
            "collection_recovery_fee           float64          0\n",
            "last_pymnt_d                        int64          0\n",
            "last_pymnt_amnt                   float64          0\n",
            "next_pymnt_d                        int64          0\n",
            "last_credit_pull_d                  int64          0\n",
            "collections_12_mths_ex_med          int64          0\n",
            "mths_since_last_major_derog       float64     134431\n",
            "annual_inc_joint                  float64     189542\n",
            "dti_joint                         float64     189544\n",
            "acc_now_delinq                      int64          0\n",
            "tot_coll_amt                        int64          0\n",
            "tot_cur_bal                         int64          0\n",
            "total_rev_hi_lim                    int64          0\n",
            "Unnamed: 50                       float64     189863\n",
            "home_ownership_ANY                  uint8          0\n",
            "home_ownership_MORTGAGE             uint8          0\n",
            "home_ownership_OWN                  uint8          0\n",
            "home_ownership_RENT                 uint8          0\n",
            "vf_status_Not Verified              uint8          0\n",
            "vf_status_Source Verified           uint8          0\n",
            "vf_status_Verified                  uint8          0\n",
            "purpose_car                         uint8          0\n",
            "purpose_credit_card                 uint8          0\n",
            "purpose_debt_consolidation          uint8          0\n",
            "purpose_home_improvement            uint8          0\n",
            "purpose_house                       uint8          0\n",
            "purpose_major_purchase              uint8          0\n",
            "purpose_medical                     uint8          0\n",
            "purpose_moving                      uint8          0\n",
            "purpose_other                       uint8          0\n",
            "purpose_renewable_energy            uint8          0\n",
            "purpose_small_business              uint8          0\n",
            "purpose_vacation                    uint8          0\n",
            "purpose_wedding                     uint8          0\n",
            "purpose_Business                    uint8          0\n",
            "purpose_Car financing               uint8          0\n",
            "purpose_Credit card refinancing     uint8          0\n",
            "purpose_Debt consolidation          uint8          0\n",
            "purpose_Green loan                  uint8          0\n",
            "purpose_Home buying                 uint8          0\n",
            "purpose_Home improvement            uint8          0\n",
            "purpose_Major purchase              uint8          0\n",
            "purpose_Medical expenses            uint8          0\n",
            "purpose_Moving and relocation       uint8          0\n",
            "purpose_Other                       uint8          0\n",
            "purpose_SAVE                        uint8          0\n",
            "purpose_Vacation                    uint8          0\n",
            "purpose_odymeds                     uint8          0\n",
            "initial_list_status_f               uint8          0\n",
            "initial_list_status_w               uint8          0\n",
            "application_type_INDIVIDUAL         uint8          0\n",
            "application_type_JOINT              uint8          0\n",
            "loan_status_Charged Off             uint8          0\n",
            "loan_status_Current                 uint8          0\n"
          ]
        }
      ]
    },
    {
      "cell_type": "markdown",
      "source": [
        "We can see that the majority of the dataset has midding values at annual_inc_joint, dti_joint, unnamed: 50 and half the data are missing from mths_since_last_delinq. Let's drop it and drop the remaining nan values                       "
      ],
      "metadata": {
        "id": "9DhgyHH6omVn"
      }
    },
    {
      "cell_type": "code",
      "source": [
        "columns_to_drop = ['mths_since_last_delinq', 'mths_since_last_major_derog', 'annual_inc_joint' , 'dti_joint', 'Unnamed: 50']\n",
        "df.drop(columns=columns_to_drop, inplace=True)\n",
        "\n",
        "df = df.dropna()"
      ],
      "metadata": {
        "id": "HBulfdIFmaMs"
      },
      "execution_count": 18,
      "outputs": []
    },
    {
      "cell_type": "code",
      "source": [
        "pd.set_option('display.max_rows', None)\n",
        "pd.set_option('display.max_columns', None)\n",
        "data_info = pd.concat([df.dtypes, df.isna().sum()], axis=1)\n",
        "data_info.columns = ['Data Type', 'NaN Count']\n",
        "\n",
        "print (df.shape)\n",
        "print(\"/-------------/\")\n",
        "# Print the information side by side\n",
        "print(data_info)\n",
        "\n",
        "pd.reset_option('display.max_rows')\n",
        "pd.reset_option('display.max_columns')"
      ],
      "metadata": {
        "colab": {
          "base_uri": "https://localhost:8080/"
        },
        "id": "a7uRTqgRtaGS",
        "outputId": "03f323a9-ae1d-43b3-e8f9-fb8f71bb18b6"
      },
      "execution_count": 19,
      "outputs": [
        {
          "output_type": "stream",
          "name": "stdout",
          "text": [
            "(189787, 73)\n",
            "/-------------/\n",
            "                                Data Type  NaN Count\n",
            "loan_amnt                           int64          0\n",
            "funded_amnt                         int64          0\n",
            "term                                int64          0\n",
            "int_rate                          float64          0\n",
            "installment                       float64          0\n",
            "sub_grade                           int64          0\n",
            "emp_length                          int64          0\n",
            "annual_inc                        float64          0\n",
            "issue_d                             int64          0\n",
            "dti                               float64          0\n",
            "delinq_2yrs                         int64          0\n",
            "inq_last_6mths                      int64          0\n",
            "open_acc                            int64          0\n",
            "pub_rec                             int64          0\n",
            "revol_bal                           int64          0\n",
            "revol_util                        float64          0\n",
            "total_acc                           int64          0\n",
            "out_prncp                         float64          0\n",
            "total_pymnt                       float64          0\n",
            "total_rec_prncp                   float64          0\n",
            "total_rec_int                     float64          0\n",
            "total_rec_late_fee                float64          0\n",
            "recoveries                        float64          0\n",
            "collection_recovery_fee           float64          0\n",
            "last_pymnt_d                        int64          0\n",
            "last_pymnt_amnt                   float64          0\n",
            "next_pymnt_d                        int64          0\n",
            "last_credit_pull_d                  int64          0\n",
            "collections_12_mths_ex_med          int64          0\n",
            "acc_now_delinq                      int64          0\n",
            "tot_coll_amt                        int64          0\n",
            "tot_cur_bal                         int64          0\n",
            "total_rev_hi_lim                    int64          0\n",
            "home_ownership_ANY                  uint8          0\n",
            "home_ownership_MORTGAGE             uint8          0\n",
            "home_ownership_OWN                  uint8          0\n",
            "home_ownership_RENT                 uint8          0\n",
            "vf_status_Not Verified              uint8          0\n",
            "vf_status_Source Verified           uint8          0\n",
            "vf_status_Verified                  uint8          0\n",
            "purpose_car                         uint8          0\n",
            "purpose_credit_card                 uint8          0\n",
            "purpose_debt_consolidation          uint8          0\n",
            "purpose_home_improvement            uint8          0\n",
            "purpose_house                       uint8          0\n",
            "purpose_major_purchase              uint8          0\n",
            "purpose_medical                     uint8          0\n",
            "purpose_moving                      uint8          0\n",
            "purpose_other                       uint8          0\n",
            "purpose_renewable_energy            uint8          0\n",
            "purpose_small_business              uint8          0\n",
            "purpose_vacation                    uint8          0\n",
            "purpose_wedding                     uint8          0\n",
            "purpose_Business                    uint8          0\n",
            "purpose_Car financing               uint8          0\n",
            "purpose_Credit card refinancing     uint8          0\n",
            "purpose_Debt consolidation          uint8          0\n",
            "purpose_Green loan                  uint8          0\n",
            "purpose_Home buying                 uint8          0\n",
            "purpose_Home improvement            uint8          0\n",
            "purpose_Major purchase              uint8          0\n",
            "purpose_Medical expenses            uint8          0\n",
            "purpose_Moving and relocation       uint8          0\n",
            "purpose_Other                       uint8          0\n",
            "purpose_SAVE                        uint8          0\n",
            "purpose_Vacation                    uint8          0\n",
            "purpose_odymeds                     uint8          0\n",
            "initial_list_status_f               uint8          0\n",
            "initial_list_status_w               uint8          0\n",
            "application_type_INDIVIDUAL         uint8          0\n",
            "application_type_JOINT              uint8          0\n",
            "loan_status_Charged Off             uint8          0\n",
            "loan_status_Current                 uint8          0\n"
          ]
        }
      ]
    },
    {
      "cell_type": "markdown",
      "source": [
        "The dataset seems good. Let's proceed then"
      ],
      "metadata": {
        "id": "_g0Iib_yt6P2"
      }
    },
    {
      "cell_type": "markdown",
      "source": [
        "#Split tha dataset into targets and Features"
      ],
      "metadata": {
        "id": "PdwM3cNGiv_1"
      }
    },
    {
      "cell_type": "markdown",
      "source": [
        "Plot the target distribution"
      ],
      "metadata": {
        "id": "6YOigJsqxSk0"
      }
    },
    {
      "cell_type": "code",
      "source": [
        "plt.plot(df['sub_grade'])\n",
        "plt.hist(df['sub_grade'], bins=10, color='blue', edgecolor='black')\n",
        "plt.xlim(-0.5, 34.5)\n",
        "# Adding labels and title\n",
        "plt.xlabel('SubGrade Values')\n",
        "plt.ylabel('Frequency')\n",
        "plt.title('Histogram of Eligible Values')"
      ],
      "metadata": {
        "colab": {
          "base_uri": "https://localhost:8080/",
          "height": 490
        },
        "id": "3gMhFZBixQX3",
        "outputId": "82982d82-c1fd-47ec-fc25-a2d05d0b2c96"
      },
      "execution_count": 20,
      "outputs": [
        {
          "output_type": "execute_result",
          "data": {
            "text/plain": [
              "Text(0.5, 1.0, 'Histogram of Eligible Values')"
            ]
          },
          "metadata": {},
          "execution_count": 20
        },
        {
          "output_type": "display_data",
          "data": {
            "text/plain": [
              "<Figure size 640x480 with 1 Axes>"
            ],
            "image/png": "[encoded data removed]"
          },
          "metadata": {}
        }
      ]
    },
    {
      "cell_type": "markdown",
      "source": [
        "Create the eligible column by taking all the A grade and A1 and A2 subgrade"
      ],
      "metadata": {
        "id": "bKd01OFRuHkk"
      }
    },
    {
      "cell_type": "code",
      "source": [
        "target_column = 'sub_grade'\n",
        "df[target_column] = df[target_column].apply(lambda x: 1 if 0 <= x <= 6 else 0)\n",
        "df.rename(columns={'sub_grade': 'Eligible'}, inplace=True)\n",
        "\n",
        "\n",
        "value_counts = df['Eligible'].value_counts()\n",
        "print (value_counts)\n",
        "\n",
        "# Creating a bar plot\n",
        "plt.bar(value_counts.index, value_counts.values)\n",
        "\n",
        "\n",
        "plt.xlim(-0.5, 1.5)  # Adjusting x-axis limits for better visualization\n",
        "\n",
        "# Adding labels and title\n",
        "plt.xlabel('Eligibility')\n",
        "plt.ylabel('Count')\n",
        "plt.title('Distribution of Eligibility')\n",
        "\n",
        "# Show the plot\n",
        "plt.show()"
      ],
      "metadata": {
        "colab": {
          "base_uri": "https://localhost:8080/",
          "height": 526
        },
        "id": "VPrWklOfiJWH",
        "outputId": "f995b530-070f-4ca9-a1e5-5d28ceec68be"
      },
      "execution_count": 21,
      "outputs": [
        {
          "output_type": "stream",
          "name": "stdout",
          "text": [
            "0    134439\n",
            "1     55348\n",
            "Name: Eligible, dtype: int64\n"
          ]
        },
        {
          "output_type": "display_data",
          "data": {
            "text/plain": [
              "<Figure size 640x480 with 1 Axes>"
            ],
            "image/png": "[encoded data removed]"
          },
          "metadata": {}
        }
      ]
    },
    {
      "cell_type": "markdown",
      "source": [
        "Print the 3 max spaces that the possibility to be accepted for the loan is higher than 15%"
      ],
      "metadata": {
        "id": "9KsMenEGuoeZ"
      }
    },
    {
      "cell_type": "code",
      "source": [
        "loan_amount_counts = df.groupby('loan_amnt')['Eligible'].value_counts().unstack().fillna(0)\n",
        "loan_amount_counts['Acceptance Rate'] = loan_amount_counts[1] / (loan_amount_counts[0] + loan_amount_counts[1]) * 100\n",
        "\n",
        "array = loan_amount_counts['Acceptance Rate'].to_numpy ()\n",
        "results = []\n",
        "i=0\n",
        "\n",
        "while i < len(array):\n",
        "    if array[i] < 15:\n",
        "        i += 1\n",
        "        continue\n",
        "    else:\n",
        "        start = i\n",
        "        j = i + 1\n",
        "\n",
        "        while j < len(array) and array[j] >= 15:\n",
        "            j += 1\n",
        "\n",
        "        end = j - 1\n",
        "\n",
        "        if start != end:\n",
        "            results.append((start, end))\n",
        "\n",
        "        i = j\n",
        "\n",
        "sorted_results = sorted(results, key=lambda x: x[1] - x[0], reverse=True)\n",
        "\n",
        "\n",
        "\n",
        "for i in range(min(3, len(sorted_results))):\n",
        "    start, end = sorted_results[i]\n",
        "    index_start = loan_amount_counts.index[start]\n",
        "    index_end = loan_amount_counts.index[end]\n",
        "    print(f\"Range {i + 1}: {index_start} to {index_end}\")"
      ],
      "metadata": {
        "colab": {
          "base_uri": "https://localhost:8080/"
        },
        "id": "aTIGV52LwKEz",
        "outputId": "faafa885-b100-4244-93d0-0480d2dc6405"
      },
      "execution_count": 22,
      "outputs": [
        {
          "output_type": "stream",
          "name": "stdout",
          "text": [
            "Range 1: 9350 to 9500\n",
            "Range 2: 5800 to 5900\n",
            "Range 3: 9900 to 10000\n"
          ]
        }
      ]
    },
    {
      "cell_type": "markdown",
      "source": [
        "Make a plot"
      ],
      "metadata": {
        "id": "GZSxMyXluz9-"
      }
    },
    {
      "cell_type": "code",
      "source": [
        "plt.figure(figsize=(10, 6))\n",
        "plt.plot(loan_amount_counts.index, loan_amount_counts['Acceptance Rate'], marker='o', linestyle='-', color='b')\n",
        "plt.title('Loan Acceptance Rate by Loan Amount')\n",
        "plt.xlabel('Loan Amount')\n",
        "plt.ylabel('Acceptance Rate (%)')\n",
        "plt.grid(True)\n",
        "plt.show()"
      ],
      "metadata": {
        "colab": {
          "base_uri": "https://localhost:8080/",
          "height": 564
        },
        "id": "tRtLvTz908qQ",
        "outputId": "06b95c18-10ea-4cf0-8d51-b30de78dcdaa"
      },
      "execution_count": 23,
      "outputs": [
        {
          "output_type": "display_data",
          "data": {
            "text/plain": [
              "<Figure size 1000x600 with 1 Axes>"
            ],
            "image/png": "[encoded data removed]"
          },
          "metadata": {}
        }
      ]
    },
    {
      "cell_type": "markdown",
      "source": [
        "Split the dataset into target and features"
      ],
      "metadata": {
        "id": "bM3PBRGMJ22J"
      }
    },
    {
      "cell_type": "code",
      "source": [
        "target_column ='Eligible'\n",
        "y = df[target_column].to_numpy()\n",
        "\n",
        "# Drop the target column from the features\n",
        "x = df.drop(columns=[target_column]).to_numpy()\n",
        "\n",
        "# Split the data into training and testing sets\n",
        "x_train, x_test, y_train, y_test = train_test_split(x, y, test_size=0.3, random_state=0, stratify = y )\n"
      ],
      "metadata": {
        "id": "FclGk47dJ1qx"
      },
      "execution_count": 24,
      "outputs": []
    },
    {
      "cell_type": "markdown",
      "source": [
        "#Training the model"
      ],
      "metadata": {
        "id": "yUVxqeodu7IH"
      }
    },
    {
      "cell_type": "markdown",
      "source": [
        "In this case I decided to use Neural Networks. The choice is because the dataset is big and complex and I believe that Neural Networks will have a good accuracy."
      ],
      "metadata": {
        "id": "vDitIar5u9UM"
      }
    },
    {
      "cell_type": "markdown",
      "source": [
        "Creating the NN"
      ],
      "metadata": {
        "id": "ZXyzxMQxv8-1"
      }
    },
    {
      "cell_type": "code",
      "source": [
        "num_classes = 2\n",
        "y_test = tf.one_hot(y_test, depth=num_classes)\n",
        "y_train = tf.one_hot(y_train, depth=num_classes)\n",
        "y_train.shape, y_test.shape"
      ],
      "metadata": {
        "id": "pBIPLUi-LIIB",
        "colab": {
          "base_uri": "https://localhost:8080/"
        },
        "outputId": "56706c7a-0698-4747-ae85-2fdabdfc46da"
      },
      "execution_count": 25,
      "outputs": [
        {
          "output_type": "execute_result",
          "data": {
            "text/plain": [
              "(TensorShape([132850, 2]), TensorShape([56937, 2]))"
            ]
          },
          "metadata": {},
          "execution_count": 25
        }
      ]
    },
    {
      "cell_type": "markdown",
      "source": [
        "I wanted to test many cases so I trained different NN with different parameters. I stored the results into a dataframe so if the session crashed for some reason, I won't have to retrain all these models."
      ],
      "metadata": {
        "id": "UDI3676Wv_sO"
      }
    },
    {
      "cell_type": "code",
      "source": [
        "input_shape = x_train.shape[1:]\n",
        "\n",
        "\n",
        "results_file = 'drive/MyDrive/bankloan_res_with_nn.csv'\n",
        "\n",
        "# Check if the results file exists, if not create it\n",
        "if not os.path.exists(results_file):\n",
        "    results_df = pd.DataFrame(columns=['Learning Rate', 'Activation', 'Units per Layer', 'Hidden Layers', 'Accuracy', 'F1', 'Precision', 'Recall'])\n",
        "else:\n",
        "    results_df = pd.read_csv(results_file)\n",
        "\n",
        "# Define a list of hyperparameters to iterate over\n",
        "learning_rates = [0.001, 0.01, 0.1]\n",
        "activations = ['relu', 'sigmoid', 'tanh']\n",
        "units_per_layer_values = [32, 64, 128, 256]\n",
        "num_hidden_layers_values = [1,2,3]\n",
        "loss = 'binary_crossentropy'\n",
        "metrics = ['accuracy']\n",
        "batch_size = 32\n",
        "epochs  =50\n",
        "\n",
        "# Iterate over hyperparameter combinations\n",
        "for learning_rate in learning_rates:\n",
        "    for activation in activations:\n",
        "        for units_per_layer in units_per_layer_values:\n",
        "            for num_hidden_layers in num_hidden_layers_values:\n",
        "\n",
        "                # Check if the combination already exists in the results file\n",
        "                if results_df[\n",
        "                    (results_df['Learning Rate'] == learning_rate) &\n",
        "                    (results_df['Activation'] == activation) &\n",
        "                    (results_df['Units per Layer'] == units_per_layer) &\n",
        "                    (results_df['Hidden Layers'] == num_hidden_layers)\n",
        "                ].empty:\n",
        "\n",
        "                    # Build the model\n",
        "                    model = tf.keras.Sequential(name='my_model')\n",
        "                    model.add(tf.keras.layers.InputLayer(input_shape=input_shape, name='input_layer'))\n",
        "\n",
        "                    for i in range(num_hidden_layers):\n",
        "                        model.add(tf.keras.layers.Dense(units=units_per_layer, activation=activation, name=f'hidden_layer_{i+1}'))\n",
        "\n",
        "                    model.add(tf.keras.layers.Dense(units=2, activation='sigmoid', name='output_layer'))\n",
        "\n",
        "                    # Compile the model\n",
        "                    model.compile(optimizer=tf.keras.optimizers.Adam(learning_rate=learning_rate), loss=loss, metrics=metrics)\n",
        "\n",
        "                    # Print model summary\n",
        "                    print(f\"\\nTraining with learning rate={learning_rate}, activation={activation}, units_per_layer={units_per_layer}, num_hidden_layers={num_hidden_layers}\")\n",
        "                    model.summary()\n",
        "\n",
        "                    # Train the model\n",
        "                    history = model.fit(x_train, y_train, batch_size=batch_size, epochs=epochs, validation_data=(x_test, y_test))\n",
        "\n",
        "                    # Evaluate the model on test data\n",
        "                    y_pred = model.predict(x_test)\n",
        "                    y_pred_classes = (y_pred > 0.5).astype(int)  # Assuming a binary classification task\n",
        "\n",
        "                    # Calculate metrics\n",
        "                    accuracy = accuracy_score(y_test, y_pred_classes)\n",
        "                    f1 = f1_score(y_test, y_pred_classes, average='weighted')  # Use 'weighted' for multilabel classification\n",
        "                    precision = precision_score(y_test, y_pred_classes, average='weighted')\n",
        "                    recall = recall_score(y_test, y_pred_classes, average='weighted')\n",
        "\n",
        "                    # Save results to the file\n",
        "                    results_df = results_df.append({\n",
        "                        'Learning Rate': learning_rate,\n",
        "                        'Activation': activation,\n",
        "                        'Units per Layer': units_per_layer,\n",
        "                        'Hidden Layers': num_hidden_layers,\n",
        "                        'Accuracy': accuracy,\n",
        "                        'F1': f1,\n",
        "                        'Precision': precision,\n",
        "                        'Recall': recall\n",
        "                    }, ignore_index=True)\n",
        "                    results_df.to_csv(results_file, index=False)\n",
        "\n",
        "                    # Print metrics\n",
        "                    print(f\"Accuracy: {accuracy:.4f}, F1: {f1:.4f}, Precision: {precision:.4f}, Recall: {recall:.4f}\")\n",
        "\n",
        "                else:\n",
        "                    print(f\"Skipping already processed combination: learning rate={learning_rate}, activation={activation}, units_per_layer={units_per_layer}, num_hidden_layers={num_hidden_layers}\")"
      ],
      "metadata": {
        "colab": {
          "base_uri": "https://localhost:8080/"
        },
        "id": "aVcnfwqaMgqA",
        "outputId": "c67c9414-3252-47fb-fdf9-390e96cb3fef"
      },
      "execution_count": 26,
      "outputs": [
        {
          "output_type": "stream",
          "name": "stdout",
          "text": [
            "Skipping already processed combination: learning rate=0.001, activation=relu, units_per_layer=32, num_hidden_layers=1\n",
            "Skipping already processed combination: learning rate=0.001, activation=relu, units_per_layer=32, num_hidden_layers=2\n",
            "Skipping already processed combination: learning rate=0.001, activation=relu, units_per_layer=32, num_hidden_layers=3\n",
            "Skipping already processed combination: learning rate=0.001, activation=relu, units_per_layer=64, num_hidden_layers=1\n",
            "Skipping already processed combination: learning rate=0.001, activation=relu, units_per_layer=64, num_hidden_layers=2\n",
            "Skipping already processed combination: learning rate=0.001, activation=relu, units_per_layer=64, num_hidden_layers=3\n",
            "Skipping already processed combination: learning rate=0.001, activation=relu, units_per_layer=128, num_hidden_layers=1\n",
            "Skipping already processed combination: learning rate=0.001, activation=relu, units_per_layer=128, num_hidden_layers=2\n",
            "Skipping already processed combination: learning rate=0.001, activation=relu, units_per_layer=128, num_hidden_layers=3\n",
            "Skipping already processed combination: learning rate=0.001, activation=relu, units_per_layer=256, num_hidden_layers=1\n",
            "Skipping already processed combination: learning rate=0.001, activation=relu, units_per_layer=256, num_hidden_layers=2\n",
            "Skipping already processed combination: learning rate=0.001, activation=relu, units_per_layer=256, num_hidden_layers=3\n",
            "Skipping already processed combination: learning rate=0.001, activation=sigmoid, units_per_layer=32, num_hidden_layers=1\n",
            "Skipping already processed combination: learning rate=0.001, activation=sigmoid, units_per_layer=32, num_hidden_layers=2\n",
            "Skipping already processed combination: learning rate=0.001, activation=sigmoid, units_per_layer=32, num_hidden_layers=3\n",
            "Skipping already processed combination: learning rate=0.001, activation=sigmoid, units_per_layer=64, num_hidden_layers=1\n",
            "Skipping already processed combination: learning rate=0.001, activation=sigmoid, units_per_layer=64, num_hidden_layers=2\n",
            "Skipping already processed combination: learning rate=0.001, activation=sigmoid, units_per_layer=64, num_hidden_layers=3\n",
            "Skipping already processed combination: learning rate=0.001, activation=sigmoid, units_per_layer=128, num_hidden_layers=1\n",
            "Skipping already processed combination: learning rate=0.001, activation=sigmoid, units_per_layer=128, num_hidden_layers=2\n",
            "Skipping already processed combination: learning rate=0.001, activation=sigmoid, units_per_layer=128, num_hidden_layers=3\n",
            "Skipping already processed combination: learning rate=0.001, activation=sigmoid, units_per_layer=256, num_hidden_layers=1\n",
            "Skipping already processed combination: learning rate=0.001, activation=sigmoid, units_per_layer=256, num_hidden_layers=2\n",
            "Skipping already processed combination: learning rate=0.001, activation=sigmoid, units_per_layer=256, num_hidden_layers=3\n",
            "Skipping already processed combination: learning rate=0.001, activation=tanh, units_per_layer=32, num_hidden_layers=1\n",
            "Skipping already processed combination: learning rate=0.001, activation=tanh, units_per_layer=32, num_hidden_layers=2\n",
            "Skipping already processed combination: learning rate=0.001, activation=tanh, units_per_layer=32, num_hidden_layers=3\n",
            "Skipping already processed combination: learning rate=0.001, activation=tanh, units_per_layer=64, num_hidden_layers=1\n",
            "Skipping already processed combination: learning rate=0.001, activation=tanh, units_per_layer=64, num_hidden_layers=2\n",
            "Skipping already processed combination: learning rate=0.001, activation=tanh, units_per_layer=64, num_hidden_layers=3\n",
            "Skipping already processed combination: learning rate=0.001, activation=tanh, units_per_layer=128, num_hidden_layers=1\n",
            "Skipping already processed combination: learning rate=0.001, activation=tanh, units_per_layer=128, num_hidden_layers=2\n",
            "Skipping already processed combination: learning rate=0.001, activation=tanh, units_per_layer=128, num_hidden_layers=3\n",
            "Skipping already processed combination: learning rate=0.001, activation=tanh, units_per_layer=256, num_hidden_layers=1\n",
            "Skipping already processed combination: learning rate=0.001, activation=tanh, units_per_layer=256, num_hidden_layers=2\n",
            "Skipping already processed combination: learning rate=0.001, activation=tanh, units_per_layer=256, num_hidden_layers=3\n",
            "Skipping already processed combination: learning rate=0.01, activation=relu, units_per_layer=32, num_hidden_layers=1\n",
            "Skipping already processed combination: learning rate=0.01, activation=relu, units_per_layer=32, num_hidden_layers=2\n",
            "Skipping already processed combination: learning rate=0.01, activation=relu, units_per_layer=32, num_hidden_layers=3\n",
            "Skipping already processed combination: learning rate=0.01, activation=relu, units_per_layer=64, num_hidden_layers=1\n",
            "Skipping already processed combination: learning rate=0.01, activation=relu, units_per_layer=64, num_hidden_layers=2\n",
            "Skipping already processed combination: learning rate=0.01, activation=relu, units_per_layer=64, num_hidden_layers=3\n",
            "Skipping already processed combination: learning rate=0.01, activation=relu, units_per_layer=128, num_hidden_layers=1\n",
            "Skipping already processed combination: learning rate=0.01, activation=relu, units_per_layer=128, num_hidden_layers=2\n",
            "Skipping already processed combination: learning rate=0.01, activation=relu, units_per_layer=128, num_hidden_layers=3\n",
            "Skipping already processed combination: learning rate=0.01, activation=relu, units_per_layer=256, num_hidden_layers=1\n",
            "Skipping already processed combination: learning rate=0.01, activation=relu, units_per_layer=256, num_hidden_layers=2\n",
            "Skipping already processed combination: learning rate=0.01, activation=relu, units_per_layer=256, num_hidden_layers=3\n",
            "Skipping already processed combination: learning rate=0.01, activation=sigmoid, units_per_layer=32, num_hidden_layers=1\n",
            "Skipping already processed combination: learning rate=0.01, activation=sigmoid, units_per_layer=32, num_hidden_layers=2\n",
            "Skipping already processed combination: learning rate=0.01, activation=sigmoid, units_per_layer=32, num_hidden_layers=3\n",
            "Skipping already processed combination: learning rate=0.01, activation=sigmoid, units_per_layer=64, num_hidden_layers=1\n",
            "Skipping already processed combination: learning rate=0.01, activation=sigmoid, units_per_layer=64, num_hidden_layers=2\n",
            "Skipping already processed combination: learning rate=0.01, activation=sigmoid, units_per_layer=64, num_hidden_layers=3\n",
            "Skipping already processed combination: learning rate=0.01, activation=sigmoid, units_per_layer=128, num_hidden_layers=1\n",
            "Skipping already processed combination: learning rate=0.01, activation=sigmoid, units_per_layer=128, num_hidden_layers=2\n",
            "Skipping already processed combination: learning rate=0.01, activation=sigmoid, units_per_layer=128, num_hidden_layers=3\n",
            "Skipping already processed combination: learning rate=0.01, activation=sigmoid, units_per_layer=256, num_hidden_layers=1\n",
            "Skipping already processed combination: learning rate=0.01, activation=sigmoid, units_per_layer=256, num_hidden_layers=2\n",
            "Skipping already processed combination: learning rate=0.01, activation=sigmoid, units_per_layer=256, num_hidden_layers=3\n",
            "Skipping already processed combination: learning rate=0.01, activation=tanh, units_per_layer=32, num_hidden_layers=1\n",
            "Skipping already processed combination: learning rate=0.01, activation=tanh, units_per_layer=32, num_hidden_layers=2\n",
            "Skipping already processed combination: learning rate=0.01, activation=tanh, units_per_layer=32, num_hidden_layers=3\n",
            "Skipping already processed combination: learning rate=0.01, activation=tanh, units_per_layer=64, num_hidden_layers=1\n",
            "Skipping already processed combination: learning rate=0.01, activation=tanh, units_per_layer=64, num_hidden_layers=2\n",
            "Skipping already processed combination: learning rate=0.01, activation=tanh, units_per_layer=64, num_hidden_layers=3\n",
            "Skipping already processed combination: learning rate=0.01, activation=tanh, units_per_layer=128, num_hidden_layers=1\n",
            "Skipping already processed combination: learning rate=0.01, activation=tanh, units_per_layer=128, num_hidden_layers=2\n",
            "Skipping already processed combination: learning rate=0.01, activation=tanh, units_per_layer=128, num_hidden_layers=3\n",
            "Skipping already processed combination: learning rate=0.01, activation=tanh, units_per_layer=256, num_hidden_layers=1\n",
            "Skipping already processed combination: learning rate=0.01, activation=tanh, units_per_layer=256, num_hidden_layers=2\n",
            "Skipping already processed combination: learning rate=0.01, activation=tanh, units_per_layer=256, num_hidden_layers=3\n",
            "Skipping already processed combination: learning rate=0.1, activation=relu, units_per_layer=32, num_hidden_layers=1\n",
            "Skipping already processed combination: learning rate=0.1, activation=relu, units_per_layer=32, num_hidden_layers=2\n",
            "Skipping already processed combination: learning rate=0.1, activation=relu, units_per_layer=32, num_hidden_layers=3\n",
            "Skipping already processed combination: learning rate=0.1, activation=relu, units_per_layer=64, num_hidden_layers=1\n",
            "Skipping already processed combination: learning rate=0.1, activation=relu, units_per_layer=64, num_hidden_layers=2\n",
            "Skipping already processed combination: learning rate=0.1, activation=relu, units_per_layer=64, num_hidden_layers=3\n",
            "Skipping already processed combination: learning rate=0.1, activation=relu, units_per_layer=128, num_hidden_layers=1\n",
            "Skipping already processed combination: learning rate=0.1, activation=relu, units_per_layer=128, num_hidden_layers=2\n",
            "Skipping already processed combination: learning rate=0.1, activation=relu, units_per_layer=128, num_hidden_layers=3\n",
            "Skipping already processed combination: learning rate=0.1, activation=relu, units_per_layer=256, num_hidden_layers=1\n",
            "Skipping already processed combination: learning rate=0.1, activation=relu, units_per_layer=256, num_hidden_layers=2\n",
            "Skipping already processed combination: learning rate=0.1, activation=relu, units_per_layer=256, num_hidden_layers=3\n",
            "Skipping already processed combination: learning rate=0.1, activation=sigmoid, units_per_layer=32, num_hidden_layers=1\n",
            "Skipping already processed combination: learning rate=0.1, activation=sigmoid, units_per_layer=32, num_hidden_layers=2\n",
            "Skipping already processed combination: learning rate=0.1, activation=sigmoid, units_per_layer=32, num_hidden_layers=3\n",
            "Skipping already processed combination: learning rate=0.1, activation=sigmoid, units_per_layer=64, num_hidden_layers=1\n",
            "Skipping already processed combination: learning rate=0.1, activation=sigmoid, units_per_layer=64, num_hidden_layers=2\n",
            "Skipping already processed combination: learning rate=0.1, activation=sigmoid, units_per_layer=64, num_hidden_layers=3\n",
            "Skipping already processed combination: learning rate=0.1, activation=sigmoid, units_per_layer=128, num_hidden_layers=1\n",
            "Skipping already processed combination: learning rate=0.1, activation=sigmoid, units_per_layer=128, num_hidden_layers=2\n",
            "Skipping already processed combination: learning rate=0.1, activation=sigmoid, units_per_layer=128, num_hidden_layers=3\n",
            "Skipping already processed combination: learning rate=0.1, activation=sigmoid, units_per_layer=256, num_hidden_layers=1\n",
            "Skipping already processed combination: learning rate=0.1, activation=sigmoid, units_per_layer=256, num_hidden_layers=2\n",
            "Skipping already processed combination: learning rate=0.1, activation=sigmoid, units_per_layer=256, num_hidden_layers=3\n",
            "Skipping already processed combination: learning rate=0.1, activation=tanh, units_per_layer=32, num_hidden_layers=1\n",
            "Skipping already processed combination: learning rate=0.1, activation=tanh, units_per_layer=32, num_hidden_layers=2\n",
            "Skipping already processed combination: learning rate=0.1, activation=tanh, units_per_layer=32, num_hidden_layers=3\n",
            "Skipping already processed combination: learning rate=0.1, activation=tanh, units_per_layer=64, num_hidden_layers=1\n",
            "Skipping already processed combination: learning rate=0.1, activation=tanh, units_per_layer=64, num_hidden_layers=2\n",
            "Skipping already processed combination: learning rate=0.1, activation=tanh, units_per_layer=64, num_hidden_layers=3\n",
            "Skipping already processed combination: learning rate=0.1, activation=tanh, units_per_layer=128, num_hidden_layers=1\n",
            "Skipping already processed combination: learning rate=0.1, activation=tanh, units_per_layer=128, num_hidden_layers=2\n",
            "Skipping already processed combination: learning rate=0.1, activation=tanh, units_per_layer=128, num_hidden_layers=3\n",
            "Skipping already processed combination: learning rate=0.1, activation=tanh, units_per_layer=256, num_hidden_layers=1\n",
            "Skipping already processed combination: learning rate=0.1, activation=tanh, units_per_layer=256, num_hidden_layers=2\n",
            "Skipping already processed combination: learning rate=0.1, activation=tanh, units_per_layer=256, num_hidden_layers=3\n"
          ]
        }
      ]
    },
    {
      "cell_type": "markdown",
      "source": [
        "In my opinion recall is the most important metric. We want to see how well the machine predicts the positives. From the candidates that the model predicts they are eligible to take the loan. how many of them are really going to pay it back."
      ],
      "metadata": {
        "id": "O8U1smZwxAzv"
      }
    },
    {
      "cell_type": "markdown",
      "source": [
        "Show 10 ranodm rows of the results df"
      ],
      "metadata": {
        "id": "h4hRSSnSyP5f"
      }
    },
    {
      "cell_type": "code",
      "source": [
        "results_df.sample(n=10)"
      ],
      "metadata": {
        "colab": {
          "base_uri": "https://localhost:8080/",
          "height": 363
        },
        "id": "a61aYsjIyBMK",
        "outputId": "1d2be222-e060-4184-c14f-7db205b380f2"
      },
      "execution_count": 27,
      "outputs": [
        {
          "output_type": "execute_result",
          "data": {
            "text/plain": [
              "     Hidden Layers  Units per Layer Activation  Learning Rate  Accuracy  \\\n",
              "9                1               64       relu          0.001  0.920157   \n",
              "87               3               64       tanh          0.001  0.710891   \n",
              "19               1              128       relu          0.010  0.708344   \n",
              "96               3              128       tanh          0.001  0.709978   \n",
              "4                1               32    sigmoid          0.010  0.708397   \n",
              "84               3               64    sigmoid          0.001  0.709135   \n",
              "100              3              256       relu          0.010  0.708362   \n",
              "85               3               64    sigmoid          0.010  0.708362   \n",
              "40               2               32    sigmoid          0.010  0.708362   \n",
              "51               2               64       tanh          0.001  0.709064   \n",
              "\n",
              "           F1  Precision    Recall  \n",
              "9    0.918312   0.920198  0.920157  \n",
              "87   0.596276   0.712618  0.710891  \n",
              "19   0.587427   0.501773  0.708344  \n",
              "96   0.594998   0.706359  0.710592  \n",
              "4    0.587518   0.793432  0.708397  \n",
              "84   0.589889   0.724469  0.709135  \n",
              "100  0.587436   0.501777  0.708362  \n",
              "85   0.587436   0.501777  0.708362  \n",
              "40   0.587436   0.501777  0.708362  \n",
              "51   0.591454   0.708406  0.709486  "
            ],
            "text/html": [
              "\n",
              "  <div id=\"df-656cdaba-badf-45ae-8a9f-df48ac40578e\" class=\"colab-df-container\">\n",
              "    <div>\n",
              "<style scoped>\n",
              "    .dataframe tbody tr th:only-of-type {\n",
              "        vertical-align: middle;\n",
              "    }\n",
              "\n",
              "    .dataframe tbody tr th {\n",
              "        vertical-align: top;\n",
              "    }\n",
              "\n",
              "    .dataframe thead th {\n",
              "        text-align: right;\n",
              "    }\n",
              "</style>\n",
              "<table border=\"1\" class=\"dataframe\">\n",
              "  <thead>\n",
              "    <tr style=\"text-align: right;\">\n",
              "      <th></th>\n",
              "      <th>Hidden Layers</th>\n",
              "      <th>Units per Layer</th>\n",
              "      <th>Activation</th>\n",
              "      <th>Learning Rate</th>\n",
              "      <th>Accuracy</th>\n",
              "      <th>F1</th>\n",
              "      <th>Precision</th>\n",
              "      <th>Recall</th>\n",
              "    </tr>\n",
              "  </thead>\n",
              "  <tbody>\n",
              "    <tr>\n",
              "      <th>9</th>\n",
              "      <td>1</td>\n",
              "      <td>64</td>\n",
              "      <td>relu</td>\n",
              "      <td>0.001</td>\n",
              "      <td>0.920157</td>\n",
              "      <td>0.918312</td>\n",
              "      <td>0.920198</td>\n",
              "      <td>0.920157</td>\n",
              "    </tr>\n",
              "    <tr>\n",
              "      <th>87</th>\n",
              "      <td>3</td>\n",
              "      <td>64</td>\n",
              "      <td>tanh</td>\n",
              "      <td>0.001</td>\n",
              "      <td>0.710891</td>\n",
              "      <td>0.596276</td>\n",
              "      <td>0.712618</td>\n",
              "      <td>0.710891</td>\n",
              "    </tr>\n",
              "    <tr>\n",
              "      <th>19</th>\n",
              "      <td>1</td>\n",
              "      <td>128</td>\n",
              "      <td>relu</td>\n",
              "      <td>0.010</td>\n",
              "      <td>0.708344</td>\n",
              "      <td>0.587427</td>\n",
              "      <td>0.501773</td>\n",
              "      <td>0.708344</td>\n",
              "    </tr>\n",
              "    <tr>\n",
              "      <th>96</th>\n",
              "      <td>3</td>\n",
              "      <td>128</td>\n",
              "      <td>tanh</td>\n",
              "      <td>0.001</td>\n",
              "      <td>0.709978</td>\n",
              "      <td>0.594998</td>\n",
              "      <td>0.706359</td>\n",
              "      <td>0.710592</td>\n",
              "    </tr>\n",
              "    <tr>\n",
              "      <th>4</th>\n",
              "      <td>1</td>\n",
              "      <td>32</td>\n",
              "      <td>sigmoid</td>\n",
              "      <td>0.010</td>\n",
              "      <td>0.708397</td>\n",
              "      <td>0.587518</td>\n",
              "      <td>0.793432</td>\n",
              "      <td>0.708397</td>\n",
              "    </tr>\n",
              "    <tr>\n",
              "      <th>84</th>\n",
              "      <td>3</td>\n",
              "      <td>64</td>\n",
              "      <td>sigmoid</td>\n",
              "      <td>0.001</td>\n",
              "      <td>0.709135</td>\n",
              "      <td>0.589889</td>\n",
              "      <td>0.724469</td>\n",
              "      <td>0.709135</td>\n",
              "    </tr>\n",
              "    <tr>\n",
              "      <th>100</th>\n",
              "      <td>3</td>\n",
              "      <td>256</td>\n",
              "      <td>relu</td>\n",
              "      <td>0.010</td>\n",
              "      <td>0.708362</td>\n",
              "      <td>0.587436</td>\n",
              "      <td>0.501777</td>\n",
              "      <td>0.708362</td>\n",
              "    </tr>\n",
              "    <tr>\n",
              "      <th>85</th>\n",
              "      <td>3</td>\n",
              "      <td>64</td>\n",
              "      <td>sigmoid</td>\n",
              "      <td>0.010</td>\n",
              "      <td>0.708362</td>\n",
              "      <td>0.587436</td>\n",
              "      <td>0.501777</td>\n",
              "      <td>0.708362</td>\n",
              "    </tr>\n",
              "    <tr>\n",
              "      <th>40</th>\n",
              "      <td>2</td>\n",
              "      <td>32</td>\n",
              "      <td>sigmoid</td>\n",
              "      <td>0.010</td>\n",
              "      <td>0.708362</td>\n",
              "      <td>0.587436</td>\n",
              "      <td>0.501777</td>\n",
              "      <td>0.708362</td>\n",
              "    </tr>\n",
              "    <tr>\n",
              "      <th>51</th>\n",
              "      <td>2</td>\n",
              "      <td>64</td>\n",
              "      <td>tanh</td>\n",
              "      <td>0.001</td>\n",
              "      <td>0.709064</td>\n",
              "      <td>0.591454</td>\n",
              "      <td>0.708406</td>\n",
              "      <td>0.709486</td>\n",
              "    </tr>\n",
              "  </tbody>\n",
              "</table>\n",
              "</div>\n",
              "    <div class=\"colab-df-buttons\">\n",
              "\n",
              "  <div class=\"colab-df-container\">\n",
              "    <button class=\"colab-df-convert\" onclick=\"convertToInteractive('df-656cdaba-badf-45ae-8a9f-df48ac40578e')\"\n",
              "            title=\"Convert this dataframe to an interactive table.\"\n",
              "            style=\"display:none;\">\n",
              "\n",
              "  <svg xmlns=\"http://www.w3.org/2000/svg\" height=\"24px\" viewBox=\"0 -960 960 960\">\n",
              "    <path d=\"M120-120v-720h720v720H120Zm60-500h600v-160H180v160Zm220 220h160v-160H400v160Zm0 220h160v-160H400v160ZM180-400h160v-160H180v160Zm440 0h160v-160H620v160ZM180-180h160v-160H180v160Zm440 0h160v-160H620v160Z\"/>\n",
              "  </svg>\n",
              "    </button>\n",
              "\n",
              "  <style>\n",
              "    .colab-df-container {\n",
              "      display:flex;\n",
              "      gap: 12px;\n",
              "    }\n",
              "\n",
              "    .colab-df-convert {\n",
              "      background-color: #E8F0FE;\n",
              "      border: none;\n",
              "      border-radius: 50%;\n",
              "      cursor: pointer;\n",
              "      display: none;\n",
              "      fill: #1967D2;\n",
              "      height: 32px;\n",
              "      padding: 0 0 0 0;\n",
              "      width: 32px;\n",
              "    }\n",
              "\n",
              "    .colab-df-convert:hover {\n",
              "      background-color: #E2EBFA;\n",
              "      box-shadow: 0px 1px 2px rgba(60, 64, 67, 0.3), 0px 1px 3px 1px rgba(60, 64, 67, 0.15);\n",
              "      fill: #174EA6;\n",
              "    }\n",
              "\n",
              "    .colab-df-buttons div {\n",
              "      margin-bottom: 4px;\n",
              "    }\n",
              "\n",
              "    [theme=dark] .colab-df-convert {\n",
              "      background-color: #3B4455;\n",
              "      fill: #D2E3FC;\n",
              "    }\n",
              "\n",
              "    [theme=dark] .colab-df-convert:hover {\n",
              "      background-color: #434B5C;\n",
              "      box-shadow: 0px 1px 3px 1px rgba(0, 0, 0, 0.15);\n",
              "      filter: drop-shadow(0px 1px 2px rgba(0, 0, 0, 0.3));\n",
              "      fill: #FFFFFF;\n",
              "    }\n",
              "  </style>\n",
              "\n",
              "    <script>\n",
              "      const buttonEl =\n",
              "        document.querySelector('#df-656cdaba-badf-45ae-8a9f-df48ac40578e button.colab-df-convert');\n",
              "      buttonEl.style.display =\n",
              "        google.colab.kernel.accessAllowed ? 'block' : 'none';\n",
              "\n",
              "      async function convertToInteractive(key) {\n",
              "        const element = document.querySelector('#df-656cdaba-badf-45ae-8a9f-df48ac40578e');\n",
              "        const dataTable =\n",
              "          await google.colab.kernel.invokeFunction('convertToInteractive',\n",
              "                                                    [key], {});\n",
              "        if (!dataTable) return;\n",
              "\n",
              "        const docLinkHtml = 'Like what you see? Visit the ' +\n",
              "          '<a target=\"_blank\" href=https://colab.research.google.com/notebooks/data_table.ipynb>data table notebook</a>'\n",
              "          + ' to learn more about interactive tables.';\n",
              "        element.innerHTML = '';\n",
              "        dataTable['output_type'] = 'display_data';\n",
              "        await google.colab.output.renderOutput(dataTable, element);\n",
              "        const docLink = document.createElement('div');\n",
              "        docLink.innerHTML = docLinkHtml;\n",
              "        element.appendChild(docLink);\n",
              "      }\n",
              "    </script>\n",
              "  </div>\n",
              "\n",
              "\n",
              "<div id=\"df-8814e9cb-6e25-4b33-a3aa-210576137ea9\">\n",
              "  <button class=\"colab-df-quickchart\" onclick=\"quickchart('df-8814e9cb-6e25-4b33-a3aa-210576137ea9')\"\n",
              "            title=\"Suggest charts\"\n",
              "            style=\"display:none;\">\n",
              "\n",
              "<svg xmlns=\"http://www.w3.org/2000/svg\" height=\"24px\"viewBox=\"0 0 24 24\"\n",
              "     width=\"24px\">\n",
              "    <g>\n",
              "        <path d=\"M19 3H5c-1.1 0-2 .9-2 2v14c0 1.1.9 2 2 2h14c1.1 0 2-.9 2-2V5c0-1.1-.9-2-2-2zM9 17H7v-7h2v7zm4 0h-2V7h2v10zm4 0h-2v-4h2v4z\"/>\n",
              "    </g>\n",
              "</svg>\n",
              "  </button>\n",
              "\n",
              "<style>\n",
              "  .colab-df-quickchart {\n",
              "      --bg-color: #E8F0FE;\n",
              "      --fill-color: #1967D2;\n",
              "      --hover-bg-color: #E2EBFA;\n",
              "      --hover-fill-color: #174EA6;\n",
              "      --disabled-fill-color: #AAA;\n",
              "      --disabled-bg-color: #DDD;\n",
              "  }\n",
              "\n",
              "  [theme=dark] .colab-df-quickchart {\n",
              "      --bg-color: #3B4455;\n",
              "      --fill-color: #D2E3FC;\n",
              "      --hover-bg-color: #434B5C;\n",
              "      --hover-fill-color: #FFFFFF;\n",
              "      --disabled-bg-color: #3B4455;\n",
              "      --disabled-fill-color: #666;\n",
              "  }\n",
              "\n",
              "  .colab-df-quickchart {\n",
              "    background-color: var(--bg-color);\n",
              "    border: none;\n",
              "    border-radius: 50%;\n",
              "    cursor: pointer;\n",
              "    display: none;\n",
              "    fill: var(--fill-color);\n",
              "    height: 32px;\n",
              "    padding: 0;\n",
              "    width: 32px;\n",
              "  }\n",
              "\n",
              "  .colab-df-quickchart:hover {\n",
              "    background-color: var(--hover-bg-color);\n",
              "    box-shadow: 0 1px 2px rgba(60, 64, 67, 0.3), 0 1px 3px 1px rgba(60, 64, 67, 0.15);\n",
              "    fill: var(--button-hover-fill-color);\n",
              "  }\n",
              "\n",
              "  .colab-df-quickchart-complete:disabled,\n",
              "  .colab-df-quickchart-complete:disabled:hover {\n",
              "    background-color: var(--disabled-bg-color);\n",
              "    fill: var(--disabled-fill-color);\n",
              "    box-shadow: none;\n",
              "  }\n",
              "\n",
              "  .colab-df-spinner {\n",
              "    border: 2px solid var(--fill-color);\n",
              "    border-color: transparent;\n",
              "    border-bottom-color: var(--fill-color);\n",
              "    animation:\n",
              "      spin 1s steps(1) infinite;\n",
              "  }\n",
              "\n",
              "  @keyframes spin {\n",
              "    0% {\n",
              "      border-color: transparent;\n",
              "      border-bottom-color: var(--fill-color);\n",
              "      border-left-color: var(--fill-color);\n",
              "    }\n",
              "    20% {\n",
              "      border-color: transparent;\n",
              "      border-left-color: var(--fill-color);\n",
              "      border-top-color: var(--fill-color);\n",
              "    }\n",
              "    30% {\n",
              "      border-color: transparent;\n",
              "      border-left-color: var(--fill-color);\n",
              "      border-top-color: var(--fill-color);\n",
              "      border-right-color: var(--fill-color);\n",
              "    }\n",
              "    40% {\n",
              "      border-color: transparent;\n",
              "      border-right-color: var(--fill-color);\n",
              "      border-top-color: var(--fill-color);\n",
              "    }\n",
              "    60% {\n",
              "      border-color: transparent;\n",
              "      border-right-color: var(--fill-color);\n",
              "    }\n",
              "    80% {\n",
              "      border-color: transparent;\n",
              "      border-right-color: var(--fill-color);\n",
              "      border-bottom-color: var(--fill-color);\n",
              "    }\n",
              "    90% {\n",
              "      border-color: transparent;\n",
              "      border-bottom-color: var(--fill-color);\n",
              "    }\n",
              "  }\n",
              "</style>\n",
              "\n",
              "  <script>\n",
              "    async function quickchart(key) {\n",
              "      const quickchartButtonEl =\n",
              "        document.querySelector('#' + key + ' button');\n",
              "      quickchartButtonEl.disabled = true;  // To prevent multiple clicks.\n",
              "      quickchartButtonEl.classList.add('colab-df-spinner');\n",
              "      try {\n",
              "        const charts = await google.colab.kernel.invokeFunction(\n",
              "            'suggestCharts', [key], {});\n",
              "      } catch (error) {\n",
              "        console.error('Error during call to suggestCharts:', error);\n",
              "      }\n",
              "      quickchartButtonEl.classList.remove('colab-df-spinner');\n",
              "      quickchartButtonEl.classList.add('colab-df-quickchart-complete');\n",
              "    }\n",
              "    (() => {\n",
              "      let quickchartButtonEl =\n",
              "        document.querySelector('#df-8814e9cb-6e25-4b33-a3aa-210576137ea9 button');\n",
              "      quickchartButtonEl.style.display =\n",
              "        google.colab.kernel.accessAllowed ? 'block' : 'none';\n",
              "    })();\n",
              "  </script>\n",
              "</div>\n",
              "    </div>\n",
              "  </div>\n"
            ]
          },
          "metadata": {},
          "execution_count": 27
        }
      ]
    },
    {
      "cell_type": "markdown",
      "source": [
        "Find the highest recall"
      ],
      "metadata": {
        "id": "cRKG4r7SyTE6"
      }
    },
    {
      "cell_type": "code",
      "source": [
        "results_df_sorted_by_recall = results_df.sort_values(by='Recall', ascending=False)\n",
        "results_df_sorted_by_recall.iloc[0]"
      ],
      "metadata": {
        "colab": {
          "base_uri": "https://localhost:8080/"
        },
        "id": "zdjI2BECwQLl",
        "outputId": "c947c684-d133-4236-d32a-cd376180a071"
      },
      "execution_count": 28,
      "outputs": [
        {
          "output_type": "execute_result",
          "data": {
            "text/plain": [
              "Hidden Layers             1\n",
              "Units per Layer         128\n",
              "Activation             relu\n",
              "Learning Rate         0.001\n",
              "Accuracy           0.943657\n",
              "F1                 0.943485\n",
              "Precision          0.943417\n",
              "Recall             0.943657\n",
              "Name: 18, dtype: object"
            ]
          },
          "metadata": {},
          "execution_count": 28
        }
      ]
    },
    {
      "cell_type": "markdown",
      "source": [
        "#Feature Importance and Selection"
      ],
      "metadata": {
        "id": "uWKshnHQyeMc"
      }
    },
    {
      "cell_type": "markdown",
      "source": [
        "Train the random forest classifier"
      ],
      "metadata": {
        "id": "NZ1IoVB50CM6"
      }
    },
    {
      "cell_type": "code",
      "source": [
        "random_forest_classifier = RandomForestClassifier()\n",
        "\n",
        "random_forest_classifier.fit(x_train, y_train)\n",
        "\n",
        "y_pred = random_forest_classifier.predict(x_test)"
      ],
      "metadata": {
        "id": "cNYmMBdzycg8"
      },
      "execution_count": 29,
      "outputs": []
    },
    {
      "cell_type": "code",
      "source": [
        "accuracy1 = accuracy_score(y_test, y_pred)\n",
        "print(f\"Accuracy: {accuracy1}\")\n",
        "\n",
        "precision1 = precision_score(y_test, y_pred, average='micro')\n",
        "print(f\"Precision: {precision1}\")\n",
        "\n",
        "recall1 = recall_score(y_test, y_pred, average='micro')\n",
        "print(f\"Recall: {recall1}\")\n",
        "\n",
        "f11 = f1_score(y_test, y_pred, average='micro')\n",
        "print(f\"F1 Score: {f11}\")\n",
        "\n",
        "class_report = classification_report(y_test, y_pred)\n",
        "print(\"Classification Report:\\n\", class_report)"
      ],
      "metadata": {
        "colab": {
          "base_uri": "https://localhost:8080/"
        },
        "id": "BoPF8_wv7AuT",
        "outputId": "f3071bfc-16ff-4c69-c527-e5116791684f"
      },
      "execution_count": 30,
      "outputs": [
        {
          "output_type": "stream",
          "name": "stdout",
          "text": [
            "Accuracy: 0.999929746913255\n",
            "Precision: 0.999929746913255\n",
            "Recall: 0.999929746913255\n",
            "F1 Score: 0.999929746913255\n",
            "Classification Report:\n",
            "               precision    recall  f1-score   support\n",
            "\n",
            "           0       1.00      1.00      1.00     40332\n",
            "           1       1.00      1.00      1.00     16605\n",
            "\n",
            "   micro avg       1.00      1.00      1.00     56937\n",
            "   macro avg       1.00      1.00      1.00     56937\n",
            "weighted avg       1.00      1.00      1.00     56937\n",
            " samples avg       1.00      1.00      1.00     56937\n",
            "\n"
          ]
        }
      ]
    },
    {
      "cell_type": "code",
      "source": [
        "feature_importances = random_forest_classifier.feature_importances_\n",
        "\n",
        "columns_to_include = [col for col in df.columns if col != 'Eligible']\n",
        "\n",
        "feature_importance_df = pd.DataFrame({'Feature': columns_to_include, 'Importance': feature_importances})\n",
        "\n",
        "feature_importance_df = feature_importance_df.sort_values(by='Importance', ascending=False)\n",
        "\n",
        "# Print or display the most important features\n",
        "print(\"Most Important Features:\")\n",
        "top_features = feature_importance_df.head(15)\n",
        "top_features"
      ],
      "metadata": {
        "colab": {
          "base_uri": "https://localhost:8080/",
          "height": 538
        },
        "id": "7359ZJ8UzFHr",
        "outputId": "1553a32c-5ab5-40e5-8f17-cd0d354bef76"
      },
      "execution_count": 31,
      "outputs": [
        {
          "output_type": "stream",
          "name": "stdout",
          "text": [
            "Most Important Features:\n"
          ]
        },
        {
          "output_type": "execute_result",
          "data": {
            "text/plain": [
              "                   Feature  Importance\n",
              "3                 int_rate    0.694444\n",
              "19           total_rec_int    0.053351\n",
              "2                     term    0.042112\n",
              "18         total_rec_prncp    0.026364\n",
              "31        total_rev_hi_lim    0.019367\n",
              "17             total_pymnt    0.017204\n",
              "4              installment    0.013119\n",
              "14              revol_util    0.012075\n",
              "24         last_pymnt_amnt    0.011806\n",
              "36  vf_status_Not Verified    0.011799\n",
              "16               out_prncp    0.009410\n",
              "1              funded_amnt    0.008672\n",
              "38      vf_status_Verified    0.008449\n",
              "0                loan_amnt    0.007946\n",
              "8                      dti    0.007641"
            ],
            "text/html": [
              "\n",
              "  <div id=\"df-33327f04-4267-437c-a56c-0b5cb99de451\" class=\"colab-df-container\">\n",
              "    <div>\n",
              "<style scoped>\n",
              "    .dataframe tbody tr th:only-of-type {\n",
              "        vertical-align: middle;\n",
              "    }\n",
              "\n",
              "    .dataframe tbody tr th {\n",
              "        vertical-align: top;\n",
              "    }\n",
              "\n",
              "    .dataframe thead th {\n",
              "        text-align: right;\n",
              "    }\n",
              "</style>\n",
              "<table border=\"1\" class=\"dataframe\">\n",
              "  <thead>\n",
              "    <tr style=\"text-align: right;\">\n",
              "      <th></th>\n",
              "      <th>Feature</th>\n",
              "      <th>Importance</th>\n",
              "    </tr>\n",
              "  </thead>\n",
              "  <tbody>\n",
              "    <tr>\n",
              "      <th>3</th>\n",
              "      <td>int_rate</td>\n",
              "      <td>0.694444</td>\n",
              "    </tr>\n",
              "    <tr>\n",
              "      <th>19</th>\n",
              "      <td>total_rec_int</td>\n",
              "      <td>0.053351</td>\n",
              "    </tr>\n",
              "    <tr>\n",
              "      <th>2</th>\n",
              "      <td>term</td>\n",
              "      <td>0.042112</td>\n",
              "    </tr>\n",
              "    <tr>\n",
              "      <th>18</th>\n",
              "      <td>total_rec_prncp</td>\n",
              "      <td>0.026364</td>\n",
              "    </tr>\n",
              "    <tr>\n",
              "      <th>31</th>\n",
              "      <td>total_rev_hi_lim</td>\n",
              "      <td>0.019367</td>\n",
              "    </tr>\n",
              "    <tr>\n",
              "      <th>17</th>\n",
              "      <td>total_pymnt</td>\n",
              "      <td>0.017204</td>\n",
              "    </tr>\n",
              "    <tr>\n",
              "      <th>4</th>\n",
              "      <td>installment</td>\n",
              "      <td>0.013119</td>\n",
              "    </tr>\n",
              "    <tr>\n",
              "      <th>14</th>\n",
              "      <td>revol_util</td>\n",
              "      <td>0.012075</td>\n",
              "    </tr>\n",
              "    <tr>\n",
              "      <th>24</th>\n",
              "      <td>last_pymnt_amnt</td>\n",
              "      <td>0.011806</td>\n",
              "    </tr>\n",
              "    <tr>\n",
              "      <th>36</th>\n",
              "      <td>vf_status_Not Verified</td>\n",
              "      <td>0.011799</td>\n",
              "    </tr>\n",
              "    <tr>\n",
              "      <th>16</th>\n",
              "      <td>out_prncp</td>\n",
              "      <td>0.009410</td>\n",
              "    </tr>\n",
              "    <tr>\n",
              "      <th>1</th>\n",
              "      <td>funded_amnt</td>\n",
              "      <td>0.008672</td>\n",
              "    </tr>\n",
              "    <tr>\n",
              "      <th>38</th>\n",
              "      <td>vf_status_Verified</td>\n",
              "      <td>0.008449</td>\n",
              "    </tr>\n",
              "    <tr>\n",
              "      <th>0</th>\n",
              "      <td>loan_amnt</td>\n",
              "      <td>0.007946</td>\n",
              "    </tr>\n",
              "    <tr>\n",
              "      <th>8</th>\n",
              "      <td>dti</td>\n",
              "      <td>0.007641</td>\n",
              "    </tr>\n",
              "  </tbody>\n",
              "</table>\n",
              "</div>\n",
              "    <div class=\"colab-df-buttons\">\n",
              "\n",
              "  <div class=\"colab-df-container\">\n",
              "    <button class=\"colab-df-convert\" onclick=\"convertToInteractive('df-33327f04-4267-437c-a56c-0b5cb99de451')\"\n",
              "            title=\"Convert this dataframe to an interactive table.\"\n",
              "            style=\"display:none;\">\n",
              "\n",
              "  <svg xmlns=\"http://www.w3.org/2000/svg\" height=\"24px\" viewBox=\"0 -960 960 960\">\n",
              "    <path d=\"M120-120v-720h720v720H120Zm60-500h600v-160H180v160Zm220 220h160v-160H400v160Zm0 220h160v-160H400v160ZM180-400h160v-160H180v160Zm440 0h160v-160H620v160ZM180-180h160v-160H180v160Zm440 0h160v-160H620v160Z\"/>\n",
              "  </svg>\n",
              "    </button>\n",
              "\n",
              "  <style>\n",
              "    .colab-df-container {\n",
              "      display:flex;\n",
              "      gap: 12px;\n",
              "    }\n",
              "\n",
              "    .colab-df-convert {\n",
              "      background-color: #E8F0FE;\n",
              "      border: none;\n",
              "      border-radius: 50%;\n",
              "      cursor: pointer;\n",
              "      display: none;\n",
              "      fill: #1967D2;\n",
              "      height: 32px;\n",
              "      padding: 0 0 0 0;\n",
              "      width: 32px;\n",
              "    }\n",
              "\n",
              "    .colab-df-convert:hover {\n",
              "      background-color: #E2EBFA;\n",
              "      box-shadow: 0px 1px 2px rgba(60, 64, 67, 0.3), 0px 1px 3px 1px rgba(60, 64, 67, 0.15);\n",
              "      fill: #174EA6;\n",
              "    }\n",
              "\n",
              "    .colab-df-buttons div {\n",
              "      margin-bottom: 4px;\n",
              "    }\n",
              "\n",
              "    [theme=dark] .colab-df-convert {\n",
              "      background-color: #3B4455;\n",
              "      fill: #D2E3FC;\n",
              "    }\n",
              "\n",
              "    [theme=dark] .colab-df-convert:hover {\n",
              "      background-color: #434B5C;\n",
              "      box-shadow: 0px 1px 3px 1px rgba(0, 0, 0, 0.15);\n",
              "      filter: drop-shadow(0px 1px 2px rgba(0, 0, 0, 0.3));\n",
              "      fill: #FFFFFF;\n",
              "    }\n",
              "  </style>\n",
              "\n",
              "    <script>\n",
              "      const buttonEl =\n",
              "        document.querySelector('#df-33327f04-4267-437c-a56c-0b5cb99de451 button.colab-df-convert');\n",
              "      buttonEl.style.display =\n",
              "        google.colab.kernel.accessAllowed ? 'block' : 'none';\n",
              "\n",
              "      async function convertToInteractive(key) {\n",
              "        const element = document.querySelector('#df-33327f04-4267-437c-a56c-0b5cb99de451');\n",
              "        const dataTable =\n",
              "          await google.colab.kernel.invokeFunction('convertToInteractive',\n",
              "                                                    [key], {});\n",
              "        if (!dataTable) return;\n",
              "\n",
              "        const docLinkHtml = 'Like what you see? Visit the ' +\n",
              "          '<a target=\"_blank\" href=https://colab.research.google.com/notebooks/data_table.ipynb>data table notebook</a>'\n",
              "          + ' to learn more about interactive tables.';\n",
              "        element.innerHTML = '';\n",
              "        dataTable['output_type'] = 'display_data';\n",
              "        await google.colab.output.renderOutput(dataTable, element);\n",
              "        const docLink = document.createElement('div');\n",
              "        docLink.innerHTML = docLinkHtml;\n",
              "        element.appendChild(docLink);\n",
              "      }\n",
              "    </script>\n",
              "  </div>\n",
              "\n",
              "\n",
              "<div id=\"df-0c005e46-5f69-4ef4-9f6c-e1c5bce9c809\">\n",
              "  <button class=\"colab-df-quickchart\" onclick=\"quickchart('df-0c005e46-5f69-4ef4-9f6c-e1c5bce9c809')\"\n",
              "            title=\"Suggest charts\"\n",
              "            style=\"display:none;\">\n",
              "\n",
              "<svg xmlns=\"http://www.w3.org/2000/svg\" height=\"24px\"viewBox=\"0 0 24 24\"\n",
              "     width=\"24px\">\n",
              "    <g>\n",
              "        <path d=\"M19 3H5c-1.1 0-2 .9-2 2v14c0 1.1.9 2 2 2h14c1.1 0 2-.9 2-2V5c0-1.1-.9-2-2-2zM9 17H7v-7h2v7zm4 0h-2V7h2v10zm4 0h-2v-4h2v4z\"/>\n",
              "    </g>\n",
              "</svg>\n",
              "  </button>\n",
              "\n",
              "<style>\n",
              "  .colab-df-quickchart {\n",
              "      --bg-color: #E8F0FE;\n",
              "      --fill-color: #1967D2;\n",
              "      --hover-bg-color: #E2EBFA;\n",
              "      --hover-fill-color: #174EA6;\n",
              "      --disabled-fill-color: #AAA;\n",
              "      --disabled-bg-color: #DDD;\n",
              "  }\n",
              "\n",
              "  [theme=dark] .colab-df-quickchart {\n",
              "      --bg-color: #3B4455;\n",
              "      --fill-color: #D2E3FC;\n",
              "      --hover-bg-color: #434B5C;\n",
              "      --hover-fill-color: #FFFFFF;\n",
              "      --disabled-bg-color: #3B4455;\n",
              "      --disabled-fill-color: #666;\n",
              "  }\n",
              "\n",
              "  .colab-df-quickchart {\n",
              "    background-color: var(--bg-color);\n",
              "    border: none;\n",
              "    border-radius: 50%;\n",
              "    cursor: pointer;\n",
              "    display: none;\n",
              "    fill: var(--fill-color);\n",
              "    height: 32px;\n",
              "    padding: 0;\n",
              "    width: 32px;\n",
              "  }\n",
              "\n",
              "  .colab-df-quickchart:hover {\n",
              "    background-color: var(--hover-bg-color);\n",
              "    box-shadow: 0 1px 2px rgba(60, 64, 67, 0.3), 0 1px 3px 1px rgba(60, 64, 67, 0.15);\n",
              "    fill: var(--button-hover-fill-color);\n",
              "  }\n",
              "\n",
              "  .colab-df-quickchart-complete:disabled,\n",
              "  .colab-df-quickchart-complete:disabled:hover {\n",
              "    background-color: var(--disabled-bg-color);\n",
              "    fill: var(--disabled-fill-color);\n",
              "    box-shadow: none;\n",
              "  }\n",
              "\n",
              "  .colab-df-spinner {\n",
              "    border: 2px solid var(--fill-color);\n",
              "    border-color: transparent;\n",
              "    border-bottom-color: var(--fill-color);\n",
              "    animation:\n",
              "      spin 1s steps(1) infinite;\n",
              "  }\n",
              "\n",
              "  @keyframes spin {\n",
              "    0% {\n",
              "      border-color: transparent;\n",
              "      border-bottom-color: var(--fill-color);\n",
              "      border-left-color: var(--fill-color);\n",
              "    }\n",
              "    20% {\n",
              "      border-color: transparent;\n",
              "      border-left-color: var(--fill-color);\n",
              "      border-top-color: var(--fill-color);\n",
              "    }\n",
              "    30% {\n",
              "      border-color: transparent;\n",
              "      border-left-color: var(--fill-color);\n",
              "      border-top-color: var(--fill-color);\n",
              "      border-right-color: var(--fill-color);\n",
              "    }\n",
              "    40% {\n",
              "      border-color: transparent;\n",
              "      border-right-color: var(--fill-color);\n",
              "      border-top-color: var(--fill-color);\n",
              "    }\n",
              "    60% {\n",
              "      border-color: transparent;\n",
              "      border-right-color: var(--fill-color);\n",
              "    }\n",
              "    80% {\n",
              "      border-color: transparent;\n",
              "      border-right-color: var(--fill-color);\n",
              "      border-bottom-color: var(--fill-color);\n",
              "    }\n",
              "    90% {\n",
              "      border-color: transparent;\n",
              "      border-bottom-color: var(--fill-color);\n",
              "    }\n",
              "  }\n",
              "</style>\n",
              "\n",
              "  <script>\n",
              "    async function quickchart(key) {\n",
              "      const quickchartButtonEl =\n",
              "        document.querySelector('#' + key + ' button');\n",
              "      quickchartButtonEl.disabled = true;  // To prevent multiple clicks.\n",
              "      quickchartButtonEl.classList.add('colab-df-spinner');\n",
              "      try {\n",
              "        const charts = await google.colab.kernel.invokeFunction(\n",
              "            'suggestCharts', [key], {});\n",
              "      } catch (error) {\n",
              "        console.error('Error during call to suggestCharts:', error);\n",
              "      }\n",
              "      quickchartButtonEl.classList.remove('colab-df-spinner');\n",
              "      quickchartButtonEl.classList.add('colab-df-quickchart-complete');\n",
              "    }\n",
              "    (() => {\n",
              "      let quickchartButtonEl =\n",
              "        document.querySelector('#df-0c005e46-5f69-4ef4-9f6c-e1c5bce9c809 button');\n",
              "      quickchartButtonEl.style.display =\n",
              "        google.colab.kernel.accessAllowed ? 'block' : 'none';\n",
              "    })();\n",
              "  </script>\n",
              "</div>\n",
              "    </div>\n",
              "  </div>\n"
            ]
          },
          "metadata": {},
          "execution_count": 31
        }
      ]
    },
    {
      "cell_type": "code",
      "source": [
        "plt.figure(figsize=(10, 6))\n",
        "plt.barh(top_features['Feature'], top_features['Importance'], color='skyblue')\n",
        "plt.xlabel('Importance')\n",
        "plt.title('Top 15 Most Important Features')\n",
        "plt.show()"
      ],
      "metadata": {
        "colab": {
          "base_uri": "https://localhost:8080/",
          "height": 564
        },
        "id": "3uuhhdlI0RkX",
        "outputId": "feedadd7-ba92-4afa-f703-4760f6f5c793"
      },
      "execution_count": 32,
      "outputs": [
        {
          "output_type": "display_data",
          "data": {
            "text/plain": [
              "<Figure size 1000x600 with 1 Axes>"
            ],
            "image/png": "[encoded data removed]"
          },
          "metadata": {}
        }
      ]
    },
    {
      "cell_type": "markdown",
      "source": [
        "Importance scores and rules extracted from Decision Trees and Random Forests can be valuable tools for the model user, but they should be used with caution in certain fields such as Risk Analysis, Medical Applications, etc. There are reasons why these results may not be easily accepted, and problems arise with rules and importance scores:\n",
        "\n",
        "\n",
        "\n",
        "*   Complex Decisions:\n",
        "Decision Trees and Random Forests can produce complex and intricate decision structures. The rules derived from these structures can be difficult for non-experts to comprehend, making the models challenging to interpret, especially when decisions are deep and complex.\n",
        "\n",
        "\n",
        "\n",
        "*   Non-Interpretable Importance Scores:  Importance scores may not always correspond to intuitive or natural interpretations. While a feature may have a high importance score, its interpretation in terms of the actual content of the feature may be unclear.\n",
        "\n",
        "*   Subjectivity: Sometimes, rules and importance scores can be subjective, depending on the selection of features and model parameters.\n",
        "\n",
        "\n",
        "\n",
        "*   Data Sensitivity:Decision Trees are known for their sensitivity to small changes in training data. A small change in the data can lead to different rules or importance scores.\n",
        "*   Generalization Issues: While a model may have high accuracy on the training data, the derived rules may not generalize well to new data. This can result in incorrect or unreliable decisions."
      ],
      "metadata": {
        "id": "NcrEebWT0qOj"
      }
    },
    {
      "cell_type": "markdown",
      "source": [
        "Print the corellation matrix"
      ],
      "metadata": {
        "id": "iXZBrUwL4HQT"
      }
    },
    {
      "cell_type": "code",
      "source": [
        "desired_columns = top_features['Feature'].tolist()\n",
        "\n",
        "top_feature_df = df[desired_columns].copy()\n",
        "\n",
        "correlation_matrix = top_feature_df.corr()\n",
        "\n",
        "# Print the correlation matrix\n",
        "print(\"Correlation Matrix for Top Features:\")\n",
        "correlation_matrix\n"
      ],
      "metadata": {
        "colab": {
          "base_uri": "https://localhost:8080/",
          "height": 593
        },
        "id": "Fq5uOsI11eG-",
        "outputId": "99d5c1df-6c96-4bf3-fd75-327647490d17"
      },
      "execution_count": 33,
      "outputs": [
        {
          "output_type": "stream",
          "name": "stdout",
          "text": [
            "Correlation Matrix for Top Features:\n"
          ]
        },
        {
          "output_type": "execute_result",
          "data": {
            "text/plain": [
              "                        int_rate  total_rec_int      term  total_rec_prncp  \\\n",
              "int_rate                1.000000       0.484546  0.457164        -0.111854   \n",
              "total_rec_int           0.484546       1.000000  0.422215         0.445880   \n",
              "term                    0.457164       0.422215  1.000000        -0.116566   \n",
              "total_rec_prncp        -0.111854       0.445880 -0.116566         1.000000   \n",
              "total_rev_hi_lim       -0.190822       0.120276  0.063476         0.195998   \n",
              "total_pymnt             0.092383       0.717375  0.065625         0.943462   \n",
              "installment             0.119983       0.589226  0.112755         0.506902   \n",
              "revol_util              0.203597       0.157716  0.094301         0.020347   \n",
              "last_pymnt_amnt         0.073516       0.333498  0.063682         0.533306   \n",
              "vf_status_Not Verified -0.247307      -0.107006  0.037305        -0.002868   \n",
              "out_prncp               0.168570       0.611730  0.427895         0.330167   \n",
              "funded_amnt             0.147977       0.636604  0.395145         0.432480   \n",
              "vf_status_Verified      0.235094       0.088939 -0.012821        -0.010318   \n",
              "loan_amnt               0.147977       0.636604  0.395145         0.432480   \n",
              "dti                     0.207186       0.092990  0.130589        -0.051679   \n",
              "\n",
              "                        total_rev_hi_lim  total_pymnt  installment  \\\n",
              "int_rate                       -0.190822     0.092383     0.119983   \n",
              "total_rec_int                   0.120276     0.717375     0.589226   \n",
              "term                            0.063476     0.065625     0.112755   \n",
              "total_rec_prncp                 0.195998     0.943462     0.506902   \n",
              "total_rev_hi_lim                1.000000     0.197096     0.329713   \n",
              "total_pymnt                     0.197096     1.000000     0.612747   \n",
              "installment                     0.329713     0.612747     1.000000   \n",
              "revol_util                     -0.103567     0.074244     0.125059   \n",
              "last_pymnt_amnt                 0.188806     0.538606     0.568313   \n",
              "vf_status_Not Verified          0.069587    -0.041859    -0.103670   \n",
              "out_prncp                       0.351383     0.483518     0.923140   \n",
              "funded_amnt                     0.358592     0.572364     0.941177   \n",
              "vf_status_Verified             -0.025373     0.024905     0.073745   \n",
              "loan_amnt                       0.358592     0.572364     0.941177   \n",
              "dti                             0.090357    -0.005787     0.011576   \n",
              "\n",
              "                        revol_util  last_pymnt_amnt  vf_status_Not Verified  \\\n",
              "int_rate                  0.203597         0.073516               -0.247307   \n",
              "total_rec_int             0.157716         0.333498               -0.107006   \n",
              "term                      0.094301         0.063682                0.037305   \n",
              "total_rec_prncp           0.020347         0.533306               -0.002868   \n",
              "total_rev_hi_lim         -0.103567         0.188806                0.069587   \n",
              "total_pymnt               0.074244         0.538606               -0.041859   \n",
              "installment               0.125059         0.568313               -0.103670   \n",
              "revol_util                1.000000         0.060324               -0.154046   \n",
              "last_pymnt_amnt           0.060324         1.000000               -0.061279   \n",
              "vf_status_Not Verified   -0.154046        -0.061279                1.000000   \n",
              "out_prncp                 0.129296         0.492819               -0.064510   \n",
              "funded_amnt               0.125897         0.533200               -0.061943   \n",
              "vf_status_Verified        0.123323         0.043474               -0.396606   \n",
              "loan_amnt                 0.125897         0.533200               -0.061943   \n",
              "dti                       0.170329        -0.003382                0.008704   \n",
              "\n",
              "                        out_prncp  funded_amnt  vf_status_Verified  loan_amnt  \\\n",
              "int_rate                 0.168570     0.147977            0.235094   0.147977   \n",
              "total_rec_int            0.611730     0.636604            0.088939   0.636604   \n",
              "term                     0.427895     0.395145           -0.012821   0.395145   \n",
              "total_rec_prncp          0.330167     0.432480           -0.010318   0.432480   \n",
              "total_rev_hi_lim         0.351383     0.358592           -0.025373   0.358592   \n",
              "total_pymnt              0.483518     0.572364            0.024905   0.572364   \n",
              "installment              0.923140     0.941177            0.073745   0.941177   \n",
              "revol_util               0.129296     0.125897            0.123323   0.125897   \n",
              "last_pymnt_amnt          0.492819     0.533200            0.043474   0.533200   \n",
              "vf_status_Not Verified  -0.064510    -0.061943           -0.396606  -0.061943   \n",
              "out_prncp                1.000000     0.993828            0.043427   0.993828   \n",
              "funded_amnt              0.993828     1.000000            0.040231   1.000000   \n",
              "vf_status_Verified       0.043427     0.040231            1.000000   0.040231   \n",
              "loan_amnt                0.993828     1.000000            0.040231   1.000000   \n",
              "dti                      0.040318     0.032476            0.146083   0.032476   \n",
              "\n",
              "                             dti  \n",
              "int_rate                0.207186  \n",
              "total_rec_int           0.092990  \n",
              "term                    0.130589  \n",
              "total_rec_prncp        -0.051679  \n",
              "total_rev_hi_lim        0.090357  \n",
              "total_pymnt            -0.005787  \n",
              "installment             0.011576  \n",
              "revol_util              0.170329  \n",
              "last_pymnt_amnt        -0.003382  \n",
              "vf_status_Not Verified  0.008704  \n",
              "out_prncp               0.040318  \n",
              "funded_amnt             0.032476  \n",
              "vf_status_Verified      0.146083  \n",
              "loan_amnt               0.032476  \n",
              "dti                     1.000000  "
            ],
            "text/html": [
              "\n",
              "  <div id=\"df-9f573d1e-b248-43ed-9b11-c55762b2de67\" class=\"colab-df-container\">\n",
              "    <div>\n",
              "<style scoped>\n",
              "    .dataframe tbody tr th:only-of-type {\n",
              "        vertical-align: middle;\n",
              "    }\n",
              "\n",
              "    .dataframe tbody tr th {\n",
              "        vertical-align: top;\n",
              "    }\n",
              "\n",
              "    .dataframe thead th {\n",
              "        text-align: right;\n",
              "    }\n",
              "</style>\n",
              "<table border=\"1\" class=\"dataframe\">\n",
              "  <thead>\n",
              "    <tr style=\"text-align: right;\">\n",
              "      <th></th>\n",
              "      <th>int_rate</th>\n",
              "      <th>total_rec_int</th>\n",
              "      <th>term</th>\n",
              "      <th>total_rec_prncp</th>\n",
              "      <th>total_rev_hi_lim</th>\n",
              "      <th>total_pymnt</th>\n",
              "      <th>installment</th>\n",
              "      <th>revol_util</th>\n",
              "      <th>last_pymnt_amnt</th>\n",
              "      <th>vf_status_Not Verified</th>\n",
              "      <th>out_prncp</th>\n",
              "      <th>funded_amnt</th>\n",
              "      <th>vf_status_Verified</th>\n",
              "      <th>loan_amnt</th>\n",
              "      <th>dti</th>\n",
              "    </tr>\n",
              "  </thead>\n",
              "  <tbody>\n",
              "    <tr>\n",
              "      <th>int_rate</th>\n",
              "      <td>1.000000</td>\n",
              "      <td>0.484546</td>\n",
              "      <td>0.457164</td>\n",
              "      <td>-0.111854</td>\n",
              "      <td>-0.190822</td>\n",
              "      <td>0.092383</td>\n",
              "      <td>0.119983</td>\n",
              "      <td>0.203597</td>\n",
              "      <td>0.073516</td>\n",
              "      <td>-0.247307</td>\n",
              "      <td>0.168570</td>\n",
              "      <td>0.147977</td>\n",
              "      <td>0.235094</td>\n",
              "      <td>0.147977</td>\n",
              "      <td>0.207186</td>\n",
              "    </tr>\n",
              "    <tr>\n",
              "      <th>total_rec_int</th>\n",
              "      <td>0.484546</td>\n",
              "      <td>1.000000</td>\n",
              "      <td>0.422215</td>\n",
              "      <td>0.445880</td>\n",
              "      <td>0.120276</td>\n",
              "      <td>0.717375</td>\n",
              "      <td>0.589226</td>\n",
              "      <td>0.157716</td>\n",
              "      <td>0.333498</td>\n",
              "      <td>-0.107006</td>\n",
              "      <td>0.611730</td>\n",
              "      <td>0.636604</td>\n",
              "      <td>0.088939</td>\n",
              "      <td>0.636604</td>\n",
              "      <td>0.092990</td>\n",
              "    </tr>\n",
              "    <tr>\n",
              "      <th>term</th>\n",
              "      <td>0.457164</td>\n",
              "      <td>0.422215</td>\n",
              "      <td>1.000000</td>\n",
              "      <td>-0.116566</td>\n",
              "      <td>0.063476</td>\n",
              "      <td>0.065625</td>\n",
              "      <td>0.112755</td>\n",
              "      <td>0.094301</td>\n",
              "      <td>0.063682</td>\n",
              "      <td>0.037305</td>\n",
              "      <td>0.427895</td>\n",
              "      <td>0.395145</td>\n",
              "      <td>-0.012821</td>\n",
              "      <td>0.395145</td>\n",
              "      <td>0.130589</td>\n",
              "    </tr>\n",
              "    <tr>\n",
              "      <th>total_rec_prncp</th>\n",
              "      <td>-0.111854</td>\n",
              "      <td>0.445880</td>\n",
              "      <td>-0.116566</td>\n",
              "      <td>1.000000</td>\n",
              "      <td>0.195998</td>\n",
              "      <td>0.943462</td>\n",
              "      <td>0.506902</td>\n",
              "      <td>0.020347</td>\n",
              "      <td>0.533306</td>\n",
              "      <td>-0.002868</td>\n",
              "      <td>0.330167</td>\n",
              "      <td>0.432480</td>\n",
              "      <td>-0.010318</td>\n",
              "      <td>0.432480</td>\n",
              "      <td>-0.051679</td>\n",
              "    </tr>\n",
              "    <tr>\n",
              "      <th>total_rev_hi_lim</th>\n",
              "      <td>-0.190822</td>\n",
              "      <td>0.120276</td>\n",
              "      <td>0.063476</td>\n",
              "      <td>0.195998</td>\n",
              "      <td>1.000000</td>\n",
              "      <td>0.197096</td>\n",
              "      <td>0.329713</td>\n",
              "      <td>-0.103567</td>\n",
              "      <td>0.188806</td>\n",
              "      <td>0.069587</td>\n",
              "      <td>0.351383</td>\n",
              "      <td>0.358592</td>\n",
              "      <td>-0.025373</td>\n",
              "      <td>0.358592</td>\n",
              "      <td>0.090357</td>\n",
              "    </tr>\n",
              "    <tr>\n",
              "      <th>total_pymnt</th>\n",
              "      <td>0.092383</td>\n",
              "      <td>0.717375</td>\n",
              "      <td>0.065625</td>\n",
              "      <td>0.943462</td>\n",
              "      <td>0.197096</td>\n",
              "      <td>1.000000</td>\n",
              "      <td>0.612747</td>\n",
              "      <td>0.074244</td>\n",
              "      <td>0.538606</td>\n",
              "      <td>-0.041859</td>\n",
              "      <td>0.483518</td>\n",
              "      <td>0.572364</td>\n",
              "      <td>0.024905</td>\n",
              "      <td>0.572364</td>\n",
              "      <td>-0.005787</td>\n",
              "    </tr>\n",
              "    <tr>\n",
              "      <th>installment</th>\n",
              "      <td>0.119983</td>\n",
              "      <td>0.589226</td>\n",
              "      <td>0.112755</td>\n",
              "      <td>0.506902</td>\n",
              "      <td>0.329713</td>\n",
              "      <td>0.612747</td>\n",
              "      <td>1.000000</td>\n",
              "      <td>0.125059</td>\n",
              "      <td>0.568313</td>\n",
              "      <td>-0.103670</td>\n",
              "      <td>0.923140</td>\n",
              "      <td>0.941177</td>\n",
              "      <td>0.073745</td>\n",
              "      <td>0.941177</td>\n",
              "      <td>0.011576</td>\n",
              "    </tr>\n",
              "    <tr>\n",
              "      <th>revol_util</th>\n",
              "      <td>0.203597</td>\n",
              "      <td>0.157716</td>\n",
              "      <td>0.094301</td>\n",
              "      <td>0.020347</td>\n",
              "      <td>-0.103567</td>\n",
              "      <td>0.074244</td>\n",
              "      <td>0.125059</td>\n",
              "      <td>1.000000</td>\n",
              "      <td>0.060324</td>\n",
              "      <td>-0.154046</td>\n",
              "      <td>0.129296</td>\n",
              "      <td>0.125897</td>\n",
              "      <td>0.123323</td>\n",
              "      <td>0.125897</td>\n",
              "      <td>0.170329</td>\n",
              "    </tr>\n",
              "    <tr>\n",
              "      <th>last_pymnt_amnt</th>\n",
              "      <td>0.073516</td>\n",
              "      <td>0.333498</td>\n",
              "      <td>0.063682</td>\n",
              "      <td>0.533306</td>\n",
              "      <td>0.188806</td>\n",
              "      <td>0.538606</td>\n",
              "      <td>0.568313</td>\n",
              "      <td>0.060324</td>\n",
              "      <td>1.000000</td>\n",
              "      <td>-0.061279</td>\n",
              "      <td>0.492819</td>\n",
              "      <td>0.533200</td>\n",
              "      <td>0.043474</td>\n",
              "      <td>0.533200</td>\n",
              "      <td>-0.003382</td>\n",
              "    </tr>\n",
              "    <tr>\n",
              "      <th>vf_status_Not Verified</th>\n",
              "      <td>-0.247307</td>\n",
              "      <td>-0.107006</td>\n",
              "      <td>0.037305</td>\n",
              "      <td>-0.002868</td>\n",
              "      <td>0.069587</td>\n",
              "      <td>-0.041859</td>\n",
              "      <td>-0.103670</td>\n",
              "      <td>-0.154046</td>\n",
              "      <td>-0.061279</td>\n",
              "      <td>1.000000</td>\n",
              "      <td>-0.064510</td>\n",
              "      <td>-0.061943</td>\n",
              "      <td>-0.396606</td>\n",
              "      <td>-0.061943</td>\n",
              "      <td>0.008704</td>\n",
              "    </tr>\n",
              "    <tr>\n",
              "      <th>out_prncp</th>\n",
              "      <td>0.168570</td>\n",
              "      <td>0.611730</td>\n",
              "      <td>0.427895</td>\n",
              "      <td>0.330167</td>\n",
              "      <td>0.351383</td>\n",
              "      <td>0.483518</td>\n",
              "      <td>0.923140</td>\n",
              "      <td>0.129296</td>\n",
              "      <td>0.492819</td>\n",
              "      <td>-0.064510</td>\n",
              "      <td>1.000000</td>\n",
              "      <td>0.993828</td>\n",
              "      <td>0.043427</td>\n",
              "      <td>0.993828</td>\n",
              "      <td>0.040318</td>\n",
              "    </tr>\n",
              "    <tr>\n",
              "      <th>funded_amnt</th>\n",
              "      <td>0.147977</td>\n",
              "      <td>0.636604</td>\n",
              "      <td>0.395145</td>\n",
              "      <td>0.432480</td>\n",
              "      <td>0.358592</td>\n",
              "      <td>0.572364</td>\n",
              "      <td>0.941177</td>\n",
              "      <td>0.125897</td>\n",
              "      <td>0.533200</td>\n",
              "      <td>-0.061943</td>\n",
              "      <td>0.993828</td>\n",
              "      <td>1.000000</td>\n",
              "      <td>0.040231</td>\n",
              "      <td>1.000000</td>\n",
              "      <td>0.032476</td>\n",
              "    </tr>\n",
              "    <tr>\n",
              "      <th>vf_status_Verified</th>\n",
              "      <td>0.235094</td>\n",
              "      <td>0.088939</td>\n",
              "      <td>-0.012821</td>\n",
              "      <td>-0.010318</td>\n",
              "      <td>-0.025373</td>\n",
              "      <td>0.024905</td>\n",
              "      <td>0.073745</td>\n",
              "      <td>0.123323</td>\n",
              "      <td>0.043474</td>\n",
              "      <td>-0.396606</td>\n",
              "      <td>0.043427</td>\n",
              "      <td>0.040231</td>\n",
              "      <td>1.000000</td>\n",
              "      <td>0.040231</td>\n",
              "      <td>0.146083</td>\n",
              "    </tr>\n",
              "    <tr>\n",
              "      <th>loan_amnt</th>\n",
              "      <td>0.147977</td>\n",
              "      <td>0.636604</td>\n",
              "      <td>0.395145</td>\n",
              "      <td>0.432480</td>\n",
              "      <td>0.358592</td>\n",
              "      <td>0.572364</td>\n",
              "      <td>0.941177</td>\n",
              "      <td>0.125897</td>\n",
              "      <td>0.533200</td>\n",
              "      <td>-0.061943</td>\n",
              "      <td>0.993828</td>\n",
              "      <td>1.000000</td>\n",
              "      <td>0.040231</td>\n",
              "      <td>1.000000</td>\n",
              "      <td>0.032476</td>\n",
              "    </tr>\n",
              "    <tr>\n",
              "      <th>dti</th>\n",
              "      <td>0.207186</td>\n",
              "      <td>0.092990</td>\n",
              "      <td>0.130589</td>\n",
              "      <td>-0.051679</td>\n",
              "      <td>0.090357</td>\n",
              "      <td>-0.005787</td>\n",
              "      <td>0.011576</td>\n",
              "      <td>0.170329</td>\n",
              "      <td>-0.003382</td>\n",
              "      <td>0.008704</td>\n",
              "      <td>0.040318</td>\n",
              "      <td>0.032476</td>\n",
              "      <td>0.146083</td>\n",
              "      <td>0.032476</td>\n",
              "      <td>1.000000</td>\n",
              "    </tr>\n",
              "  </tbody>\n",
              "</table>\n",
              "</div>\n",
              "    <div class=\"colab-df-buttons\">\n",
              "\n",
              "  <div class=\"colab-df-container\">\n",
              "    <button class=\"colab-df-convert\" onclick=\"convertToInteractive('df-9f573d1e-b248-43ed-9b11-c55762b2de67')\"\n",
              "            title=\"Convert this dataframe to an interactive table.\"\n",
              "            style=\"display:none;\">\n",
              "\n",
              "  <svg xmlns=\"http://www.w3.org/2000/svg\" height=\"24px\" viewBox=\"0 -960 960 960\">\n",
              "    <path d=\"M120-120v-720h720v720H120Zm60-500h600v-160H180v160Zm220 220h160v-160H400v160Zm0 220h160v-160H400v160ZM180-400h160v-160H180v160Zm440 0h160v-160H620v160ZM180-180h160v-160H180v160Zm440 0h160v-160H620v160Z\"/>\n",
              "  </svg>\n",
              "    </button>\n",
              "\n",
              "  <style>\n",
              "    .colab-df-container {\n",
              "      display:flex;\n",
              "      gap: 12px;\n",
              "    }\n",
              "\n",
              "    .colab-df-convert {\n",
              "      background-color: #E8F0FE;\n",
              "      border: none;\n",
              "      border-radius: 50%;\n",
              "      cursor: pointer;\n",
              "      display: none;\n",
              "      fill: #1967D2;\n",
              "      height: 32px;\n",
              "      padding: 0 0 0 0;\n",
              "      width: 32px;\n",
              "    }\n",
              "\n",
              "    .colab-df-convert:hover {\n",
              "      background-color: #E2EBFA;\n",
              "      box-shadow: 0px 1px 2px rgba(60, 64, 67, 0.3), 0px 1px 3px 1px rgba(60, 64, 67, 0.15);\n",
              "      fill: #174EA6;\n",
              "    }\n",
              "\n",
              "    .colab-df-buttons div {\n",
              "      margin-bottom: 4px;\n",
              "    }\n",
              "\n",
              "    [theme=dark] .colab-df-convert {\n",
              "      background-color: #3B4455;\n",
              "      fill: #D2E3FC;\n",
              "    }\n",
              "\n",
              "    [theme=dark] .colab-df-convert:hover {\n",
              "      background-color: #434B5C;\n",
              "      box-shadow: 0px 1px 3px 1px rgba(0, 0, 0, 0.15);\n",
              "      filter: drop-shadow(0px 1px 2px rgba(0, 0, 0, 0.3));\n",
              "      fill: #FFFFFF;\n",
              "    }\n",
              "  </style>\n",
              "\n",
              "    <script>\n",
              "      const buttonEl =\n",
              "        document.querySelector('#df-9f573d1e-b248-43ed-9b11-c55762b2de67 button.colab-df-convert');\n",
              "      buttonEl.style.display =\n",
              "        google.colab.kernel.accessAllowed ? 'block' : 'none';\n",
              "\n",
              "      async function convertToInteractive(key) {\n",
              "        const element = document.querySelector('#df-9f573d1e-b248-43ed-9b11-c55762b2de67');\n",
              "        const dataTable =\n",
              "          await google.colab.kernel.invokeFunction('convertToInteractive',\n",
              "                                                    [key], {});\n",
              "        if (!dataTable) return;\n",
              "\n",
              "        const docLinkHtml = 'Like what you see? Visit the ' +\n",
              "          '<a target=\"_blank\" href=https://colab.research.google.com/notebooks/data_table.ipynb>data table notebook</a>'\n",
              "          + ' to learn more about interactive tables.';\n",
              "        element.innerHTML = '';\n",
              "        dataTable['output_type'] = 'display_data';\n",
              "        await google.colab.output.renderOutput(dataTable, element);\n",
              "        const docLink = document.createElement('div');\n",
              "        docLink.innerHTML = docLinkHtml;\n",
              "        element.appendChild(docLink);\n",
              "      }\n",
              "    </script>\n",
              "  </div>\n",
              "\n",
              "\n",
              "<div id=\"df-c21a7cd0-b07e-469f-bbb3-166c2e4ab5cb\">\n",
              "  <button class=\"colab-df-quickchart\" onclick=\"quickchart('df-c21a7cd0-b07e-469f-bbb3-166c2e4ab5cb')\"\n",
              "            title=\"Suggest charts\"\n",
              "            style=\"display:none;\">\n",
              "\n",
              "<svg xmlns=\"http://www.w3.org/2000/svg\" height=\"24px\"viewBox=\"0 0 24 24\"\n",
              "     width=\"24px\">\n",
              "    <g>\n",
              "        <path d=\"M19 3H5c-1.1 0-2 .9-2 2v14c0 1.1.9 2 2 2h14c1.1 0 2-.9 2-2V5c0-1.1-.9-2-2-2zM9 17H7v-7h2v7zm4 0h-2V7h2v10zm4 0h-2v-4h2v4z\"/>\n",
              "    </g>\n",
              "</svg>\n",
              "  </button>\n",
              "\n",
              "<style>\n",
              "  .colab-df-quickchart {\n",
              "      --bg-color: #E8F0FE;\n",
              "      --fill-color: #1967D2;\n",
              "      --hover-bg-color: #E2EBFA;\n",
              "      --hover-fill-color: #174EA6;\n",
              "      --disabled-fill-color: #AAA;\n",
              "      --disabled-bg-color: #DDD;\n",
              "  }\n",
              "\n",
              "  [theme=dark] .colab-df-quickchart {\n",
              "      --bg-color: #3B4455;\n",
              "      --fill-color: #D2E3FC;\n",
              "      --hover-bg-color: #434B5C;\n",
              "      --hover-fill-color: #FFFFFF;\n",
              "      --disabled-bg-color: #3B4455;\n",
              "      --disabled-fill-color: #666;\n",
              "  }\n",
              "\n",
              "  .colab-df-quickchart {\n",
              "    background-color: var(--bg-color);\n",
              "    border: none;\n",
              "    border-radius: 50%;\n",
              "    cursor: pointer;\n",
              "    display: none;\n",
              "    fill: var(--fill-color);\n",
              "    height: 32px;\n",
              "    padding: 0;\n",
              "    width: 32px;\n",
              "  }\n",
              "\n",
              "  .colab-df-quickchart:hover {\n",
              "    background-color: var(--hover-bg-color);\n",
              "    box-shadow: 0 1px 2px rgba(60, 64, 67, 0.3), 0 1px 3px 1px rgba(60, 64, 67, 0.15);\n",
              "    fill: var(--button-hover-fill-color);\n",
              "  }\n",
              "\n",
              "  .colab-df-quickchart-complete:disabled,\n",
              "  .colab-df-quickchart-complete:disabled:hover {\n",
              "    background-color: var(--disabled-bg-color);\n",
              "    fill: var(--disabled-fill-color);\n",
              "    box-shadow: none;\n",
              "  }\n",
              "\n",
              "  .colab-df-spinner {\n",
              "    border: 2px solid var(--fill-color);\n",
              "    border-color: transparent;\n",
              "    border-bottom-color: var(--fill-color);\n",
              "    animation:\n",
              "      spin 1s steps(1) infinite;\n",
              "  }\n",
              "\n",
              "  @keyframes spin {\n",
              "    0% {\n",
              "      border-color: transparent;\n",
              "      border-bottom-color: var(--fill-color);\n",
              "      border-left-color: var(--fill-color);\n",
              "    }\n",
              "    20% {\n",
              "      border-color: transparent;\n",
              "      border-left-color: var(--fill-color);\n",
              "      border-top-color: var(--fill-color);\n",
              "    }\n",
              "    30% {\n",
              "      border-color: transparent;\n",
              "      border-left-color: var(--fill-color);\n",
              "      border-top-color: var(--fill-color);\n",
              "      border-right-color: var(--fill-color);\n",
              "    }\n",
              "    40% {\n",
              "      border-color: transparent;\n",
              "      border-right-color: var(--fill-color);\n",
              "      border-top-color: var(--fill-color);\n",
              "    }\n",
              "    60% {\n",
              "      border-color: transparent;\n",
              "      border-right-color: var(--fill-color);\n",
              "    }\n",
              "    80% {\n",
              "      border-color: transparent;\n",
              "      border-right-color: var(--fill-color);\n",
              "      border-bottom-color: var(--fill-color);\n",
              "    }\n",
              "    90% {\n",
              "      border-color: transparent;\n",
              "      border-bottom-color: var(--fill-color);\n",
              "    }\n",
              "  }\n",
              "</style>\n",
              "\n",
              "  <script>\n",
              "    async function quickchart(key) {\n",
              "      const quickchartButtonEl =\n",
              "        document.querySelector('#' + key + ' button');\n",
              "      quickchartButtonEl.disabled = true;  // To prevent multiple clicks.\n",
              "      quickchartButtonEl.classList.add('colab-df-spinner');\n",
              "      try {\n",
              "        const charts = await google.colab.kernel.invokeFunction(\n",
              "            'suggestCharts', [key], {});\n",
              "      } catch (error) {\n",
              "        console.error('Error during call to suggestCharts:', error);\n",
              "      }\n",
              "      quickchartButtonEl.classList.remove('colab-df-spinner');\n",
              "      quickchartButtonEl.classList.add('colab-df-quickchart-complete');\n",
              "    }\n",
              "    (() => {\n",
              "      let quickchartButtonEl =\n",
              "        document.querySelector('#df-c21a7cd0-b07e-469f-bbb3-166c2e4ab5cb button');\n",
              "      quickchartButtonEl.style.display =\n",
              "        google.colab.kernel.accessAllowed ? 'block' : 'none';\n",
              "    })();\n",
              "  </script>\n",
              "</div>\n",
              "    </div>\n",
              "  </div>\n"
            ]
          },
          "metadata": {},
          "execution_count": 33
        }
      ]
    },
    {
      "cell_type": "markdown",
      "source": [
        "And the corresponding heatmap"
      ],
      "metadata": {
        "id": "9N1UIorc4J0s"
      }
    },
    {
      "cell_type": "code",
      "source": [
        "plt.figure(figsize=(12, 8))\n",
        "sns.heatmap(correlation_matrix, annot=True, cmap='coolwarm', fmt=\".2f\", linewidths=.5)\n",
        "plt.title('Correlation Heatmap')\n",
        "plt.show()"
      ],
      "metadata": {
        "colab": {
          "base_uri": "https://localhost:8080/",
          "height": 836
        },
        "id": "v-ctgxAb37ta",
        "outputId": "4cae316b-744d-47b2-ba1d-64126bd8022e"
      },
      "execution_count": 34,
      "outputs": [
        {
          "output_type": "display_data",
          "data": {
            "text/plain": [
              "<Figure size 1200x800 with 2 Axes>"
            ],
            "image/png": "[encoded data removed]"
          },
          "metadata": {}
        }
      ]
    },
    {
      "cell_type": "markdown",
      "source": [
        "We can see there are some high correlated columns in the heatmap"
      ],
      "metadata": {
        "id": "HRkG6R7U4AAR"
      }
    },
    {
      "cell_type": "markdown",
      "source": [
        "We will take the 30 biggest importances and retrain the forest with only these"
      ],
      "metadata": {
        "id": "21i8Dtcn4THc"
      }
    },
    {
      "cell_type": "code",
      "source": [
        "top_30 = feature_importance_df.head(30)\n",
        "desired_columns = top_30['Feature'].tolist()\n",
        "\n",
        "new_df = df[desired_columns].copy()\n",
        "\n",
        "y = df['Eligible'].to_numpy()\n",
        "\n",
        "x = new_df.to_numpy()\n",
        "\n",
        "x_train, x_test, y_train, y_test = train_test_split(x, y, test_size=0.3, random_state=0, stratify = y )\n",
        "\n",
        "random_forest_classifier = RandomForestClassifier()\n",
        "\n",
        "random_forest_classifier.fit(x_train, y_train)\n",
        "\n",
        "y_pred = random_forest_classifier.predict(x_test)\n",
        "\n",
        "accuracy2 = accuracy_score(y_test, y_pred)\n",
        "print(f\"Accuracy: {accuracy2}\")\n",
        "\n",
        "precision2 = precision_score(y_test, y_pred, average='weighted')\n",
        "print(f\"Precision: {precision2}\")\n",
        "\n",
        "recall2 = recall_score(y_test, y_pred, average='weighted')\n",
        "print(f\"Recall: {recall2}\")\n",
        "\n",
        "f12 = f1_score(y_test, y_pred, average='weighted')\n",
        "print(f\"F1 Score: {f12}\")\n",
        "\n",
        "class_report = classification_report(y_test, y_pred)\n",
        "print(\"Classification Report:\\n\", class_report)"
      ],
      "metadata": {
        "colab": {
          "base_uri": "https://localhost:8080/"
        },
        "id": "jKm3Ktg74ZRk",
        "outputId": "8575c875-f7a8-4726-dfaa-24dc02f65c05"
      },
      "execution_count": 35,
      "outputs": [
        {
          "output_type": "stream",
          "name": "stdout",
          "text": [
            "Accuracy: 0.999929746913255\n",
            "Precision: 0.9999297638325366\n",
            "Recall: 0.999929746913255\n",
            "F1 Score: 0.9999297494016287\n",
            "Classification Report:\n",
            "               precision    recall  f1-score   support\n",
            "\n",
            "           0       1.00      1.00      1.00     40332\n",
            "           1       1.00      1.00      1.00     16605\n",
            "\n",
            "    accuracy                           1.00     56937\n",
            "   macro avg       1.00      1.00      1.00     56937\n",
            "weighted avg       1.00      1.00      1.00     56937\n",
            "\n"
          ]
        }
      ]
    },
    {
      "cell_type": "markdown",
      "source": [
        "#Dimesnionality Reduction with PCA"
      ],
      "metadata": {
        "id": "T3qRyQYj7_GD"
      }
    },
    {
      "cell_type": "code",
      "source": [
        "target_column ='Eligible'\n",
        "y = df[target_column].to_numpy()\n",
        "\n",
        "# Drop the target column from the features\n",
        "x = df.drop(columns=[target_column]).to_numpy()\n",
        "\n",
        "# Split the data into training and testing sets\n",
        "x_train, x_test, y_train, y_test = train_test_split(x, y, test_size=0.3, random_state=0, stratify = y )"
      ],
      "metadata": {
        "id": "ng4HoNrB83zz"
      },
      "execution_count": 36,
      "outputs": []
    },
    {
      "cell_type": "markdown",
      "source": [
        "Find how many components are needed to keep 90% of the information"
      ],
      "metadata": {
        "id": "PqfY6gl022YC"
      }
    },
    {
      "cell_type": "code",
      "source": [
        "pca = PCA()\n",
        "X_pca = pca.fit_transform(x_train)\n",
        "\n",
        "cumulative_variance = np.cumsum(pca.explained_variance_ratio_)\n",
        "n_components = np.argmax(cumulative_variance >= 0.9) + 1\n",
        "\n",
        "print(\"Number of components to retain 90% of the information:\", n_components)\n",
        "print(\"Cumulative explained variance up to\", n_components, \"components:\", cumulative_variance[n_components - 1])\n",
        "\n",
        "plt.figure(figsize=(8, 6))\n",
        "plt.plot(range(1, len(cumulative_variance) + 1), cumulative_variance, marker='o', linestyle='-', color='b')\n",
        "plt.title('Explained Variance vs. Number of Components')\n",
        "plt.xlabel('Number of Components')\n",
        "plt.ylabel('Cumulative Explained Variance')\n",
        "plt.grid(True)\n",
        "plt.show()"
      ],
      "metadata": {
        "colab": {
          "base_uri": "https://localhost:8080/",
          "height": 600
        },
        "id": "HWAciLwc8s3c",
        "outputId": "5f26f5ad-29ce-4d85-f926-572d4c2289ff"
      },
      "execution_count": 37,
      "outputs": [
        {
          "output_type": "stream",
          "name": "stdout",
          "text": [
            "Number of components to retain 90% of the information: 2\n",
            "Cumulative explained variance up to 2 components: 0.947718520562742\n"
          ]
        },
        {
          "output_type": "display_data",
          "data": {
            "text/plain": [
              "<Figure size 800x600 with 1 Axes>"
            ],
            "image/png": "[encoded data removed]"
          },
          "metadata": {}
        }
      ]
    },
    {
      "cell_type": "markdown",
      "source": [
        "Keep only the 0.9 of the information"
      ],
      "metadata": {
        "id": "zJg_hIwP2-AA"
      }
    },
    {
      "cell_type": "code",
      "source": [
        "pca = PCA(n_components = n_components)\n",
        "x_train_pca = pca.fit_transform(x_train)\n",
        "x_test_pca = pca.transform(x_test)\n",
        "\n",
        "random_forest_classifier = RandomForestClassifier()\n",
        "\n",
        "random_forest_classifier.fit(x_train_pca, y_train)\n",
        "\n",
        "y_pred = random_forest_classifier.predict(x_test_pca)\n",
        "\n",
        "accuracy3 = accuracy_score(y_test, y_pred)\n",
        "print(f\"Accuracy: {accuracy3}\")\n",
        "\n",
        "precision3 = precision_score(y_test, y_pred, average='weighted')\n",
        "print(f\"Precision: {precision3}\")\n",
        "\n",
        "recall3 = recall_score(y_test, y_pred, average='weighted')\n",
        "print(f\"Recall: {recall3}\")\n",
        "\n",
        "f13 = f1_score(y_test, y_pred, average='weighted')\n",
        "print(f\"F1 Score: {f13}\")\n",
        "\n",
        "class_report = classification_report(y_test, y_pred)\n",
        "print(\"Classification Report:\\n\", class_report)"
      ],
      "metadata": {
        "colab": {
          "base_uri": "https://localhost:8080/"
        },
        "id": "aQ-abW0H-Rvy",
        "outputId": "ec9c7ef4-b5f6-4129-823c-147b0c4847ed"
      },
      "execution_count": 38,
      "outputs": [
        {
          "output_type": "stream",
          "name": "stdout",
          "text": [
            "Accuracy: 0.6604668317614205\n",
            "Precision: 0.6084438342842593\n",
            "Recall: 0.6604668317614205\n",
            "F1 Score: 0.622550422270457\n",
            "Classification Report:\n",
            "               precision    recall  f1-score   support\n",
            "\n",
            "           0       0.72      0.86      0.78     40332\n",
            "           1       0.34      0.18      0.24     16605\n",
            "\n",
            "    accuracy                           0.66     56937\n",
            "   macro avg       0.53      0.52      0.51     56937\n",
            "weighted avg       0.61      0.66      0.62     56937\n",
            "\n"
          ]
        }
      ]
    },
    {
      "cell_type": "markdown",
      "source": [
        "We can see that even if these 2 dimensions can keep the 90% of the information due to the variance, unfortunately it doesn't work well with the random forest"
      ],
      "metadata": {
        "id": "aChVB3UQ4iJG"
      }
    },
    {
      "cell_type": "markdown",
      "source": [
        "#LDA"
      ],
      "metadata": {
        "id": "-leT735n94tp"
      }
    },
    {
      "cell_type": "markdown",
      "source": [
        "Make some 2 indices for LDA"
      ],
      "metadata": {
        "id": "DpH50z9R-ACZ"
      }
    },
    {
      "cell_type": "code",
      "source": [
        "indices_to_replace = df[df['Eligible'] == 0].sample(frac=0.5).index\n",
        "\n",
        "# Replace those indices with 2\n",
        "df.loc[indices_to_replace, 'Eligible'] = 2\n",
        "\n",
        "\n",
        "value_counts = df['Eligible'].value_counts()\n",
        "print (value_counts)\n",
        "\n",
        "# Creating a bar plot\n",
        "plt.bar(value_counts.index, value_counts.values)\n",
        "\n",
        "\n",
        "plt.xlim(-0.5, 2.5)  # Adjusting x-axis limits for better visualization\n",
        "\n",
        "# Adding labels and title\n",
        "plt.xlabel('Eligibility')\n",
        "plt.ylabel('Count')\n",
        "plt.title('Distribution of Eligibility')\n",
        "\n",
        "# Show the plot\n",
        "plt.show()"
      ],
      "metadata": {
        "colab": {
          "base_uri": "https://localhost:8080/",
          "height": 544
        },
        "id": "j4L1yEuM3vEO",
        "outputId": "031e6672-d985-4e47-cefc-8bff8b82adab"
      },
      "execution_count": 39,
      "outputs": [
        {
          "output_type": "stream",
          "name": "stdout",
          "text": [
            "2    67220\n",
            "0    67219\n",
            "1    55348\n",
            "Name: Eligible, dtype: int64\n"
          ]
        },
        {
          "output_type": "display_data",
          "data": {
            "text/plain": [
              "<Figure size 640x480 with 1 Axes>"
            ],
            "image/png": "[encoded data removed]"
          },
          "metadata": {}
        }
      ]
    },
    {
      "cell_type": "markdown",
      "source": [
        "Perform LDA"
      ],
      "metadata": {
        "id": "hAxgWWDD-EuX"
      }
    },
    {
      "cell_type": "code",
      "source": [
        "target_column ='Eligible'\n",
        "y = df[target_column].to_numpy()\n",
        "\n",
        "# Drop the target column from the features\n",
        "x = df.drop(columns=[target_column]).to_numpy()\n",
        "\n",
        "from sklearn.discriminant_analysis import LinearDiscriminantAnalysis\n",
        "\n",
        "lda = LinearDiscriminantAnalysis(n_components=2)\n",
        "X_lda = lda.fit_transform(x, y)\n"
      ],
      "metadata": {
        "id": "QWT3RwOH564H"
      },
      "execution_count": 40,
      "outputs": []
    },
    {
      "cell_type": "markdown",
      "source": [
        "Replace the 2 indices with the original ones"
      ],
      "metadata": {
        "id": "hHQXvscH-Gpa"
      }
    },
    {
      "cell_type": "code",
      "source": [
        "mask = (y == 2)\n",
        "\n",
        "# Set the elements where the mask is True to 0\n",
        "y[mask] = 0\n",
        "\n",
        "value_counts = pd.Series(y).value_counts()\n",
        "print (value_counts)\n",
        "\n",
        "# Creating a bar plot\n",
        "plt.bar(value_counts.index, value_counts.values)\n",
        "\n",
        "\n",
        "plt.xlim(-0.5, 1.5)  # Adjusting x-axis limits for better visualization\n",
        "\n",
        "# Adding labels and title\n",
        "plt.xlabel('Eligibility')\n",
        "plt.ylabel('Count')\n",
        "plt.title('Distribution of Eligibility')\n",
        "\n",
        "# Show the plot\n",
        "plt.show()\n",
        "\n",
        "\n",
        "\n",
        "# Split the data into training and testing sets\n",
        "x_train, x_test, y_train, y_test = train_test_split(X_lda, y, test_size=0.3, random_state=0, stratify = y )\n",
        "\n"
      ],
      "metadata": {
        "colab": {
          "base_uri": "https://localhost:8080/",
          "height": 526
        },
        "id": "cct_ERfV5YPL",
        "outputId": "90e64c43-752a-4779-e573-16b43e183f39"
      },
      "execution_count": 46,
      "outputs": [
        {
          "output_type": "stream",
          "name": "stdout",
          "text": [
            "0    134439\n",
            "1     55348\n",
            "dtype: int64\n"
          ]
        },
        {
          "output_type": "display_data",
          "data": {
            "text/plain": [
              "<Figure size 640x480 with 1 Axes>"
            ],
            "image/png": "[encoded data removed]"
          },
          "metadata": {}
        }
      ]
    },
    {
      "cell_type": "markdown",
      "source": [
        "Plot the x_train and x_test in 2d"
      ],
      "metadata": {
        "id": "Q5Zq9kiD-LJh"
      }
    },
    {
      "cell_type": "code",
      "source": [
        "x_train_class_0 = x_train[y_train == 0]\n",
        "x_train_class_1 = x_train[y_train == 1]\n",
        "\n",
        "# Plotting\n",
        "plt.scatter(x_train_class_0[:, 0], x_train_class_0[:, 1], c='blue', label='Not Eligible for loan')\n",
        "plt.scatter(x_train_class_1[:, 0], x_train_class_1[:, 1], c='orange', label='Eligible for loan')\n",
        "\n",
        "# Add labels and legend\n",
        "plt.xlabel('Feature 1')\n",
        "plt.ylabel('Feature 2')\n",
        "plt.legend()\n",
        "plt.title('Scatter Plot of x_train')\n",
        "\n",
        "# Show the plot\n",
        "plt.show()\n",
        "\n",
        "x_test_class_0 = x_test[y_test == 0]\n",
        "x_test_class_1 = x_test[y_test == 1]\n",
        "\n",
        "# Plotting\n",
        "plt.scatter(x_test_class_0[:, 0], x_test_class_0[:, 1], c='blue', label='Not Eligible for loan')\n",
        "plt.scatter(x_test_class_1[:, 0], x_test_class_1[:, 1], c='orange', label='Eligible for loan')\n",
        "\n",
        "# Add labels and legend\n",
        "plt.xlabel('Feature 1')\n",
        "plt.ylabel('Feature 2')\n",
        "plt.legend()\n",
        "plt.title('Scatter Plot of x_test')\n",
        "\n",
        "# Show the plot\n",
        "plt.show()\n"
      ],
      "metadata": {
        "colab": {
          "base_uri": "https://localhost:8080/",
          "height": 927
        },
        "id": "3DVnCnx-615d",
        "outputId": "32ed133d-1573-43af-ee3c-0639d8b5e63a"
      },
      "execution_count": 47,
      "outputs": [
        {
          "output_type": "display_data",
          "data": {
            "text/plain": [
              "<Figure size 640x480 with 1 Axes>"
            ],
            "image/png": "[encoded data removed]"
          },
          "metadata": {}
        },
        {
          "output_type": "display_data",
          "data": {
            "text/plain": [
              "<Figure size 640x480 with 1 Axes>"
            ],
            "image/png": "[encoded data removed]"
          },
          "metadata": {}
        }
      ]
    },
    {
      "cell_type": "markdown",
      "source": [
        "Predict with LDA"
      ],
      "metadata": {
        "id": "UDuwSO8a-OUA"
      }
    },
    {
      "cell_type": "code",
      "source": [
        "target_column ='Eligible'\n",
        "y = df[target_column].to_numpy()\n",
        "\n",
        "# Drop the target column from the features\n",
        "x = df.drop(columns=[target_column]).to_numpy()\n",
        "\n",
        "\n",
        "x_train, x_test, y_train, y_test = train_test_split(x, y, test_size=0.3, random_state=0, stratify = y )\n",
        "\n",
        "y_pred = lda.predict(x_test)\n",
        "\n",
        "mask = (y_test == 2)\n",
        "mask = (y_pred==2)\n",
        "\n",
        "# Set the elements where the mask is True to 0\n",
        "y_test[mask] = 0\n",
        "y_pred[mask] = 0\n",
        "\n",
        "accuracy4 = accuracy_score(y_test, y_pred)\n",
        "print(f\"Accuracy: {accuracy4}\")\n",
        "\n",
        "precision4 = precision_score(y_test, y_pred, average='weighted')\n",
        "print(f\"Precision: {precision4}\")\n",
        "\n",
        "recall4 = recall_score(y_test, y_pred, average='weighted')\n",
        "print(f\"Recall: {recall4}\")\n",
        "\n",
        "f14 = f1_score(y_test, y_pred, average='weighted')\n",
        "print(f\"F1 Score: {f14}\")\n",
        "\n",
        "class_report = classification_report(y_test, y_pred)\n",
        "print(\"Classification Report:\\n\", class_report)"
      ],
      "metadata": {
        "colab": {
          "base_uri": "https://localhost:8080/"
        },
        "id": "LK86ksEw8OE_",
        "outputId": "762f483d-4e59-4355-bdc5-17cd98e43828"
      },
      "execution_count": 43,
      "outputs": [
        {
          "output_type": "stream",
          "name": "stdout",
          "text": [
            "Accuracy: 0.9278500799128861\n",
            "Precision: 0.9417637962587624\n",
            "Recall: 0.9278500799128861\n",
            "F1 Score: 0.929862532247057\n",
            "Classification Report:\n",
            "               precision    recall  f1-score   support\n",
            "\n",
            "           0       1.00      0.90      0.95     40348\n",
            "           1       0.80      1.00      0.89     16589\n",
            "\n",
            "    accuracy                           0.93     56937\n",
            "   macro avg       0.90      0.95      0.92     56937\n",
            "weighted avg       0.94      0.93      0.93     56937\n",
            "\n"
          ]
        }
      ]
    }
  ]
}