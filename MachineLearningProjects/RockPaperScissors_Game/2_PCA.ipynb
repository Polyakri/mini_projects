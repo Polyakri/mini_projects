{
  "nbformat": 4,
  "nbformat_minor": 0,
  "metadata": {
    "colab": {
      "provenance": [],
      "authorship_tag": "ABX9TyMHO1FCtubLWCpz/P1NhuTg",
      "include_colab_link": true
    },
    "kernelspec": {
      "name": "python3",
      "display_name": "Python 3"
    },
    "language_info": {
      "name": "python"
    }
  },
  "cells": [
    {
      "cell_type": "markdown",
      "metadata": {
        "id": "view-in-github",
        "colab_type": "text"
      },
      "source": [
        "<a href=\"https://colab.research.google.com/github/Polyakri/projects/blob/main/MachineLearningProjects/RockPaperScissors_Game/2_PCA.ipynb\" target=\"_parent\"><img src=\"https://colab.research.google.com/assets/colab-badge.svg\" alt=\"Open In Colab\"/></a>"
      ]
    },
    {
      "cell_type": "markdown",
      "source": [
        "#Importing the nessecary libraries"
      ],
      "metadata": {
        "id": "qxQ0dkuvCXgd"
      }
    },
    {
      "cell_type": "code",
      "execution_count": null,
      "metadata": {
        "colab": {
          "base_uri": "https://localhost:8080/"
        },
        "id": "AOjsj9JYPrpY",
        "outputId": "c1b22890-6abe-4dbc-edd0-63b79669e952"
      },
      "outputs": [
        {
          "output_type": "stream",
          "name": "stdout",
          "text": [
            "Mounted at /content/drive\n"
          ]
        }
      ],
      "source": [
        "import os\n",
        "import numpy as np\n",
        "from sklearn.model_selection import train_test_split\n",
        "from sklearn.decomposition import PCA\n",
        "import matplotlib.pyplot as plt\n",
        "import joblib\n",
        "import cv2\n",
        "\n",
        "from google.colab import drive\n",
        "\n",
        "\n",
        "# Mount Google Drive\n",
        "drive.mount('/content/drive')"
      ]
    },
    {
      "cell_type": "markdown",
      "source": [
        "#Load the data"
      ],
      "metadata": {
        "id": "MeFnTESgCbz5"
      }
    },
    {
      "cell_type": "markdown",
      "source": [
        "Depending on what i wanted to do i picked different datasets"
      ],
      "metadata": {
        "id": "XtlOsInACgfV"
      }
    },
    {
      "cell_type": "code",
      "source": [
        "x_data = np.load('drive/MyDrive/MLFinalEx/NoPCA/x_data_full_flipped.npy')\n",
        "y_data = np.load('drive/MyDrive/MLFinalEx/NoPCA/y_data_full_flipped.npy')\n",
        "\n",
        "print(\"Shape x_data after reshape:\", x_data.shape)\n",
        "print(\"Shape y_data:\", y_data.shape)"
      ],
      "metadata": {
        "colab": {
          "base_uri": "https://localhost:8080/"
        },
        "id": "jRtxxbQyPzAS",
        "outputId": "c9390bde-d63a-44a6-c913-3e38a2e10723"
      },
      "execution_count": null,
      "outputs": [
        {
          "output_type": "stream",
          "name": "stdout",
          "text": [
            "Shape x_data after reshape: (4376, 60000)\n",
            "Shape y_data: (4376,)\n"
          ]
        }
      ]
    },
    {
      "cell_type": "code",
      "source": [
        "x_train, x_test, y_train, y_test = train_test_split(\n",
        "    x_data, y_data, test_size=0.2, random_state=42, stratify=y_data\n",
        ")"
      ],
      "metadata": {
        "id": "0MpJAEUrR8yu"
      },
      "execution_count": null,
      "outputs": []
    },
    {
      "cell_type": "markdown",
      "source": [
        "#Perform PCA"
      ],
      "metadata": {
        "id": "O72u-1GiCeRu"
      }
    },
    {
      "cell_type": "markdown",
      "source": [
        "Depending how much percentage I wanted to keep I changed the percentage value"
      ],
      "metadata": {
        "id": "3A2l0cH5CuEs"
      }
    },
    {
      "cell_type": "code",
      "source": [
        "# Create PCA instance\n",
        "percentage = 0.9\n",
        "\n",
        "pca = PCA()\n",
        "\n",
        "# Fit the data and compute the cumulative explained variance ratio\n",
        "pca.fit(x_data)\n",
        "explained_variance_ratio_cumsum = np.cumsum(pca.explained_variance_ratio_)\n",
        "\n",
        "# Determine the number of components to retain 90% of the information\n",
        "num_components = np.argmax(explained_variance_ratio_cumsum >= percentage) + 1\n",
        "\n",
        "# Apply PCA with the determined number of components to both X_train and X_test\n",
        "pca = PCA(n_components=num_components)\n",
        "X_train_transformed = pca.fit_transform(x_train)\n",
        "X_test_transformed = pca.transform(x_test)\n",
        "\n",
        "plt.plot(explained_variance_ratio_cumsum, marker='o')\n",
        "plt.xlabel('Number of Components')\n",
        "plt.ylabel('Cumulative Explained Variance Ratio')\n",
        "plt.title('Cumulative Explained Variance Ratio vs. Number of Components')\n",
        "plt.axvline(x=num_components, color='r', linestyle='--', label=f'{num_components} Components for 90% Information')\n",
        "plt.legend()\n",
        "plt.show()\n",
        "\n",
        "\n",
        "# Print the result or use X_train_transformed and X_test_transformed as needed\n",
        "print(\"Original number of features:\", x_train.shape[1])\n",
        "print(\"Number of components to retain 90% of information:\", num_components)\n",
        "print(\"Transformed training data shape:\", X_train_transformed.shape)\n",
        "print(\"Transformed testing data shape:\", X_test_transformed.shape)"
      ],
      "metadata": {
        "colab": {
          "base_uri": "https://localhost:8080/",
          "height": 544
        },
        "id": "NwrldZ91Qk2Z",
        "outputId": "3fc4f372-e3c2-4aa4-ea2c-33c8a78a6e68"
      },
      "execution_count": null,
      "outputs": [
        {
          "output_type": "display_data",
          "data": {
            "text/plain": [
              "<Figure size 640x480 with 1 Axes>"
            ],
            "image/png": "[encoded data removed]"
          },
          "metadata": {}
        },
        {
          "output_type": "stream",
          "name": "stdout",
          "text": [
            "Original number of features: 60000\n",
            "Number of components to retain 90% of information: 137\n",
            "Transformed training data shape: (3500, 137)\n",
            "Transformed testing data shape: (876, 137)\n"
          ]
        }
      ]
    },
    {
      "cell_type": "markdown",
      "source": [
        "Save the data"
      ],
      "metadata": {
        "id": "OzlEznKUCn8r"
      }
    },
    {
      "cell_type": "code",
      "source": [
        "directory_path = 'drive/MyDrive/MLFinalEx/PCA_90'\n",
        "\n",
        "np.save(os.path.join(directory_path, 'x_train_full_flipped_transformed.npy'), X_train_transformed)\n",
        "\n",
        "# Save x_test_transformed\n",
        "np.save(os.path.join(directory_path, 'x_test_full_flipped_transformed.npy'), X_test_transformed)\n",
        "\n",
        "# Save y_train\n",
        "np.save(os.path.join(directory_path, 'y_train_full_flipped_original.npy'), y_train)\n",
        "\n",
        "# Save y_test\n",
        "np.save(os.path.join(directory_path, 'y_test_full_flipped_original.npy'), y_test)\n",
        "\n",
        "joblib.dump(pca, os.path.join(directory_path, 'pca_model_flipped.joblib'))"
      ],
      "metadata": {
        "colab": {
          "base_uri": "https://localhost:8080/"
        },
        "id": "oiGbi7mKTgaz",
        "outputId": "12bebd23-a013-4ef5-dd85-709c2af7fdc2"
      },
      "execution_count": null,
      "outputs": [
        {
          "output_type": "execute_result",
          "data": {
            "text/plain": [
              "['drive/MyDrive/MLFinalEx/PCA_90/pca_model_flipped.joblib']"
            ]
          },
          "metadata": {},
          "execution_count": 5
        }
      ]
    }
  ]
}