{
  "nbformat": 4,
  "nbformat_minor": 0,
  "metadata": {
    "colab": {
      "provenance": [],
      "authorship_tag": "ABX9TyPxuZcpmetlH6EYpfVLoLJJ",
      "include_colab_link": true
    },
    "kernelspec": {
      "name": "python3",
      "display_name": "Python 3"
    },
    "language_info": {
      "name": "python"
    }
  },
  "cells": [
    {
      "cell_type": "markdown",
      "metadata": {
        "id": "view-in-github",
        "colab_type": "text"
      },
      "source": [
        "<a href=\"https://colab.research.google.com/github/Polyakri/projects/blob/main/Data_Science/Project1.ipynb\" target=\"_parent\"><img src=\"https://colab.research.google.com/assets/colab-badge.svg\" alt=\"Open In Colab\"/></a>"
      ]
    },
    {
      "cell_type": "markdown",
      "source": [
        "Import the dataset and print it"
      ],
      "metadata": {
        "id": "B0jYxCdkuC9a"
      }
    },
    {
      "cell_type": "code",
      "execution_count": 34,
      "metadata": {
        "colab": {
          "base_uri": "https://localhost:8080/"
        },
        "id": "AJf-FocptKla",
        "outputId": "c7f733f7-529d-41db-a82e-abf32d8e0e5a"
      },
      "outputs": [
        {
          "output_type": "stream",
          "name": "stdout",
          "text": [
            "     experience_level employment_type                 job_title  \\\n",
            "0                  SE              FT  Principal Data Scientist   \n",
            "1                  MI              CT               ML Engineer   \n",
            "2                  MI              CT               ML Engineer   \n",
            "3                  SE              FT            Data Scientist   \n",
            "4                  SE              FT            Data Scientist   \n",
            "...               ...             ...                       ...   \n",
            "3750               SE              FT            Data Scientist   \n",
            "3751               MI              FT  Principal Data Scientist   \n",
            "3752               EN              FT            Data Scientist   \n",
            "3753               EN              CT     Business Data Analyst   \n",
            "3754               SE              FT      Data Science Manager   \n",
            "\n",
            "      salary_in_usd employee_residence  remote_ratio company_location  \\\n",
            "0             85847                 ES           100               ES   \n",
            "1             30000                 US           100               US   \n",
            "2             25500                 US           100               US   \n",
            "3            175000                 CA           100               CA   \n",
            "4            120000                 CA           100               CA   \n",
            "...             ...                ...           ...              ...   \n",
            "3750         412000                 US           100               US   \n",
            "3751         151000                 US           100               US   \n",
            "3752         105000                 US           100               US   \n",
            "3753         100000                 US           100               US   \n",
            "3754          94665                 IN            50               IN   \n",
            "\n",
            "     company_size  \n",
            "0               L  \n",
            "1               S  \n",
            "2               S  \n",
            "3               M  \n",
            "4               M  \n",
            "...           ...  \n",
            "3750            L  \n",
            "3751            L  \n",
            "3752            S  \n",
            "3753            L  \n",
            "3754            L  \n",
            "\n",
            "[3755 rows x 8 columns]\n"
          ]
        }
      ],
      "source": [
        "import pandas as pd\n",
        "\n",
        "# Read the CSV file\n",
        "data = pd.read_csv('ds_salaries.csv')\n",
        "\n",
        "#Drop data i think are irrelevant\n",
        "data.drop('work_year', axis=1, inplace=True)\n",
        "data.drop('salary_currency', axis=1, inplace=True)\n",
        "data.drop('salary', axis=1, inplace=True)\n",
        "\n",
        "\n",
        "# Print the contents of the CSV file\n",
        "print(data)\n"
      ]
    },
    {
      "cell_type": "code",
      "source": [
        "missing_values = data.isnull().sum()\n",
        "\n",
        "if(missing_values.sum()==0):\n",
        "  print (\"No dropped rows\")\n",
        "else:\n",
        "  clean_data = data.dropna()\n",
        "  rows_dropped = data.rows()-clean_data.rows()\n",
        "  print(f\"Dropped {rows_dropped} rows\")\n",
        "  data = clean_data\n",
        "\n"
      ],
      "metadata": {
        "colab": {
          "base_uri": "https://localhost:8080/"
        },
        "id": "DuQilpyPz3hH",
        "outputId": "6a12b3d3-6dfa-44d1-8487-b61e899c1e65"
      },
      "execution_count": 35,
      "outputs": [
        {
          "output_type": "stream",
          "name": "stdout",
          "text": [
            "No dropped rows\n"
          ]
        }
      ]
    },
    {
      "cell_type": "markdown",
      "source": [
        "Print each different job title."
      ],
      "metadata": {
        "id": "EFmN16Vhu12d"
      }
    },
    {
      "cell_type": "code",
      "source": [
        "# Count the occurrences of each unique element in the \"Job Title\" column\n",
        "job_title_counts = data['job_title'].value_counts()\n",
        "\n",
        "# Print the count of each unique job title\n",
        "for job_title, count in job_title_counts.items():\n",
        "    print(f'{job_title}')"
      ],
      "metadata": {
        "colab": {
          "base_uri": "https://localhost:8080/"
        },
        "id": "K4tzwtM6u1OM",
        "outputId": "a011ca55-e49b-472e-b2a3-8fec132b7180"
      },
      "execution_count": 36,
      "outputs": [
        {
          "output_type": "stream",
          "name": "stdout",
          "text": [
            "Data Engineer\n",
            "Data Scientist\n",
            "Data Analyst\n",
            "Machine Learning Engineer\n",
            "Analytics Engineer\n",
            "Data Architect\n",
            "Research Scientist\n",
            "Data Science Manager\n",
            "Applied Scientist\n",
            "Research Engineer\n",
            "ML Engineer\n",
            "Data Manager\n",
            "Machine Learning Scientist\n",
            "Data Science Consultant\n",
            "Data Analytics Manager\n",
            "Computer Vision Engineer\n",
            "AI Scientist\n",
            "BI Data Analyst\n",
            "Business Data Analyst\n",
            "Data Specialist\n",
            "BI Developer\n",
            "Applied Machine Learning Scientist\n",
            "Machine Learning Infrastructure Engineer\n",
            "Big Data Engineer\n",
            "Director of Data Science\n",
            "AI Developer\n",
            "Applied Data Scientist\n",
            "Head of Data\n",
            "Machine Learning Software Engineer\n",
            "Data Operations Engineer\n",
            "ETL Developer\n",
            "BI Analyst\n",
            "Head of Data Science\n",
            "Lead Data Scientist\n",
            "Data Science Lead\n",
            "Principal Data Scientist\n",
            "Data Quality Analyst\n",
            "NLP Engineer\n",
            "Machine Learning Developer\n",
            "Data Infrastructure Engineer\n",
            "Lead Data Engineer\n",
            "Machine Learning Researcher\n",
            "Deep Learning Engineer\n",
            "Data Analytics Engineer\n",
            "Lead Data Analyst\n",
            "Cloud Database Engineer\n",
            "Computer Vision Software Engineer\n",
            "Product Data Analyst\n",
            "Data Science Engineer\n",
            "MLOps Engineer\n",
            "3D Computer Vision Researcher\n",
            "Business Intelligence Engineer\n",
            "Data Operations Analyst\n",
            "Machine Learning Research Engineer\n",
            "Cloud Data Engineer\n",
            "Machine Learning Manager\n",
            "Lead Machine Learning Engineer\n",
            "Financial Data Analyst\n",
            "Data Scientist Lead\n",
            "Data Analytics Consultant\n",
            "Marketing Data Analyst\n",
            "Data Modeler\n",
            "Principal Data Analyst\n",
            "Principal Data Engineer\n",
            "Data Lead\n",
            "Autonomous Vehicle Technician\n",
            "Insight Analyst\n",
            "ETL Engineer\n",
            "Data Analytics Lead\n",
            "Applied Machine Learning Engineer\n",
            "Data Analytics Specialist\n",
            "AI Programmer\n",
            "Data Strategist\n",
            "Big Data Architect\n",
            "Software Data Engineer\n",
            "Principal Data Architect\n",
            "Head of Machine Learning\n",
            "Cloud Data Architect\n",
            "Data DevOps Engineer\n",
            "BI Data Engineer\n",
            "Staff Data Scientist\n",
            "Deep Learning Researcher\n",
            "Staff Data Analyst\n",
            "Product Data Scientist\n",
            "Power BI Developer\n",
            "Compliance Data Analyst\n",
            "Data Science Tech Lead\n",
            "Data Management Specialist\n",
            "Principal Machine Learning Engineer\n",
            "Azure Data Engineer\n",
            "Manager Data Management\n",
            "Marketing Data Engineer\n",
            "Finance Data Analyst\n"
          ]
        }
      ]
    },
    {
      "cell_type": "markdown",
      "source": [
        "Find mean of each of job title regardless experience"
      ],
      "metadata": {
        "id": "xlbrg4HOwvuI"
      }
    },
    {
      "cell_type": "code",
      "source": [
        "mean_salary_by_job = data.groupby('job_title')['salary_in_usd'].mean()\n",
        "\n",
        "# 2 decimal digits precision\n",
        "mean_salary_by_job = mean_salary_by_job.round(2)\n",
        "\n",
        "mean_salary_by_job= mean_salary_by_job.sort_values(ascending=False)\n",
        "# Print the mean salary for each job title\n",
        "for job_title, mean_salary in mean_salary_by_job.items():\n",
        "    print(f\" {job_title} - {mean_salary}\")"
      ],
      "metadata": {
        "colab": {
          "base_uri": "https://localhost:8080/"
        },
        "id": "A0K343soxYdy",
        "outputId": "1615deed-522f-49b9-a072-42d2b8e8f633"
      },
      "execution_count": 43,
      "outputs": [
        {
          "output_type": "stream",
          "name": "stdout",
          "text": [
            " Data Science Tech Lead - 375000.0\n",
            " Cloud Data Architect - 250000.0\n",
            " Data Lead - 212500.0\n",
            " Data Analytics Lead - 211254.5\n",
            " Principal Data Scientist - 198171.12\n",
            " Director of Data Science - 195140.73\n",
            " Principal Data Engineer - 192500.0\n",
            " Machine Learning Software Engineer - 192420.0\n",
            " Data Science Manager - 191278.78\n",
            " Applied Scientist - 190264.48\n",
            " Principal Machine Learning Engineer - 190000.0\n",
            " Head of Data - 183857.5\n",
            " Data Infrastructure Engineer - 175051.67\n",
            " Business Intelligence Engineer - 174150.0\n",
            " Machine Learning Scientist - 163220.08\n",
            " Research Engineer - 163108.38\n",
            " Data Architect - 161713.77\n",
            " Research Scientist - 161214.2\n",
            " Head of Data Science - 160591.67\n",
            " ML Engineer - 158352.44\n",
            " Data Science Lead - 156334.38\n",
            " Machine Learning Manager - 155701.33\n",
            " Cloud Database Engineer - 155000.0\n",
            " Machine Learning Engineer - 154690.73\n",
            " Analytics Engineer - 152368.63\n",
            " Marketing Data Analyst - 144327.0\n",
            " Computer Vision Engineer - 143536.11\n",
            " Machine Learning Infrastructure Engineer - 143011.82\n",
            " Data Engineer - 142785.73\n",
            " Data Analytics Manager - 141879.09\n",
            " Data Scientist - 140869.77\n",
            " Lead Data Engineer - 139230.33\n",
            " AI Developer - 136666.09\n",
            " Data Scientist Lead - 136153.0\n",
            " NLP Engineer - 132785.29\n",
            " ETL Developer - 131453.6\n",
            " BI Developer - 129846.15\n",
            " MLOps Engineer - 129000.0\n",
            " Big Data Architect - 125802.5\n",
            " Manager Data Management - 125000.0\n",
            " Deep Learning Researcher - 123405.0\n",
            " Principal Data Analyst - 122500.0\n",
            " Data Specialist - 119642.86\n",
            " Data Modeler - 118900.0\n",
            " Data Manager - 116613.34\n",
            " Applied Data Scientist - 113726.3\n",
            " Lead Data Scientist - 112775.56\n",
            " AI Scientist - 110120.88\n",
            " Applied Machine Learning Scientist - 109452.83\n",
            " Deep Learning Engineer - 109241.0\n",
            " Data Analyst - 108716.23\n",
            " Machine Learning Researcher - 105872.67\n",
            " Staff Data Scientist - 105000.0\n",
            " BI Analyst - 104888.89\n",
            " Financial Data Analyst - 101666.67\n",
            " Azure Data Engineer - 100000.0\n",
            " Applied Machine Learning Engineer - 99875.5\n",
            " Data Operations Engineer - 98485.0\n",
            " Data Analytics Specialist - 95000.0\n",
            " Data Science Engineer - 93482.0\n",
            " Data Operations Analyst - 90562.5\n",
            " Cloud Data Engineer - 87300.67\n",
            " Data Science Consultant - 87011.75\n",
            " Data Quality Analyst - 85311.43\n",
            " Lead Machine Learning Engineer - 82927.67\n",
            " Data Analytics Consultant - 81500.0\n",
            " Data Strategist - 81000.0\n",
            " Computer Vision Software Engineer - 77694.6\n",
            " Head of Machine Learning - 76309.0\n",
            " Machine Learning Developer - 74518.29\n",
            " Lead Data Analyst - 72569.4\n",
            " ETL Engineer - 71394.5\n",
            " Big Data Engineer - 68672.0\n",
            " Data Management Specialist - 68293.0\n",
            " Data Analytics Engineer - 67866.17\n",
            " Marketing Data Engineer - 66970.0\n",
            " Business Data Analyst - 66065.4\n",
            " Software Data Engineer - 62510.0\n",
            " Finance Data Analyst - 61896.0\n",
            " BI Data Analyst - 60440.13\n",
            " BI Data Engineer - 60000.0\n",
            " Product Data Analyst - 56497.2\n",
            " AI Programmer - 55000.0\n",
            " Data DevOps Engineer - 53654.0\n",
            " Insight Analyst - 46786.0\n",
            " Machine Learning Research Engineer - 42819.25\n",
            " Principal Data Architect - 38154.0\n",
            " Compliance Data Analyst - 30000.0\n",
            " Autonomous Vehicle Technician - 26277.5\n",
            " 3D Computer Vision Researcher - 21352.25\n",
            " Staff Data Analyst - 15000.0\n",
            " Product Data Scientist - 8000.0\n",
            " Power BI Developer - 5409.0\n"
          ]
        }
      ]
    }
  ]
}